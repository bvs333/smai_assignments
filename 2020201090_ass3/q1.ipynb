{
 "cells": [
  {
   "cell_type": "code",
   "execution_count": null,
   "metadata": {
    "colab": {
     "base_uri": "https://localhost:8080/"
    },
    "id": "7D559a95Molb",
    "outputId": "c482fc6e-1da8-425f-b508-9db896dea875"
   },
   "outputs": [
    {
     "name": "stdout",
     "output_type": "stream",
     "text": [
      "Requirement already satisfied: torch in /usr/local/lib/python3.7/dist-packages (1.8.1+cu101)\n",
      "Requirement already satisfied: typing-extensions in /usr/local/lib/python3.7/dist-packages (from torch) (3.7.4.3)\n",
      "Requirement already satisfied: numpy in /usr/local/lib/python3.7/dist-packages (from torch) (1.19.5)\n"
     ]
    }
   ],
   "source": [
    "pip install torch"
   ]
  },
  {
   "cell_type": "code",
   "execution_count": null,
   "metadata": {
    "colab": {
     "base_uri": "https://localhost:8080/"
    },
    "id": "7_qBupFJhuQR",
    "outputId": "d1520aa1-15ed-4998-a4ac-0652d7d5719b"
   },
   "outputs": [
    {
     "name": "stdout",
     "output_type": "stream",
     "text": [
      "Collecting torch-summary\n",
      "  Downloading https://files.pythonhosted.org/packages/ca/db/93d18c84f73b214acfa4d18051d6f4263eee3e044c408928e8abe941a22c/torch_summary-1.4.5-py3-none-any.whl\n",
      "Installing collected packages: torch-summary\n",
      "Successfully installed torch-summary-1.4.5\n"
     ]
    }
   ],
   "source": [
    "pip install torch-summary"
   ]
  },
  {
   "cell_type": "code",
   "execution_count": null,
   "metadata": {
    "id": "7hv5H3oUNK3l"
   },
   "outputs": [],
   "source": [
    "import torch\n",
    "import torch.nn as nn\n",
    "import torch.optim as optim\n",
    "import torch.nn.functional as F\n",
    "from torch.utils.data import DataLoader\n",
    "import torchvision.datasets as datasets\n",
    "import torchvision.transforms as transforms"
   ]
  },
  {
   "cell_type": "code",
   "execution_count": null,
   "metadata": {
    "id": "ROtu1TfgOuUo"
   },
   "outputs": [],
   "source": [
    "class CNN_q1(nn.Module) :\n",
    "\n",
    "  def __init__(self,in_channels=3,num_classes=10) :\n",
    "    super(CNN_q1,self).__init__()\n",
    "    zero_pad_model = nn.ZeroPad2d(2)\n",
    "\n",
    "    self.conv1 = nn.Conv2d(in_channels=3,out_channels=8,kernel_size =(3,3),stride = (1,1), padding = (1,1))  # 32*32*3 \n",
    "    self.pool = nn.MaxPool2d(kernel_size=(2,2),stride = (2,2))  # 32*32*8 --> 16*16*8\n",
    "    self.fc1 = nn.Linear(16*16*8,num_classes)\n",
    "\n",
    "  def forward(self,x) :\n",
    "\n",
    "    x = F.relu(self.conv1(x))\n",
    "    x = self.pool(x)\n",
    "    x = x.reshape(x.shape[0],-1)\n",
    "    x = self.fc1(x)\n",
    "    return x\n",
    "  \n"
   ]
  },
  {
   "cell_type": "code",
   "execution_count": null,
   "metadata": {
    "id": "laG6-PP6-Qcp"
   },
   "outputs": [],
   "source": [
    "device = \"cuda\" if torch.cuda.is_available() else \"cpu\"\n",
    "device = torch.device(device)"
   ]
  },
  {
   "cell_type": "code",
   "execution_count": null,
   "metadata": {
    "id": "oMjKLFaSVUuc"
   },
   "outputs": [],
   "source": [
    "transform = transforms.Compose(\n",
    "    [transforms.ToTensor(),\n",
    "     transforms.Normalize((0.5, 0.5, 0.5), (0.5, 0.5, 0.5))])"
   ]
  },
  {
   "cell_type": "code",
   "execution_count": null,
   "metadata": {
    "colab": {
     "base_uri": "https://localhost:8080/",
     "height": 117,
     "referenced_widgets": [
      "44bad440a72f41b0bdd6082a2c25ab1c",
      "2f827416ddfb4b7ab275796b0adf393f",
      "bee4975ef956438cacdb0264590c59e9",
      "8bdacfa2f33c48488735e0aa956443c7",
      "93e7d8b9fe434a5fb194f1ad3ad36fc2",
      "685bde03be8548e19bab349a615ef738",
      "069e27757a3c4ffb8882f510fb4a4fbb",
      "851761f06a124d7cb279eb238e34d310"
     ]
    },
    "id": "voL8Qt-S_FDS",
    "outputId": "7181c658-449a-47e9-a5a5-ccc4d167e572"
   },
   "outputs": [
    {
     "name": "stdout",
     "output_type": "stream",
     "text": [
      "Downloading https://www.cs.toronto.edu/~kriz/cifar-10-python.tar.gz to ./cifar-10-python.tar.gz\n"
     ]
    },
    {
     "data": {
      "application/vnd.jupyter.widget-view+json": {
       "model_id": "44bad440a72f41b0bdd6082a2c25ab1c",
       "version_major": 2,
       "version_minor": 0
      },
      "text/plain": [
       "HBox(children=(FloatProgress(value=0.0, max=170498071.0), HTML(value='')))"
      ]
     },
     "metadata": {
      "tags": []
     },
     "output_type": "display_data"
    },
    {
     "name": "stdout",
     "output_type": "stream",
     "text": [
      "\n",
      "Extracting ./cifar-10-python.tar.gz to ./\n",
      "Files already downloaded and verified\n"
     ]
    }
   ],
   "source": [
    "train_data = datasets.CIFAR10(root = './',train = True , download = True,transform = transform)\n",
    "\n",
    "train_data_set_loader = torch.utils.data.DataLoader(train_data,batch_size = 4,shuffle = True)\n",
    "\n",
    "test_data = datasets.CIFAR10(root = './',train = True,download = True,transform = transform)\n",
    "\n",
    "test_data_set_loader = torch.utils.data.DataLoader(test_data,batch_size = 4,shuffle = False)"
   ]
  },
  {
   "cell_type": "code",
   "execution_count": null,
   "metadata": {
    "id": "zjGPtrkMGD2Y"
   },
   "outputs": [],
   "source": [
    "model1 = CNN_q1()\n",
    "\n",
    "criterion = nn.CrossEntropyLoss()\n",
    "optimizer = optim.SGD(model1.parameters(),lr = 0.001,momentum = 0.9)"
   ]
  },
  {
   "cell_type": "code",
   "execution_count": null,
   "metadata": {
    "colab": {
     "base_uri": "https://localhost:8080/"
    },
    "id": "_8YVEu2GOeaT",
    "outputId": "11ae1e0b-6783-48e6-8e46-3d63bd7fe5d9"
   },
   "outputs": [
    {
     "name": "stdout",
     "output_type": "stream",
     "text": [
      "epoch  0  completed\n",
      "running loss  13402.911625879817\n",
      "epoch  1  completed\n",
      "running loss  13340.27296638675\n",
      "epoch  2  completed\n",
      "running loss  13268.606498586014\n",
      "epoch  3  completed\n",
      "running loss  13254.581389646046\n",
      "epoch  4  completed\n",
      "running loss  13177.060269351117\n",
      "epoch  5  completed\n",
      "running loss  13165.257006592117\n",
      "epoch  6  completed\n",
      "running loss  13167.88613080699\n",
      "epoch  7  completed\n",
      "running loss  13119.650418296456\n",
      "epoch  8  completed\n",
      "running loss  13092.480690465774\n",
      "epoch  9  completed\n",
      "running loss  13025.282664526254\n",
      "epoch  10  completed\n",
      "running loss  13066.947278541513\n",
      "epoch  11  completed\n",
      "running loss  12996.272980248556\n",
      "epoch  12  completed\n",
      "running loss  13020.565811891574\n",
      "epoch  13  completed\n",
      "running loss  12996.781726679765\n",
      "epoch  14  completed\n",
      "running loss  12974.739227471873\n",
      "epoch  15  completed\n",
      "running loss  12979.66674705688\n",
      "epoch  16  completed\n",
      "running loss  12940.374253545888\n",
      "epoch  17  completed\n",
      "running loss  12903.215945558622\n",
      "epoch  18  completed\n",
      "running loss  12948.70290976204\n",
      "epoch  19  completed\n",
      "running loss  12918.235781027935\n"
     ]
    }
   ],
   "source": [
    "for epoch in range(20) :\n",
    "  running_loss = 0.0\n",
    "\n",
    "  for i,data in enumerate(train_data_set_loader,0) :\n",
    "    inputs,labels = data\n",
    "    optimizer.zero_grad()\n",
    "\n",
    "    outputs = model1(inputs)\n",
    "    loss = criterion(outputs,labels)\n",
    "    loss.backward()\n",
    "\n",
    "    optimizer.step()\n",
    "\n",
    "    running_loss = running_loss + loss.item()\n",
    "\n",
    "  \n",
    "  print(\"epoch \",epoch,\" completed\")\n",
    "  print(\"running loss \",running_loss)\n",
    "\n"
   ]
  },
  {
   "cell_type": "code",
   "execution_count": null,
   "metadata": {
    "colab": {
     "base_uri": "https://localhost:8080/"
    },
    "id": "rqr4u7HTrgPo",
    "outputId": "076159a3-4301-46eb-f657-6af6b77018ef"
   },
   "outputs": [
    {
     "name": "stdout",
     "output_type": "stream",
     "text": [
      "Accuracy is  0.68314\n"
     ]
    }
   ],
   "source": [
    "correct = 0\n",
    "total = 0\n",
    "\n",
    "with torch.no_grad() :\n",
    "  for data in test_data_set_loader :\n",
    "    images,labels = data\n",
    "    outputs = model1(images)\n",
    "    _, predicted = torch.max(outputs.data, 1)\n",
    "    total += labels.size(0)\n",
    "    correct += (predicted == labels).sum().item()\n",
    "  \n",
    "acc = correct / total\n",
    "print(\"Accuracy is \",str(acc))\n",
    "\n",
    "#2 epcohs 59.62\n",
    "#10 epochs 64.26\n",
    "#20 epochs 68.31"
   ]
  },
  {
   "cell_type": "code",
   "execution_count": null,
   "metadata": {
    "id": "Dsl292HZaLjH"
   },
   "outputs": [],
   "source": [
    "class CNN_q2(nn.Module) :\n",
    "\n",
    "  def __init__(self,in_channels=3,num_classes=10) :\n",
    "    super(CNN_q2,self).__init__()\n",
    "    zero_pad_model = nn.ZeroPad2d(2)\n",
    "\n",
    "    self.conv1 = nn.Conv2d(in_channels=3,out_channels=16,kernel_size =(3,3),stride = (1,1), padding = (1,1))\n",
    "    self.batch_norm1 = nn.BatchNorm2d(16)  \n",
    "    self.pool = nn.MaxPool2d(kernel_size=(2,2),stride = (2,2))\n",
    "    self.fc1 = nn.Linear(16*16*16,32)\n",
    "    self.fc2 = nn.Linear(32,num_classes)\n",
    "\n",
    "  def forward(self,x) :\n",
    "\n",
    "    x = F.relu(self.conv1(x))\n",
    "    x = self.batch_norm1(x)\n",
    "    x = self.pool(x)\n",
    "    x = x.reshape(x.shape[0],-1)\n",
    "\n",
    "    x = self.fc1(x)\n",
    "    x = self.fc2(x)\n",
    "    return x"
   ]
  },
  {
   "cell_type": "code",
   "execution_count": null,
   "metadata": {
    "id": "ITUqFDT12DU8"
   },
   "outputs": [],
   "source": [
    "model2 = CNN_q2()\n",
    "\n",
    "criterion = nn.CrossEntropyLoss()\n",
    "optimizer = optim.SGD(model2.parameters(),lr = 0.001,momentum = 0.9)"
   ]
  },
  {
   "cell_type": "code",
   "execution_count": null,
   "metadata": {
    "colab": {
     "base_uri": "https://localhost:8080/"
    },
    "id": "bnkmAljW2l3O",
    "outputId": "a3825c28-d031-42cb-9596-e4aaa3a17278"
   },
   "outputs": [
    {
     "name": "stdout",
     "output_type": "stream",
     "text": [
      "epoch  0  completed\n",
      "running loss  17917.479144260287\n",
      "epoch  1  completed\n",
      "running loss  14896.642614223063\n",
      "epoch  2  completed\n",
      "running loss  13863.954897515476\n",
      "epoch  3  completed\n",
      "running loss  13273.880529550835\n",
      "epoch  4  completed\n",
      "running loss  12874.589469339699\n",
      "epoch  5  completed\n",
      "running loss  12593.925108211115\n",
      "epoch  6  completed\n",
      "running loss  12386.215701831505\n",
      "epoch  7  completed\n",
      "running loss  12158.800939270062\n",
      "epoch  8  completed\n",
      "running loss  11997.675145900808\n",
      "epoch  9  completed\n",
      "running loss  11841.561648525298\n",
      "epoch  10  completed\n",
      "running loss  11750.910693798214\n",
      "epoch  11  completed\n",
      "running loss  11659.523064755835\n",
      "epoch  12  completed\n",
      "running loss  11517.876153254882\n",
      "epoch  13  completed\n",
      "running loss  11410.571806181222\n",
      "epoch  14  completed\n",
      "running loss  11330.431773583405\n",
      "epoch  15  completed\n",
      "running loss  11288.660025615245\n",
      "epoch  16  completed\n",
      "running loss  11216.445115009323\n",
      "epoch  17  completed\n",
      "running loss  11156.553594045807\n",
      "epoch  18  completed\n",
      "running loss  11093.243706457317\n",
      "epoch  19  completed\n",
      "running loss  11038.673340044916\n"
     ]
    }
   ],
   "source": [
    "for epoch in range(20) :\n",
    "  running_loss = 0.0\n",
    "\n",
    "  for i,data in enumerate(train_data_set_loader,0) :\n",
    "    inputs,labels = data\n",
    "    optimizer.zero_grad()\n",
    "\n",
    "    outputs = model2(inputs)\n",
    "    loss = criterion(outputs,labels)\n",
    "    loss.backward()\n",
    "\n",
    "    optimizer.step()\n",
    "\n",
    "    running_loss = running_loss + loss.item()\n",
    "\n",
    "  \n",
    "  print(\"epoch \",epoch,\" completed\")\n",
    "  print(\"running loss \",running_loss)\n"
   ]
  },
  {
   "cell_type": "code",
   "execution_count": null,
   "metadata": {
    "colab": {
     "base_uri": "https://localhost:8080/"
    },
    "id": "jLLOA5tG3ZxK",
    "outputId": "41fd1a48-3594-4baa-a125-c0f1699cefef"
   },
   "outputs": [
    {
     "name": "stdout",
     "output_type": "stream",
     "text": [
      "Accuracy is  0.70538\n"
     ]
    }
   ],
   "source": [
    "correct = 0\n",
    "total = 0\n",
    "\n",
    "with torch.no_grad() :\n",
    "  for data in test_data_set_loader :\n",
    "    images,labels = data\n",
    "    outputs = model2(images)\n",
    "    _, predicted = torch.max(outputs.data, 1)\n",
    "    total += labels.size(0)\n",
    "    correct += (predicted == labels).sum().item()\n",
    "  \n",
    "acc = correct / total\n",
    "print(\"Accuracy is \",str(acc))\n"
   ]
  },
  {
   "cell_type": "code",
   "execution_count": null,
   "metadata": {
    "id": "Xa6IwjCtbaNH"
   },
   "outputs": [],
   "source": [
    "class CNN_q3(nn.Module) :\n",
    "\n",
    "  def __init__(self,in_channels=3,num_classes=10) :\n",
    "    super(CNN_q3,self).__init__()\n",
    "    zero_pad_model = nn.ZeroPad2d(2)\n",
    "\n",
    "    self.conv1 = nn.Conv2d(in_channels=3,out_channels=32,kernel_size =(3,3),stride = (1,1), padding = (1,1))\n",
    "    self.batch_norm1 = nn.BatchNorm2d(32)\n",
    "    self.pool1 = nn.MaxPool2d(kernel_size=(2,2),stride = (2,2))\n",
    "\n",
    "    self.conv2 = nn.Conv2d(in_channels=32,out_channels=64,kernel_size = (3,3),stride = (1,1),padding=(1,1))\n",
    "    self.batch_norm2 = nn.BatchNorm2d(64)\n",
    "    self.pool2 = nn.MaxPool2d(kernel_size = (2,2),stride = (2,2))\n",
    "\n",
    "    self.fc1 = nn.Linear(64*8*8,10)\n",
    "    # self.fc2 = nn.Linear(32,num_classes)\n",
    "\n",
    "  def forward(self,x) :\n",
    "\n",
    "    x = F.relu(self.conv1(x))\n",
    "    x = self.batch_norm1(x)\n",
    "    x = self.pool1(x)\n",
    "\n",
    "    x = F.relu(self.conv2(x))\n",
    "    x = self.batch_norm2(x)\n",
    "    x = self.pool2(x)\n",
    "\n",
    "    x = x.reshape(x.shape[0],-1)\n",
    "\n",
    "    x = self.fc1(x)\n",
    "    #x = self.fc2(x)\n",
    "    return x"
   ]
  },
  {
   "cell_type": "code",
   "execution_count": null,
   "metadata": {
    "id": "93jkizz4KMit"
   },
   "outputs": [],
   "source": [
    "model3 = CNN_q3()\n",
    "\n",
    "criterion = nn.CrossEntropyLoss()\n",
    "optimizer = optim.SGD(model3.parameters(),lr = 0.001,momentum = 0.9)\n"
   ]
  },
  {
   "cell_type": "code",
   "execution_count": null,
   "metadata": {
    "colab": {
     "base_uri": "https://localhost:8080/"
    },
    "id": "OWpGCPZCKgNc",
    "outputId": "374c0774-8a67-474f-bfb0-e77b22673501"
   },
   "outputs": [
    {
     "name": "stdout",
     "output_type": "stream",
     "text": [
      "epoch  0  completed\n",
      "running loss  17709.989908747375\n",
      "epoch  1  completed\n",
      "running loss  12360.302731679752\n",
      "epoch  2  completed\n",
      "running loss  10959.472734798677\n",
      "epoch  3  completed\n",
      "running loss  10041.861893883906\n",
      "epoch  4  completed\n",
      "running loss  9361.989851734135\n",
      "epoch  5  completed\n",
      "running loss  8762.846056198701\n",
      "epoch  6  completed\n",
      "running loss  8282.261934068985\n",
      "epoch  7  completed\n",
      "running loss  7866.578188209038\n",
      "epoch  8  completed\n",
      "running loss  7524.184841294715\n",
      "epoch  9  completed\n",
      "running loss  7237.234814399388\n",
      "epoch  10  completed\n",
      "running loss  6878.238957698108\n",
      "epoch  11  completed\n",
      "running loss  6642.369277927268\n",
      "epoch  12  completed\n",
      "running loss  6439.671596005559\n",
      "epoch  13  completed\n",
      "running loss  6255.226777525881\n",
      "epoch  14  completed\n",
      "running loss  5990.628167138755\n",
      "epoch  15  completed\n",
      "running loss  5847.941320198966\n",
      "epoch  16  completed\n",
      "running loss  5665.571238666103\n",
      "epoch  17  completed\n",
      "running loss  5499.581945751866\n",
      "epoch  18  completed\n",
      "running loss  5378.901521986365\n",
      "epoch  19  completed\n",
      "running loss  5214.286426581897\n"
     ]
    }
   ],
   "source": [
    "for epoch in range(20) :\n",
    "  running_loss = 0.0\n",
    "\n",
    "  for i,data in enumerate(train_data_set_loader,0) :\n",
    "    inputs,labels = data\n",
    "    optimizer.zero_grad()\n",
    "\n",
    "    outputs = model3(inputs)\n",
    "    loss = criterion(outputs,labels)\n",
    "    loss.backward()\n",
    "\n",
    "    optimizer.step()\n",
    "\n",
    "    running_loss = running_loss + loss.item()\n",
    "\n",
    "  \n",
    "  print(\"epoch \",epoch,\" completed\")\n",
    "  print(\"running loss \",running_loss)"
   ]
  },
  {
   "cell_type": "code",
   "execution_count": null,
   "metadata": {
    "colab": {
     "base_uri": "https://localhost:8080/"
    },
    "id": "IemGyJn2KoQy",
    "outputId": "3bea7d7e-24ab-42fc-b813-98bc3db9a35c"
   },
   "outputs": [
    {
     "name": "stdout",
     "output_type": "stream",
     "text": [
      "Accuracy is  0.87926\n"
     ]
    }
   ],
   "source": [
    "correct = 0\n",
    "total = 0\n",
    "\n",
    "with torch.no_grad() :\n",
    "  for data in test_data_set_loader :\n",
    "    images,labels = data\n",
    "    outputs = model3(images)\n",
    "    _, predicted = torch.max(outputs.data, 1)\n",
    "    total += labels.size(0)\n",
    "    correct += (predicted == labels).sum().item()\n",
    "  \n",
    "acc = correct / total\n",
    "print(\"Accuracy is \",str(acc))\n"
   ]
  },
  {
   "cell_type": "code",
   "execution_count": null,
   "metadata": {
    "id": "_dGM26kufM01"
   },
   "outputs": [],
   "source": [
    "class CNN_q4(nn.Module) :\n",
    "\n",
    "  def __init__(self,in_channels=3,num_classes=10) :\n",
    "    super(CNN_q4,self).__init__()\n",
    "    zero_pad_model = nn.ZeroPad2d(2)\n",
    "\n",
    "    self.conv1 = nn.Conv2d(in_channels=3,out_channels=32,kernel_size =(3,3),stride = (1,1), padding = (1,1))\n",
    "    self.batch_norm1 = nn.BatchNorm2d(32)\n",
    "    self.pool1 = nn.MaxPool2d(kernel_size=(2,2),stride = (2,2))\n",
    "\n",
    "    self.conv2 = nn.Conv2d(in_channels=32,out_channels=64,kernel_size = (3,3),stride = (1,1),padding=(1,1))\n",
    "    self.batch_norm2 = nn.BatchNorm2d(64)\n",
    "    self.pool2 = nn.MaxPool2d(kernel_size = (2,2),stride = (2,2))\n",
    "\n",
    "    self.conv3 = nn.Conv2d(in_channels=64,out_channels=128,kernel_size=(3,3),stride = (1,1),padding = (1,1))\n",
    "    self.batch_norm3 = nn.BatchNorm2d(128)\n",
    "    self.pool3 = nn.MaxPool2d(kernel_size=(2,2),stride=(2,2))\n",
    "\n",
    "    self.fc1 = nn.Linear(128*4*4,10)\n",
    "    # self.fc2 = nn.Linear(32,num_classes)\n",
    "\n",
    "  def forward(self,x) :\n",
    "\n",
    "    x = F.relu(self.conv1(x))\n",
    "    x = self.batch_norm1(x)\n",
    "    x = self.pool1(x)\n",
    "\n",
    "    x = F.relu(self.conv2(x))\n",
    "    x = self.batch_norm2(x)\n",
    "    x = self.pool2(x)\n",
    "\n",
    "    x = F.relu(self.conv3(x))\n",
    "    x = self.batch_norm3(x)\n",
    "    x = self.pool3(x)\n",
    "\n",
    "    x = x.reshape(x.shape[0],-1)\n",
    "\n",
    "    x = self.fc1(x)\n",
    "    #x = self.fc2(x)\n",
    "    return x"
   ]
  },
  {
   "cell_type": "code",
   "execution_count": null,
   "metadata": {
    "id": "2PQHrmxQf0rR"
   },
   "outputs": [],
   "source": [
    "model4 = CNN_q4()\n",
    "\n",
    "criterion = nn.CrossEntropyLoss()\n",
    "optimizer = optim.SGD(model4.parameters(),lr = 0.001,momentum = 0.9)"
   ]
  },
  {
   "cell_type": "code",
   "execution_count": null,
   "metadata": {
    "id": "5UDS7jlif5LD"
   },
   "outputs": [],
   "source": [
    "epoch_list = []\n",
    "acc_list = []\n",
    "\n",
    "for epoch in range(20) :\n",
    "  running_loss = 0.0\n",
    "\n",
    "  for i,data in enumerate(train_data_set_loader,0) :\n",
    "    inputs,labels = data\n",
    "    optimizer.zero_grad()\n",
    "\n",
    "    outputs = model4(inputs)\n",
    "    loss = criterion(outputs,labels)\n",
    "    loss.backward()\n",
    "\n",
    "    optimizer.step()\n",
    "\n",
    "    running_loss = running_loss + loss.item()\n",
    "\n",
    "  \n",
    "  #print(\"epoch \",epoch,\" completed\")\n",
    "  #print(\"running loss \",running_loss)\n",
    "  epoch_list.append(epoch+1)\n",
    "  acc_list.append(get_accuracy())"
   ]
  },
  {
   "cell_type": "code",
   "execution_count": null,
   "metadata": {
    "id": "Yvnwgzuxf9-a"
   },
   "outputs": [],
   "source": [
    "def get_accuracy() :\n",
    "  correct = 0\n",
    "  total = 0\n",
    "\n",
    "  with torch.no_grad() :\n",
    "    for data in test_data_set_loader :\n",
    "      images,labels = data\n",
    "      outputs = model4(images)\n",
    "      _, predicted = torch.max(outputs.data, 1)\n",
    "      total += labels.size(0)\n",
    "      correct += (predicted == labels).sum().item()\n",
    "  \n",
    "  acc = correct / total\n",
    "  #print(\"Accuracy is \",str(acc))\n",
    "\n",
    "  return acc*100"
   ]
  },
  {
   "cell_type": "code",
   "execution_count": null,
   "metadata": {
    "colab": {
     "base_uri": "https://localhost:8080/",
     "height": 295
    },
    "id": "AJuVqS8a03fU",
    "outputId": "11c1355c-3153-4f18-a9fb-04c1414ed36f"
   },
   "outputs": [
    {
     "data": {
      "image/png": "[encoded data removed]",
      "text/plain": [
       "<Figure size 432x288 with 1 Axes>"
      ]
     },
     "metadata": {
      "needs_background": "light",
      "tags": []
     },
     "output_type": "display_data"
    }
   ],
   "source": [
    "import matplotlib.pyplot as plt\n",
    "\n",
    "plt.plot(epoch_list,acc_list)\n",
    "plt.title(\"Epochs vs Accuracy\")\n",
    "plt.xlabel(\"Epochs\")\n",
    "plt.ylabel(\"Accuracy\")\n",
    "plt.grid()\n",
    "plt.show()"
   ]
  },
  {
   "cell_type": "code",
   "execution_count": null,
   "metadata": {
    "colab": {
     "base_uri": "https://localhost:8080/"
    },
    "id": "XVUPqt3L10Zi",
    "outputId": "9d9caaab-2b18-4b79-fb32-70dcfbc09fd4"
   },
   "outputs": [
    {
     "name": "stdout",
     "output_type": "stream",
     "text": [
      "98.958\n"
     ]
    }
   ],
   "source": [
    "# the accuracy of the model is\n",
    "\n",
    "print(acc_list[-1])"
   ]
  },
  {
   "cell_type": "code",
   "execution_count": null,
   "metadata": {
    "id": "ri6W0StHFjE5"
   },
   "outputs": [],
   "source": [
    "torch.save(model4,'q1-bestmodel.pt')"
   ]
  },
  {
   "cell_type": "code",
   "execution_count": null,
   "metadata": {
    "colab": {
     "base_uri": "https://localhost:8080/"
    },
    "id": "xA2YzZ5GhBh5",
    "outputId": "e3566154-fcaf-4583-8d5f-fb3c1a36ac7a"
   },
   "outputs": [
    {
     "name": "stdout",
     "output_type": "stream",
     "text": [
      "/content\n"
     ]
    }
   ],
   "source": [
    "import os \n",
    "#dir_path = os.path.dirname(os.path.realpath(__file__))\n",
    "cwd = os.getcwd()\n",
    "\n",
    "print(cwd)"
   ]
  },
  {
   "cell_type": "code",
   "execution_count": null,
   "metadata": {
    "colab": {
     "base_uri": "https://localhost:8080/"
    },
    "id": "T7x7Pe45hl8x",
    "outputId": "a6d2a1ad-eed4-49d8-b8e8-133738cf9275"
   },
   "outputs": [
    {
     "name": "stdout",
     "output_type": "stream",
     "text": [
      "=================================================================\n",
      "Layer (type:depth-idx)                   Param #\n",
      "=================================================================\n",
      "├─Conv2d: 1-1                            896\n",
      "├─BatchNorm2d: 1-2                       64\n",
      "├─MaxPool2d: 1-3                         --\n",
      "├─Conv2d: 1-4                            18,496\n",
      "├─BatchNorm2d: 1-5                       128\n",
      "├─MaxPool2d: 1-6                         --\n",
      "├─Conv2d: 1-7                            73,856\n",
      "├─BatchNorm2d: 1-8                       256\n",
      "├─MaxPool2d: 1-9                         --\n",
      "├─Linear: 1-10                           20,490\n",
      "=================================================================\n",
      "Total params: 114,186\n",
      "Trainable params: 114,186\n",
      "Non-trainable params: 0\n",
      "=================================================================\n"
     ]
    },
    {
     "data": {
      "text/plain": [
       "=================================================================\n",
       "Layer (type:depth-idx)                   Param #\n",
       "=================================================================\n",
       "├─Conv2d: 1-1                            896\n",
       "├─BatchNorm2d: 1-2                       64\n",
       "├─MaxPool2d: 1-3                         --\n",
       "├─Conv2d: 1-4                            18,496\n",
       "├─BatchNorm2d: 1-5                       128\n",
       "├─MaxPool2d: 1-6                         --\n",
       "├─Conv2d: 1-7                            73,856\n",
       "├─BatchNorm2d: 1-8                       256\n",
       "├─MaxPool2d: 1-9                         --\n",
       "├─Linear: 1-10                           20,490\n",
       "=================================================================\n",
       "Total params: 114,186\n",
       "Trainable params: 114,186\n",
       "Non-trainable params: 0\n",
       "================================================================="
      ]
     },
     "execution_count": 19,
     "metadata": {
      "tags": []
     },
     "output_type": "execute_result"
    }
   ],
   "source": [
    "from torchsummary import summary\n",
    "\n",
    "summary(model4)"
   ]
  },
  {
   "cell_type": "code",
   "execution_count": null,
   "metadata": {
    "colab": {
     "base_uri": "https://localhost:8080/"
    },
    "id": "ezOYKXw0D6zq",
    "outputId": "b44bffa9-0630-4a47-8847-4eeedf76d3dd"
   },
   "outputs": [
    {
     "name": "stdout",
     "output_type": "stream",
     "text": [
      "/content\n"
     ]
    }
   ],
   "source": [
    "!pwd"
   ]
  }
 ],
 "metadata": {
  "colab": {
   "collapsed_sections": [],
   "name": "smai_ass3_q1.ipynb",
   "provenance": []
  },
  "kernelspec": {
   "display_name": "Python 3",
   "language": "python",
   "name": "python3"
  },
  "language_info": {
   "codemirror_mode": {
    "name": "ipython",
    "version": 3
   },
   "file_extension": ".py",
   "mimetype": "text/x-python",
   "name": "python",
   "nbconvert_exporter": "python",
   "pygments_lexer": "ipython3",
   "version": "3.8.5"
  },
  "widgets": {
   "application/vnd.jupyter.widget-state+json": {
    "069e27757a3c4ffb8882f510fb4a4fbb": {
     "model_module": "@jupyter-widgets/controls",
     "model_name": "DescriptionStyleModel",
     "state": {
      "_model_module": "@jupyter-widgets/controls",
      "_model_module_version": "1.5.0",
      "_model_name": "DescriptionStyleModel",
      "_view_count": null,
      "_view_module": "@jupyter-widgets/base",
      "_view_module_version": "1.2.0",
      "_view_name": "StyleView",
      "description_width": ""
     }
    },
    "2f827416ddfb4b7ab275796b0adf393f": {
     "model_module": "@jupyter-widgets/base",
     "model_name": "LayoutModel",
     "state": {
      "_model_module": "@jupyter-widgets/base",
      "_model_module_version": "1.2.0",
      "_model_name": "LayoutModel",
      "_view_count": null,
      "_view_module": "@jupyter-widgets/base",
      "_view_module_version": "1.2.0",
      "_view_name": "LayoutView",
      "align_content": null,
      "align_items": null,
      "align_self": null,
      "border": null,
      "bottom": null,
      "display": null,
      "flex": null,
      "flex_flow": null,
      "grid_area": null,
      "grid_auto_columns": null,
      "grid_auto_flow": null,
      "grid_auto_rows": null,
      "grid_column": null,
      "grid_gap": null,
      "grid_row": null,
      "grid_template_areas": null,
      "grid_template_columns": null,
      "grid_template_rows": null,
      "height": null,
      "justify_content": null,
      "justify_items": null,
      "left": null,
      "margin": null,
      "max_height": null,
      "max_width": null,
      "min_height": null,
      "min_width": null,
      "object_fit": null,
      "object_position": null,
      "order": null,
      "overflow": null,
      "overflow_x": null,
      "overflow_y": null,
      "padding": null,
      "right": null,
      "top": null,
      "visibility": null,
      "width": null
     }
    },
    "44bad440a72f41b0bdd6082a2c25ab1c": {
     "model_module": "@jupyter-widgets/controls",
     "model_name": "HBoxModel",
     "state": {
      "_dom_classes": [],
      "_model_module": "@jupyter-widgets/controls",
      "_model_module_version": "1.5.0",
      "_model_name": "HBoxModel",
      "_view_count": null,
      "_view_module": "@jupyter-widgets/controls",
      "_view_module_version": "1.5.0",
      "_view_name": "HBoxView",
      "box_style": "",
      "children": [
       "IPY_MODEL_bee4975ef956438cacdb0264590c59e9",
       "IPY_MODEL_8bdacfa2f33c48488735e0aa956443c7"
      ],
      "layout": "IPY_MODEL_2f827416ddfb4b7ab275796b0adf393f"
     }
    },
    "685bde03be8548e19bab349a615ef738": {
     "model_module": "@jupyter-widgets/base",
     "model_name": "LayoutModel",
     "state": {
      "_model_module": "@jupyter-widgets/base",
      "_model_module_version": "1.2.0",
      "_model_name": "LayoutModel",
      "_view_count": null,
      "_view_module": "@jupyter-widgets/base",
      "_view_module_version": "1.2.0",
      "_view_name": "LayoutView",
      "align_content": null,
      "align_items": null,
      "align_self": null,
      "border": null,
      "bottom": null,
      "display": null,
      "flex": null,
      "flex_flow": null,
      "grid_area": null,
      "grid_auto_columns": null,
      "grid_auto_flow": null,
      "grid_auto_rows": null,
      "grid_column": null,
      "grid_gap": null,
      "grid_row": null,
      "grid_template_areas": null,
      "grid_template_columns": null,
      "grid_template_rows": null,
      "height": null,
      "justify_content": null,
      "justify_items": null,
      "left": null,
      "margin": null,
      "max_height": null,
      "max_width": null,
      "min_height": null,
      "min_width": null,
      "object_fit": null,
      "object_position": null,
      "order": null,
      "overflow": null,
      "overflow_x": null,
      "overflow_y": null,
      "padding": null,
      "right": null,
      "top": null,
      "visibility": null,
      "width": null
     }
    },
    "851761f06a124d7cb279eb238e34d310": {
     "model_module": "@jupyter-widgets/base",
     "model_name": "LayoutModel",
     "state": {
      "_model_module": "@jupyter-widgets/base",
      "_model_module_version": "1.2.0",
      "_model_name": "LayoutModel",
      "_view_count": null,
      "_view_module": "@jupyter-widgets/base",
      "_view_module_version": "1.2.0",
      "_view_name": "LayoutView",
      "align_content": null,
      "align_items": null,
      "align_self": null,
      "border": null,
      "bottom": null,
      "display": null,
      "flex": null,
      "flex_flow": null,
      "grid_area": null,
      "grid_auto_columns": null,
      "grid_auto_flow": null,
      "grid_auto_rows": null,
      "grid_column": null,
      "grid_gap": null,
      "grid_row": null,
      "grid_template_areas": null,
      "grid_template_columns": null,
      "grid_template_rows": null,
      "height": null,
      "justify_content": null,
      "justify_items": null,
      "left": null,
      "margin": null,
      "max_height": null,
      "max_width": null,
      "min_height": null,
      "min_width": null,
      "object_fit": null,
      "object_position": null,
      "order": null,
      "overflow": null,
      "overflow_x": null,
      "overflow_y": null,
      "padding": null,
      "right": null,
      "top": null,
      "visibility": null,
      "width": null
     }
    },
    "8bdacfa2f33c48488735e0aa956443c7": {
     "model_module": "@jupyter-widgets/controls",
     "model_name": "HTMLModel",
     "state": {
      "_dom_classes": [],
      "_model_module": "@jupyter-widgets/controls",
      "_model_module_version": "1.5.0",
      "_model_name": "HTMLModel",
      "_view_count": null,
      "_view_module": "@jupyter-widgets/controls",
      "_view_module_version": "1.5.0",
      "_view_name": "HTMLView",
      "description": "",
      "description_tooltip": null,
      "layout": "IPY_MODEL_851761f06a124d7cb279eb238e34d310",
      "placeholder": "​",
      "style": "IPY_MODEL_069e27757a3c4ffb8882f510fb4a4fbb",
      "value": " 170499072/? [1:24:47&lt;00:00, 33510.92it/s]"
     }
    },
    "93e7d8b9fe434a5fb194f1ad3ad36fc2": {
     "model_module": "@jupyter-widgets/controls",
     "model_name": "ProgressStyleModel",
     "state": {
      "_model_module": "@jupyter-widgets/controls",
      "_model_module_version": "1.5.0",
      "_model_name": "ProgressStyleModel",
      "_view_count": null,
      "_view_module": "@jupyter-widgets/base",
      "_view_module_version": "1.2.0",
      "_view_name": "StyleView",
      "bar_color": null,
      "description_width": "initial"
     }
    },
    "bee4975ef956438cacdb0264590c59e9": {
     "model_module": "@jupyter-widgets/controls",
     "model_name": "FloatProgressModel",
     "state": {
      "_dom_classes": [],
      "_model_module": "@jupyter-widgets/controls",
      "_model_module_version": "1.5.0",
      "_model_name": "FloatProgressModel",
      "_view_count": null,
      "_view_module": "@jupyter-widgets/controls",
      "_view_module_version": "1.5.0",
      "_view_name": "ProgressView",
      "bar_style": "success",
      "description": "",
      "description_tooltip": null,
      "layout": "IPY_MODEL_685bde03be8548e19bab349a615ef738",
      "max": 170498071,
      "min": 0,
      "orientation": "horizontal",
      "style": "IPY_MODEL_93e7d8b9fe434a5fb194f1ad3ad36fc2",
      "value": 170498071
     }
    }
   }
  }
 },
 "nbformat": 4,
 "nbformat_minor": 1
}
