{
 "cells": [
  {
   "cell_type": "code",
   "execution_count": 1,
   "metadata": {
    "id": "amyQB_IqNgck"
   },
   "outputs": [],
   "source": [
    "import torch\n",
    "import torch.nn as nn\n",
    "import torch.optim as optim\n",
    "import torch.nn.functional as F\n",
    "from torch.utils.data import DataLoader\n",
    "import torchvision.datasets as datasets\n",
    "import torchvision.transforms as transforms"
   ]
  },
  {
   "cell_type": "code",
   "execution_count": 2,
   "metadata": {
    "id": "rdWfODIQuV4u"
   },
   "outputs": [],
   "source": [
    "transform = transforms.Compose([transforms.ToTensor(),transforms.Normalize((0.5,),(0.5,))])"
   ]
  },
  {
   "cell_type": "code",
   "execution_count": 3,
   "metadata": {
    "colab": {
     "base_uri": "https://localhost:8080/",
     "height": 726,
     "referenced_widgets": [
      "d617d6f25fc94264a928f2a8b3093235",
      "85e81e1a06d543fe896990d50e1924ab",
      "c6fb0ba5667646388465bb595f8295a7",
      "49b5de5919af45b6a8a20da765bee58b",
      "95cbf9142a5744389f016610049ec8b8",
      "6d51bfdc73e04754b0c9fd88584d61cf",
      "7574b4182b544333bcccb965bd954816",
      "16f73d5080a34d2c9042d0c115522486",
      "15e8e72d3fd9438b88123612a37de2a3",
      "25883cf2f9124ff382155c2e7560391b",
      "7c48e000c2cf4ef0841abf0e98437b66",
      "c70f744e35024cf297af7305bec2b36a",
      "aec698364280404ab44df0acd42593db",
      "3b90b1a0e81240f993c5e32ad7994cea",
      "1f18c523443a467dbee92b70acb01a1f",
      "26fd89fdac764301b31325d99c0b00f0",
      "a3cc1f9c9e794632a845e824a78be8c3",
      "c6442246d854443daec259d6011c05d9",
      "1887671b3fc2435fb46dd7a3725bd6cc",
      "1ba4308c96784e5daf6e1eb5a2b20a3b",
      "f29c784d24914ac68fc0f323abf0d150",
      "e4ea784cac16414aa0614f6ac9db05d3",
      "f2680d095ed24ef58af0b2e90fbf9232",
      "c2c996c7075145b797c8f0108d0f6ec7",
      "199f6328f6a846b5ba71737b9d28a513",
      "4dc0faac23be417db50ff639e64a02e9",
      "e9b5d225e3c64176b6acc4197c4675ee",
      "6b91b4757e7e47489b42f617f8791363",
      "ecc41d29e44b4295b7a022b61faa857c",
      "d11c8b23f61a4218902b6d2fc33d61b9",
      "a5c65fd0434d4a33ae5accd87cce2bbd",
      "107edf1437924a1b98c5a0f9f1aac3a3"
     ]
    },
    "id": "MiR6loUcuXUv",
    "outputId": "6bf2d84c-ddb3-4ccd-d08e-3ad75c3407e3"
   },
   "outputs": [
    {
     "name": "stdout",
     "output_type": "stream",
     "text": [
      "Downloading http://yann.lecun.com/exdb/mnist/train-images-idx3-ubyte.gz\n",
      "Downloading http://yann.lecun.com/exdb/mnist/train-images-idx3-ubyte.gz to ./MNIST/raw/train-images-idx3-ubyte.gz\n"
     ]
    },
    {
     "data": {
      "application/vnd.jupyter.widget-view+json": {
       "model_id": "d617d6f25fc94264a928f2a8b3093235",
       "version_major": 2,
       "version_minor": 0
      },
      "text/plain": [
       "HBox(children=(FloatProgress(value=0.0, max=9912422.0), HTML(value='')))"
      ]
     },
     "metadata": {
      "tags": []
     },
     "output_type": "display_data"
    },
    {
     "name": "stdout",
     "output_type": "stream",
     "text": [
      "\n",
      "Extracting ./MNIST/raw/train-images-idx3-ubyte.gz to ./MNIST/raw\n",
      "\n",
      "Downloading http://yann.lecun.com/exdb/mnist/train-labels-idx1-ubyte.gz\n",
      "Downloading http://yann.lecun.com/exdb/mnist/train-labels-idx1-ubyte.gz to ./MNIST/raw/train-labels-idx1-ubyte.gz\n"
     ]
    },
    {
     "data": {
      "application/vnd.jupyter.widget-view+json": {
       "model_id": "15e8e72d3fd9438b88123612a37de2a3",
       "version_major": 2,
       "version_minor": 0
      },
      "text/plain": [
       "HBox(children=(FloatProgress(value=0.0, max=28881.0), HTML(value='')))"
      ]
     },
     "metadata": {
      "tags": []
     },
     "output_type": "display_data"
    },
    {
     "name": "stdout",
     "output_type": "stream",
     "text": [
      "\n",
      "Extracting ./MNIST/raw/train-labels-idx1-ubyte.gz to ./MNIST/raw\n",
      "\n",
      "Downloading http://yann.lecun.com/exdb/mnist/t10k-images-idx3-ubyte.gz\n",
      "Downloading http://yann.lecun.com/exdb/mnist/t10k-images-idx3-ubyte.gz to ./MNIST/raw/t10k-images-idx3-ubyte.gz\n",
      "Failed to download (trying next):\n",
      "HTTP Error 503: Service Unavailable\n",
      "\n",
      "Downloading https://ossci-datasets.s3.amazonaws.com/mnist/t10k-images-idx3-ubyte.gz\n",
      "Downloading https://ossci-datasets.s3.amazonaws.com/mnist/t10k-images-idx3-ubyte.gz to ./MNIST/raw/t10k-images-idx3-ubyte.gz\n"
     ]
    },
    {
     "data": {
      "application/vnd.jupyter.widget-view+json": {
       "model_id": "a3cc1f9c9e794632a845e824a78be8c3",
       "version_major": 2,
       "version_minor": 0
      },
      "text/plain": [
       "HBox(children=(FloatProgress(value=0.0, max=1648877.0), HTML(value='')))"
      ]
     },
     "metadata": {
      "tags": []
     },
     "output_type": "display_data"
    },
    {
     "name": "stdout",
     "output_type": "stream",
     "text": [
      "\n",
      "Extracting ./MNIST/raw/t10k-images-idx3-ubyte.gz to ./MNIST/raw\n",
      "\n",
      "Downloading http://yann.lecun.com/exdb/mnist/t10k-labels-idx1-ubyte.gz\n",
      "Failed to download (trying next):\n",
      "HTTP Error 503: Service Unavailable\n",
      "\n",
      "Downloading https://ossci-datasets.s3.amazonaws.com/mnist/t10k-labels-idx1-ubyte.gz\n",
      "Downloading https://ossci-datasets.s3.amazonaws.com/mnist/t10k-labels-idx1-ubyte.gz to ./MNIST/raw/t10k-labels-idx1-ubyte.gz\n"
     ]
    },
    {
     "data": {
      "application/vnd.jupyter.widget-view+json": {
       "model_id": "199f6328f6a846b5ba71737b9d28a513",
       "version_major": 2,
       "version_minor": 0
      },
      "text/plain": [
       "HBox(children=(FloatProgress(value=0.0, max=4542.0), HTML(value='')))"
      ]
     },
     "metadata": {
      "tags": []
     },
     "output_type": "display_data"
    },
    {
     "name": "stdout",
     "output_type": "stream",
     "text": [
      "\n",
      "Extracting ./MNIST/raw/t10k-labels-idx1-ubyte.gz to ./MNIST/raw\n",
      "\n",
      "Processing...\n",
      "Done!\n"
     ]
    },
    {
     "name": "stderr",
     "output_type": "stream",
     "text": [
      "/usr/local/lib/python3.7/dist-packages/torchvision/datasets/mnist.py:502: UserWarning: The given NumPy array is not writeable, and PyTorch does not support non-writeable tensors. This means you can write to the underlying (supposedly non-writeable) NumPy array using the tensor. You may want to copy the array to protect its data or make it writeable before converting it to a tensor. This type of warning will be suppressed for the rest of this program. (Triggered internally at  /pytorch/torch/csrc/utils/tensor_numpy.cpp:143.)\n",
      "  return torch.from_numpy(parsed.astype(m[2], copy=False)).view(*s)\n"
     ]
    }
   ],
   "source": [
    "train_set = datasets.MNIST(root = './',train = True , download = True , transform = transform)\n",
    "train_data_set_loader = torch.utils.data.DataLoader(train_set,batch_size = 128,shuffle = True)\n",
    "\n",
    "test_set = datasets.MNIST(root = './',train = True , download = True, transform = transform)\n",
    "test_data_set_loader = torch.utils.data.DataLoader(test_set,batch_size = 128,shuffle = True)"
   ]
  },
  {
   "cell_type": "code",
   "execution_count": null,
   "metadata": {
    "id": "1NhqUKflueaX"
   },
   "outputs": [],
   "source": [
    "class mlp_1(nn.Module) :\n",
    "\n",
    "  def __init__(self) :\n",
    "    super(mlp_1,self).__init__()\n",
    "\n",
    "    self.fc1 = nn.Linear(28*28,512)\n",
    "    self.fc2 = nn.Linear(512,256)\n",
    "    self.fc3 = nn.Linear(256,128)\n",
    "    self.fc4 = nn.Linear(128,10)\n",
    "\n",
    "    nn.init.xavier_uniform_(self.fc1.weight)\n",
    "    nn.init.xavier_uniform_(self.fc2.weight)\n",
    "    nn.init.xavier_uniform_(self.fc3.weight)\n",
    "    nn.init.xavier_uniform_(self.fc4.weight)\n",
    "\n",
    "    nn.init.zeros_(self.fc4.bias)\n",
    "  \n",
    "  def forward(self,x) :\n",
    "\n",
    "    x = x.view(-1,28*28)\n",
    "    x = F.relu(self.fc1(x))\n",
    "    x = F.relu(self.fc2(x))\n",
    "    x = F.relu(self.fc3(x))\n",
    "    x = F.relu(self.fc4(x))\n",
    "\n",
    "    return x"
   ]
  },
  {
   "cell_type": "code",
   "execution_count": 75,
   "metadata": {
    "id": "PbBiqxmzx0Tq"
   },
   "outputs": [],
   "source": [
    "class mlp_2(nn.Module) :\n",
    "\n",
    "  def __init__(self) :\n",
    "    super(mlp_2,self).__init__()\n",
    "\n",
    "    self.fc1 = nn.Linear(28*28,512)\n",
    "    self.fc2 = nn.Linear(512,256)\n",
    "    self.fc3 = nn.Linear(256,128)\n",
    "    self.fc4 = nn.Linear(128,64)\n",
    "    self.fc5 = nn.Linear(64,32)\n",
    "    self.fc6 = nn.Linear(32,10)\n",
    "\n",
    "    #normal\n",
    "  \n",
    "  def forward(self,x) :\n",
    "\n",
    "    x = x.view(-1,28*28)\n",
    "    x = F.relu(self.fc1(x))\n",
    "    x = F.relu(self.fc2(x))\n",
    "    x = F.relu(self.fc3(x))\n",
    "    x = F.relu(self.fc4(x))\n",
    "    x = F.relu(self.fc5(x))\n",
    "    x = F.relu(self.fc6(x))\n",
    "\n",
    "    return x"
   ]
  },
  {
   "cell_type": "code",
   "execution_count": 88,
   "metadata": {
    "id": "RaKHxxOYyf9h"
   },
   "outputs": [],
   "source": [
    "class mlp_3(nn.Module) :\n",
    "\n",
    "  def __init__(self) :\n",
    "    super(mlp_3,self).__init__()\n",
    "\n",
    "    self.fc1 = nn.Linear(28*28,512)\n",
    "    self.fc2 = nn.Linear(512,256)\n",
    "    self.fc3 = nn.Linear(256,128)\n",
    "    self.fc4 = nn.Linear(128,10)\n",
    "\n",
    "    \"\"\"\n",
    "    nn.init.normal_(self.fc1.weight)\n",
    "    nn.init.normal_(self.fc2.weight)\n",
    "    nn.init.normal_(self.fc3.weight)\n",
    "    nn.init.normal_(self.fc4.weight)\n",
    "\n",
    "    nn.init.zeros_(self.fc4.bias)\n",
    "    \"\"\"\n",
    "    \n",
    "  def forward(self,x) :\n",
    "\n",
    "    x = x.view(-1,28*28)\n",
    "    x = F.relu(self.fc1(x))\n",
    "    x = F.relu(self.fc2(x))\n",
    "    x = F.relu(self.fc3(x))\n",
    "    x = F.relu(self.fc4(x))\n",
    "\n",
    "    return x"
   ]
  },
  {
   "cell_type": "code",
   "execution_count": null,
   "metadata": {
    "id": "o8NYehEHy4Ql"
   },
   "outputs": [],
   "source": [
    "model11 = mlp_1()\n",
    "criterion = nn.CrossEntropyLoss()\n",
    "optimizer = torch.optim.Adam(model11.parameters(),lr = 0.001)"
   ]
  },
  {
   "cell_type": "code",
   "execution_count": null,
   "metadata": {
    "colab": {
     "base_uri": "https://localhost:8080/"
    },
    "id": "JX_1oMtv0k6_",
    "outputId": "2275b555-6bd2-4c66-c5ab-784d87d34823"
   },
   "outputs": [
    {
     "name": "stdout",
     "output_type": "stream",
     "text": [
      "49752.120884895325\n",
      "21622.4652094841\n",
      "19447.83718109131\n",
      "18449.119835853577\n",
      "17863.79706096649\n",
      "17246.180711746216\n",
      "17021.700704574585\n",
      "16536.90038919449\n",
      "16488.195745944977\n",
      "16025.223058223724\n",
      "15771.701761722565\n",
      "16006.214833259583\n",
      "15557.062446594238\n",
      "15531.092677116394\n",
      "15534.49925994873\n",
      "15363.598430633545\n",
      "15058.955602407455\n",
      "15165.950773715973\n",
      "15098.721339225769\n",
      "15171.308295249939\n"
     ]
    }
   ],
   "source": [
    "for epoch in range(20) :\n",
    "  train_loss = 0\n",
    "\n",
    "  model11.train()\n",
    "  for data,label in train_data_set_loader :\n",
    "\n",
    "    optimizer.zero_grad()\n",
    "    output = model11(data)\n",
    "    loss = criterion(output,label)\n",
    "    loss.backward()\n",
    "    optimizer.step()\n",
    "\n",
    "    train_loss = train_loss + (loss.item()*data.size(0))\n",
    "\n",
    "  print(train_loss)"
   ]
  },
  {
   "cell_type": "code",
   "execution_count": null,
   "metadata": {
    "colab": {
     "base_uri": "https://localhost:8080/"
    },
    "id": "IkNWkLZ63Z7k",
    "outputId": "3cc5b138-7329-43a9-a652-f396a6229741"
   },
   "outputs": [
    {
     "name": "stdout",
     "output_type": "stream",
     "text": [
      "Overall accuracy is  89.525\n"
     ]
    }
   ],
   "source": [
    "import numpy as np\n",
    "correct_pred = [0,0,0,0,0,0,0,0,0,0]\n",
    "total_class = [0,0,0,0,0,0,0,0,0,0]\n",
    "\n",
    "for data,target in test_data_set_loader :\n",
    "\n",
    "  output = model11(data)\n",
    "  _,pred = torch.max(output,1)\n",
    "  correct = np.squeeze(pred.eq(target.data.view_as(pred)))\n",
    "\n",
    "  for i in range(len(target)) :\n",
    "    label = target.data[i]\n",
    "    correct_pred[label] += correct[i].item()\n",
    "    total_class[label] += 1\n",
    "  \n",
    "\"\"\"\n",
    "for i in range(10) :\n",
    "  if total_class[i] >  0 :\n",
    "    print(\"Accuracy of class \",i,\"is \",correct_pred[i]/total_class[i])\n",
    "\"\"\"\n",
    "print(\"Overall accuracy is \",(100*np.sum(correct_pred)/np.sum(total_class)))\n",
    "\n",
    "#lr 0.001 , epochs 10 , accuracy 87.93\n",
    "#lr 0.001 , epochs 20 , accuracy 89.525"
   ]
  },
  {
   "cell_type": "code",
   "execution_count": null,
   "metadata": {
    "id": "S3ciKomkP4NX"
   },
   "outputs": [],
   "source": [
    "model12 = mlp_1()\n",
    "criterion = nn.CrossEntropyLoss()\n",
    "optimizer = torch.optim.RMSprop(model12.parameters(),lr = 0.0001)"
   ]
  },
  {
   "cell_type": "code",
   "execution_count": null,
   "metadata": {
    "colab": {
     "base_uri": "https://localhost:8080/"
    },
    "id": "qDZiHWnfQBT-",
    "outputId": "1955b9d5-b893-4076-caee-5e2afa4caa00"
   },
   "outputs": [
    {
     "name": "stdout",
     "output_type": "stream",
     "text": [
      "25005.38155078888\n",
      "11991.686116695404\n",
      "8983.003359794617\n",
      "7135.244889497757\n",
      "5953.951804637909\n",
      "5013.127221107483\n",
      "4286.820169270039\n",
      "3766.9389518499374\n",
      "3249.794649362564\n",
      "2859.4831721782684\n",
      "2502.9195518791676\n",
      "2207.94243901968\n",
      "1948.8635367453098\n",
      "1693.1480377614498\n",
      "1517.8600658476353\n"
     ]
    }
   ],
   "source": [
    "for epoch in range(15) :\n",
    "  train_loss = 0\n",
    "\n",
    "  model11.train()\n",
    "  for data,label in train_data_set_loader :\n",
    "\n",
    "    optimizer.zero_grad()\n",
    "    output = model12(data)\n",
    "    loss = criterion(output,label)\n",
    "    loss.backward()\n",
    "    optimizer.step()\n",
    "\n",
    "    train_loss = train_loss + (loss.item()*data.size(0))\n",
    "\n",
    "  print(train_loss)"
   ]
  },
  {
   "cell_type": "code",
   "execution_count": null,
   "metadata": {
    "colab": {
     "base_uri": "https://localhost:8080/"
    },
    "id": "H5-NOI54Qs2Y",
    "outputId": "73354c51-3abf-4863-f417-058cc70b0428"
   },
   "outputs": [
    {
     "name": "stdout",
     "output_type": "stream",
     "text": [
      "Overall accuracy is  99.53666666666666\n"
     ]
    }
   ],
   "source": [
    "import numpy as np\n",
    "correct_pred = [0,0,0,0,0,0,0,0,0,0]\n",
    "total_class = [0,0,0,0,0,0,0,0,0,0]\n",
    "\n",
    "for data,target in test_data_set_loader :\n",
    "\n",
    "  output = model12(data)\n",
    "  _,pred = torch.max(output,1)\n",
    "  correct = np.squeeze(pred.eq(target.data.view_as(pred)))\n",
    "\n",
    "  for i in range(len(target)) :\n",
    "    label = target.data[i]\n",
    "    correct_pred[label] += correct[i].item()\n",
    "    total_class[label] += 1\n",
    "  \n",
    "\n",
    "print(\"Overall accuracy is \",(100*np.sum(correct_pred)/np.sum(total_class)))\n",
    "\n",
    "#lr 0.001 , epochs 10 , accuracy is 9.871   --> the loss is stagnant\n",
    "#lr 0.0001 , epochs 10 , accuracy is 90.008 \n",
    "#lr 0.0001 , epochs 15 , accuracy is 99.536"
   ]
  },
  {
   "cell_type": "code",
   "execution_count": null,
   "metadata": {
    "id": "Uf6QHMFmTO4V"
   },
   "outputs": [],
   "source": [
    "model13 = mlp_1()\n",
    "criterion = nn.CrossEntropyLoss()\n",
    "optimizer = torch.optim.SGD(model13.parameters(),lr = 0.001)"
   ]
  },
  {
   "cell_type": "code",
   "execution_count": null,
   "metadata": {
    "colab": {
     "base_uri": "https://localhost:8080/"
    },
    "id": "Kzbe-JqiTbfp",
    "outputId": "880610a5-a6ff-42f5-9aa4-aeb30dd5985f"
   },
   "outputs": [
    {
     "name": "stdout",
     "output_type": "stream",
     "text": [
      "110555.79136657715\n",
      "77575.85207748413\n",
      "63972.16039466858\n",
      "52417.69656562805\n",
      "38339.91796875\n",
      "30823.60044193268\n",
      "27305.76775932312\n",
      "25075.550208091736\n",
      "23503.83428668976\n",
      "22304.452394485474\n",
      "21334.72257900238\n",
      "20537.41711139679\n",
      "19866.10100364685\n",
      "19286.07076883316\n",
      "18765.594584465027\n",
      "18299.58671951294\n",
      "17875.879244804382\n",
      "17503.417568206787\n",
      "17139.41679573059\n",
      "16807.597626686096\n",
      "16499.567425727844\n",
      "16210.404308795929\n",
      "15936.769514083862\n",
      "15669.1551156044\n",
      "15425.662686824799\n",
      "15207.440314292908\n",
      "14974.150894641876\n",
      "14757.452068328857\n",
      "14539.171707630157\n",
      "14353.023048877716\n",
      "14150.676608085632\n",
      "13974.520438194275\n",
      "13798.518426418304\n",
      "13623.838661193848\n",
      "13450.562168121338\n",
      "13286.57967376709\n",
      "13135.351608753204\n",
      "12969.276574134827\n",
      "12824.960782051086\n",
      "12680.253047466278\n",
      "12531.19376373291\n",
      "12382.565048217773\n",
      "12251.307861328125\n",
      "12112.679736614227\n",
      "11976.465922355652\n",
      "11849.238807439804\n",
      "11722.092710018158\n",
      "11600.568454265594\n",
      "11479.024424552917\n",
      "11358.017796993256\n"
     ]
    }
   ],
   "source": [
    "for epoch in range(50) :\n",
    "  train_loss = 0\n",
    "\n",
    "  #model11.train()\n",
    "  for data,label in train_data_set_loader :\n",
    "\n",
    "    optimizer.zero_grad()\n",
    "    output = model13(data)\n",
    "    loss = criterion(output,label)\n",
    "    loss.backward()\n",
    "    optimizer.step()\n",
    "\n",
    "    train_loss = train_loss + (loss.item()*data.size(0))\n",
    "\n",
    "  print(train_loss)"
   ]
  },
  {
   "cell_type": "code",
   "execution_count": null,
   "metadata": {
    "colab": {
     "base_uri": "https://localhost:8080/"
    },
    "id": "_PSFak5GTdMv",
    "outputId": "0d47a0f8-7231-4cee-85d8-0337b7d401f6"
   },
   "outputs": [
    {
     "name": "stdout",
     "output_type": "stream",
     "text": [
      "Overall accuracy is  94.59333333333333\n"
     ]
    }
   ],
   "source": [
    "import numpy as np\n",
    "correct_pred = [0,0,0,0,0,0,0,0,0,0]\n",
    "total_class = [0,0,0,0,0,0,0,0,0,0]\n",
    "\n",
    "for data,target in test_data_set_loader :\n",
    "\n",
    "  output = model13(data)\n",
    "  _,pred = torch.max(output,1)\n",
    "  correct = np.squeeze(pred.eq(target.data.view_as(pred)))\n",
    "\n",
    "  for i in range(len(target)) :\n",
    "    label = target.data[i]\n",
    "    correct_pred[label] += correct[i].item()\n",
    "    total_class[label] += 1\n",
    "  \n",
    "\"\"\"\n",
    "for i in range(10) :\n",
    "  if total_class[i] >  0 :\n",
    "    print(\"Accuracy of class \",i,\"is \",correct_pred[i]/total_class[i])\n",
    "\"\"\"\n",
    "print(\"Overall accuracy is \",(100*np.sum(correct_pred)/np.sum(total_class)))\n",
    "\n",
    "#lr 0.001 , epochs 15 , accuracy -> 76.873\n",
    "#lr 0.001 , epochs 20 , accuracy -> 81.548\n",
    "#lr 0.001 , epochs 30 , accuracy -> 84.031\n",
    "#lr 0.001 , epochs 50 , accuracy -> 94.593"
   ]
  },
  {
   "cell_type": "code",
   "execution_count": null,
   "metadata": {
    "id": "XWmNjARZctBu"
   },
   "outputs": [],
   "source": [
    "model14 = mlp_1()\n",
    "criterion = nn.CrossEntropyLoss()\n",
    "optimizer = torch.optim.SGD(model14.parameters(),lr = 0.001,momentum = 0.05)"
   ]
  },
  {
   "cell_type": "code",
   "execution_count": null,
   "metadata": {
    "colab": {
     "base_uri": "https://localhost:8080/"
    },
    "id": "L9Lc4Z7gc0Th",
    "outputId": "6319740c-17ea-4c5a-f8b4-a564db1852d5"
   },
   "outputs": [
    {
     "name": "stdout",
     "output_type": "stream",
     "text": [
      "123513.87996292114\n",
      "103494.93338012695\n",
      "89160.28535842896\n",
      "81938.31173706055\n",
      "74489.21915817261\n",
      "69506.4783668518\n",
      "66292.27875518799\n",
      "60624.09271430969\n",
      "55752.91847991943\n",
      "53225.83371925354\n",
      "51552.24058151245\n",
      "50317.968141555786\n",
      "49338.52791213989\n",
      "48533.57759475708\n",
      "47842.597482681274\n",
      "47244.86606025696\n",
      "46725.209562301636\n",
      "46246.47728729248\n",
      "45831.03820228577\n",
      "45449.35527420044\n",
      "45089.788288116455\n",
      "44764.4184589386\n",
      "44446.86956214905\n",
      "44163.08374595642\n",
      "43896.28007698059\n",
      "43642.00099372864\n",
      "43390.58751678467\n",
      "43156.52928733826\n",
      "42938.15470504761\n",
      "42723.361810684204\n",
      "42514.22294616699\n",
      "42319.900356292725\n",
      "42119.42746925354\n",
      "41938.68195152283\n",
      "41752.494985580444\n",
      "40066.84981060028\n",
      "32111.739855766296\n",
      "30617.4686460495\n",
      "29971.219480514526\n",
      "29509.83198070526\n"
     ]
    }
   ],
   "source": [
    "for epoch in range(40) :\n",
    "  train_loss = 0\n",
    "\n",
    "  #model11.train()\n",
    "  for data,label in train_data_set_loader :\n",
    "\n",
    "    optimizer.zero_grad()\n",
    "    output = model14(data)\n",
    "    loss = criterion(output,label)\n",
    "    loss.backward()\n",
    "    optimizer.step()\n",
    "\n",
    "    train_loss = train_loss + (loss.item()*data.size(0))\n",
    "\n",
    "  print(train_loss)"
   ]
  },
  {
   "cell_type": "code",
   "execution_count": null,
   "metadata": {
    "colab": {
     "base_uri": "https://localhost:8080/"
    },
    "id": "32LK_VuKdZIn",
    "outputId": "c5737afc-d65f-4f7c-a2ac-11f97ffa2346"
   },
   "outputs": [
    {
     "name": "stdout",
     "output_type": "stream",
     "text": [
      "Overall accuracy is  83.505\n"
     ]
    }
   ],
   "source": [
    "import numpy as np\n",
    "correct_pred = [0,0,0,0,0,0,0,0,0,0]\n",
    "total_class = [0,0,0,0,0,0,0,0,0,0]\n",
    "\n",
    "for data,target in test_data_set_loader :\n",
    "\n",
    "  output = model14(data)\n",
    "  _,pred = torch.max(output,1)\n",
    "  correct = np.squeeze(pred.eq(target.data.view_as(pred)))\n",
    "\n",
    "  for i in range(len(target)) :\n",
    "    label = target.data[i]\n",
    "    correct_pred[label] += correct[i].item()\n",
    "    total_class[label] += 1\n",
    "  \n",
    "\"\"\"\n",
    "for i in range(10) :\n",
    "  if total_class[i] >  0 :\n",
    "    print(\"Accuracy of class \",i,\"is \",correct_pred[i]/total_class[i])\n",
    "\"\"\"\n",
    "print(\"Overall accuracy is \",(100*np.sum(correct_pred)/np.sum(total_class)))\n",
    "\n",
    "\n",
    "#lr 0.001 , epochs 10 , momentum 0.1 , accuracy 90.268\n",
    "#lr 0.001 , epochs 20 , momentum 0.1 , accuracy 75.196\n",
    "#lr 0.001 , epochs 20 , momentum 0.01 , accuracy 64.956\n",
    "#lr 0.001 , epochs 40 , momentum 0.01 , accuracy 75.461\n",
    "#lr 0.001 , epochs 40 , momentum 0.05 , accuracy 83.505"
   ]
  },
  {
   "cell_type": "code",
   "execution_count": null,
   "metadata": {
    "id": "qVsYR4KfzpRx"
   },
   "outputs": [],
   "source": [
    "import math\n",
    "lr_lambda = lambda x: math.exp(x * math.log(0.0001/0.000001) / (20 * 128))\n",
    "#lr_lambda = lambda x: math.exp(x * math.log(end_lr / start_lr) / (lr_find_epochs * len( dataloaders[\"train\"])))\n",
    "scheduler = torch.optim.lr_scheduler.LambdaLR(optimizer, lr_lambda)"
   ]
  },
  {
   "cell_type": "code",
   "execution_count": 68,
   "metadata": {
    "id": "eHuVw7dknEX4"
   },
   "outputs": [],
   "source": [
    "def weights_init_normal(m):\n",
    "    \n",
    "  classname = m.__class__.__name__\n",
    "  if classname.find('Linear') != -1:\n",
    "    y = m.in_features\n",
    "    m.weight.data.normal_(0.0,1/np.sqrt(y))\n",
    "    m.bias.data.fill_(0)"
   ]
  },
  {
   "cell_type": "code",
   "execution_count": 89,
   "metadata": {
    "id": "s4aRjaf4vm7Y"
   },
   "outputs": [],
   "source": [
    "def weights_init_uniform(m):\n",
    "  classname = m.__class__.__name__\n",
    "  if classname.find('Linear') != -1:\n",
    "    m.weight.data.uniform_(0.0, 1.0)\n",
    "    m.bias.data.fill_(0)"
   ]
  },
  {
   "cell_type": "code",
   "execution_count": 69,
   "metadata": {
    "id": "0kjRy-5ikdmM"
   },
   "outputs": [],
   "source": [
    "model21 = mlp_2()\n",
    "model21.apply(weights_init_normal)\n",
    "criterion = nn.CrossEntropyLoss()\n",
    "optimizer = torch.optim.Adam(model21.parameters(),lr = 0.001)"
   ]
  },
  {
   "cell_type": "code",
   "execution_count": 70,
   "metadata": {
    "colab": {
     "base_uri": "https://localhost:8080/"
    },
    "id": "m2DXs2VSkoZA",
    "outputId": "e40d7e73-3b02-4d9f-b247-285f64d15720"
   },
   "outputs": [
    {
     "name": "stdout",
     "output_type": "stream",
     "text": [
      "52844.61612510681\n",
      "48740.06343078613\n",
      "48740.063455581665\n",
      "48740.06357574463\n",
      "48740.063608169556\n",
      "48740.06357002258\n",
      "48740.06377220154\n",
      "48740.06369781494\n",
      "48740.06372833252\n",
      "48740.063636779785\n",
      "48740.06350898743\n",
      "48740.06360054016\n",
      "48740.063650131226\n",
      "48740.063093185425\n",
      "48740.063482284546\n"
     ]
    }
   ],
   "source": [
    "\"\"\"\n",
    "lr_lambda = lambda x: math.exp(x * math.log(0.0001/0.000001) / (30 * 128))\n",
    "#lr_lambda = lambda x: math.exp(x * math.log(end_lr / start_lr) / (lr_find_epochs * len( dataloaders[\"train\"])))\n",
    "scheduler = torch.optim.lr_scheduler.LambdaLR(optimizer, lr_lambda)\n",
    "\"\"\"\n",
    "\n",
    "scheduler =  torch.optim.lr_scheduler.ExponentialLR(optimizer=optimizer ,gamma = 0.95)\n",
    "for epoch in range(15) :\n",
    "  train_loss = 0\n",
    "\n",
    "  #model11.train()\n",
    "  for data,label in train_data_set_loader :\n",
    "\n",
    "    optimizer.zero_grad()\n",
    "    output = model21(data)\n",
    "    loss = criterion(output,label)\n",
    "    loss.backward()\n",
    "    optimizer.step()\n",
    "\n",
    "    #the magic :) :)\n",
    "\n",
    "    scheduler.step()\n",
    "    #lr_step = optimizer.state_dict()[\"param_groups\"][0][\"lr\"]\n",
    "    #lr_find_lr.append(lr_step)\n",
    "\n",
    "    #lr_find_loss.append(lr_step)\n",
    "\n",
    "    train_loss = train_loss + (loss.item()*data.size(0))\n",
    "\n",
    "  print(train_loss)"
   ]
  },
  {
   "cell_type": "code",
   "execution_count": 71,
   "metadata": {
    "colab": {
     "base_uri": "https://localhost:8080/"
    },
    "id": "kvBQmBwulhoo",
    "outputId": "60e1b59f-a5bb-4ad4-c42a-a760b8684485"
   },
   "outputs": [
    {
     "name": "stdout",
     "output_type": "stream",
     "text": [
      "Overall accuracy is  78.18666666666667\n"
     ]
    }
   ],
   "source": [
    "import numpy as np\n",
    "correct_pred = [0,0,0,0,0,0,0,0,0,0]\n",
    "total_class = [0,0,0,0,0,0,0,0,0,0]\n",
    "\n",
    "for data,target in test_data_set_loader :\n",
    "\n",
    "  output = model21(data)\n",
    "  _,pred = torch.max(output,1)\n",
    "  correct = np.squeeze(pred.eq(target.data.view_as(pred)))\n",
    "\n",
    "  for i in range(len(target)) :\n",
    "    label = target.data[i]\n",
    "    correct_pred[label] += correct[i].item()\n",
    "    total_class[label] += 1\n",
    "  \n",
    "\"\"\"\n",
    "for i in range(10) :\n",
    "  if total_class[i] >  0 :\n",
    "    print(\"Accuracy of class \",i,\"is \",correct_pred[i]/total_class[i])\n",
    "\"\"\"\n",
    "print(\"Overall accuracy is \",(100*np.sum(correct_pred)/np.sum(total_class)))\n",
    "\n",
    "#lr 0.001 , epochs 20 , accuracy 11.236\n",
    "#lr 0.0001 , epochs 20 , accuracy 11.236\n",
    "#lr 0.000001 , epochs 30 , accuracy 9.871 (with lambdaLR)\n",
    "#lr 0.001 , epochs 15 , accuracy 78.186 (exponential LR)"
   ]
  },
  {
   "cell_type": "code",
   "execution_count": 78,
   "metadata": {
    "id": "OHLmitAVokeA"
   },
   "outputs": [],
   "source": [
    "model22 = mlp_2()\n",
    "model22.apply(weights_init_normal)\n",
    "criterion = nn.CrossEntropyLoss()\n",
    "optimizer = torch.optim.RMSprop(model22.parameters(),lr = 0.001)"
   ]
  },
  {
   "cell_type": "code",
   "execution_count": 79,
   "metadata": {
    "colab": {
     "base_uri": "https://localhost:8080/"
    },
    "id": "VO4ttj80oxLx",
    "outputId": "6bc3d4d3-2d55-4511-ee36-6237d34e7b43"
   },
   "outputs": [
    {
     "name": "stdout",
     "output_type": "stream",
     "text": [
      "140506.14684295654\n",
      "138154.91759490967\n",
      "138154.91759490967\n",
      "138154.91759490967\n",
      "138154.91762542725\n",
      "138154.91759490967\n",
      "138154.91759490967\n",
      "138154.91759490967\n",
      "138154.91759490967\n",
      "138154.91762542725\n",
      "138154.91759490967\n",
      "138154.91759490967\n",
      "138154.91759490967\n",
      "138154.91759490967\n",
      "138154.91759490967\n",
      "138154.91759490967\n",
      "138154.91760253906\n",
      "138154.91762542725\n",
      "138154.91759490967\n",
      "138154.91759490967\n"
     ]
    }
   ],
   "source": [
    "\"\"\"\n",
    "lr_lambda = lambda x: math.exp(x * math.log(0.0001/0.000001) / (40 * 128))\n",
    "#lr_lambda = lambda x: math.exp(x * math.log(end_lr / start_lr) / (lr_find_epochs * len( dataloaders[\"train\"])))\n",
    "scheduler = torch.optim.lr_scheduler.LambdaLR(optimizer, lr_lambda)\n",
    "\"\"\"\n",
    "\n",
    "scheduler =  torch.optim.lr_scheduler.ExponentialLR(optimizer=optimizer ,gamma = 0.95)\n",
    "for epoch in range(20) :\n",
    "  train_loss = 0\n",
    "\n",
    "  #model11.train()\n",
    "  for data,label in train_data_set_loader :\n",
    "\n",
    "    optimizer.zero_grad()\n",
    "    output = model22(data)\n",
    "    loss = criterion(output,label)\n",
    "    loss.backward()\n",
    "    optimizer.step()\n",
    "\n",
    "    scheduler.step()\n",
    "    train_loss = train_loss + (loss.item()*data.size(0))\n",
    "\n",
    "  print(train_loss)"
   ]
  },
  {
   "cell_type": "code",
   "execution_count": 80,
   "metadata": {
    "colab": {
     "base_uri": "https://localhost:8080/"
    },
    "id": "-n6x7o42qC8P",
    "outputId": "2f6338ec-5dc6-4d23-b9f4-b1a4f90081c2"
   },
   "outputs": [
    {
     "name": "stdout",
     "output_type": "stream",
     "text": [
      "Overall accuracy is  9.875\n"
     ]
    }
   ],
   "source": [
    "import numpy as np\n",
    "correct_pred = [0,0,0,0,0,0,0,0,0,0]\n",
    "total_class = [0,0,0,0,0,0,0,0,0,0]\n",
    "\n",
    "for data,target in test_data_set_loader :\n",
    "\n",
    "  output = model22(data)\n",
    "  _,pred = torch.max(output,1)\n",
    "  correct = np.squeeze(pred.eq(target.data.view_as(pred)))\n",
    "\n",
    "  for i in range(len(target)) :\n",
    "    label = target.data[i]\n",
    "    correct_pred[label] += correct[i].item()\n",
    "    total_class[label] += 1\n",
    "  \n",
    "\"\"\"\n",
    "for i in range(10) :\n",
    "  if total_class[i] >  0 :\n",
    "    print(\"Accuracy of class \",i,\"is \",correct_pred[i]/total_class[i])\n",
    "\"\"\"\n",
    "print(\"Overall accuracy is \",(100*np.sum(correct_pred)/np.sum(total_class)))\n",
    "\n",
    "\n",
    "#lr 0.0001 , epochs 20 , accuracy 11.236\n",
    "#lr 0.000001 , epochs 20 , accuracy 10.441 (lambda lr)\n",
    "#lr 0.000001 , epochs 30 , accuracy 9.93 (lambda lr)\n",
    "#lr 0.000001 , epochs 40 , accuracy 9.871 (lambda lr)\n",
    "#lr 0.001 , epochs 20 , accuracy 9.875 (exponential lr)"
   ]
  },
  {
   "cell_type": "code",
   "execution_count": 82,
   "metadata": {
    "id": "AWlSEYV0qghK"
   },
   "outputs": [],
   "source": [
    "model23 = mlp_2()\n",
    "model23.apply(weights_init_normal)\n",
    "criterion = nn.CrossEntropyLoss()\n",
    "optimizer = torch.optim.SGD(model23.parameters(),lr = 0.001)"
   ]
  },
  {
   "cell_type": "code",
   "execution_count": 83,
   "metadata": {
    "colab": {
     "base_uri": "https://localhost:8080/"
    },
    "id": "aruXAl2pqo9W",
    "outputId": "e921a220-0823-4df7-f640-d85b39e4cd4d"
   },
   "outputs": [
    {
     "name": "stdout",
     "output_type": "stream",
     "text": [
      "138391.64263916016\n",
      "138385.4483718872\n",
      "138385.44751739502\n",
      "138385.44722747803\n",
      "138385.44885253906\n",
      "138385.44757843018\n",
      "138385.44931030273\n",
      "138385.4469833374\n",
      "138385.44784545898\n",
      "138385.44844818115\n",
      "138385.44680786133\n",
      "138385.4469833374\n",
      "138385.44834136963\n",
      "138385.4479446411\n",
      "138385.4462814331\n",
      "138385.44913482666\n",
      "138385.44718170166\n",
      "138385.4490737915\n",
      "138385.4482345581\n",
      "138385.44870758057\n"
     ]
    }
   ],
   "source": [
    "\"\"\"\n",
    "lr_lambda = lambda x: math.exp(x * math.log(0.0001/0.000001) / (20 * 128))\n",
    "#lr_lambda = lambda x: math.exp(x * math.log(end_lr / start_lr) / (lr_find_epochs * len( dataloaders[\"train\"])))\n",
    "scheduler = torch.optim.lr_scheduler.LambdaLR(optimizer, lr_lambda)\n",
    "\"\"\"\n",
    "scheduler =  torch.optim.lr_scheduler.ExponentialLR(optimizer=optimizer ,gamma = 0.95)\n",
    "for epoch in range(20) :\n",
    "  train_loss = 0\n",
    "\n",
    "  #model11.train()\n",
    "  for data,label in train_data_set_loader :\n",
    "\n",
    "    optimizer.zero_grad()\n",
    "    output = model23(data)\n",
    "    loss = criterion(output,label)\n",
    "    loss.backward()\n",
    "    optimizer.step()\n",
    "\n",
    "    scheduler.step()\n",
    "    train_loss = train_loss + (loss.item()*data.size(0))\n",
    "\n",
    "  print(train_loss)"
   ]
  },
  {
   "cell_type": "code",
   "execution_count": 84,
   "metadata": {
    "colab": {
     "base_uri": "https://localhost:8080/"
    },
    "id": "_B7coa09ro67",
    "outputId": "adde5552-4543-4a68-9e9e-0802f436e4c5"
   },
   "outputs": [
    {
     "name": "stdout",
     "output_type": "stream",
     "text": [
      "Overall accuracy is  9.721666666666666\n"
     ]
    }
   ],
   "source": [
    "import numpy as np\n",
    "correct_pred = [0,0,0,0,0,0,0,0,0,0]\n",
    "total_class = [0,0,0,0,0,0,0,0,0,0]\n",
    "\n",
    "for data,target in test_data_set_loader :\n",
    "\n",
    "  output = model23(data)\n",
    "  _,pred = torch.max(output,1)\n",
    "  correct = np.squeeze(pred.eq(target.data.view_as(pred)))\n",
    "\n",
    "  for i in range(len(target)) :\n",
    "    label = target.data[i]\n",
    "    correct_pred[label] += correct[i].item()\n",
    "    total_class[label] += 1\n",
    "  \n",
    "\"\"\"\n",
    "for i in range(10) :\n",
    "  if total_class[i] >  0 :\n",
    "    print(\"Accuracy of class \",i,\"is \",correct_pred[i]/total_class[i])\n",
    "\"\"\"\n",
    "print(\"Overall accuracy is \",(100*np.sum(correct_pred)/np.sum(total_class)))\n",
    "\n",
    "#lr 0.001 , epochs = 20 , accuracy 11.236\n",
    "#lr 0.0001 , epochs = 20 , accuracy 11.236\n",
    "#lr 0.0001 , epochs = 40 , accuracy 11.236\n",
    "#lr 0.000001 , epochs = 20 , accuracy 9.87 (lamdalr )\n",
    "#lr 0.001 , epochs 20 , accuracy 9.721 (exponential lr)"
   ]
  },
  {
   "cell_type": "code",
   "execution_count": 85,
   "metadata": {
    "id": "EAvqHiDB5cpF"
   },
   "outputs": [],
   "source": [
    "model24 = mlp_2()\n",
    "model24.apply(weights_init_normal)\n",
    "criterion = nn.CrossEntropyLoss()\n",
    "optimizer = torch.optim.SGD(model24.parameters(),lr = 0.001,momentum = 0.05)"
   ]
  },
  {
   "cell_type": "code",
   "execution_count": 86,
   "metadata": {
    "colab": {
     "base_uri": "https://localhost:8080/"
    },
    "id": "AKFLgJtl5qBb",
    "outputId": "b062d3d2-d234-4c95-a01a-6a308f201adc"
   },
   "outputs": [
    {
     "name": "stdout",
     "output_type": "stream",
     "text": [
      "137163.91078186035\n",
      "137139.83061218262\n",
      "137139.83252716064\n",
      "137139.83220672607\n",
      "137139.83219146729\n",
      "137139.82991790771\n",
      "137139.8324432373\n",
      "137139.8302307129\n",
      "137139.83023834229\n",
      "137139.8324508667\n",
      "137139.83199310303\n",
      "137139.83127593994\n",
      "137139.83141326904\n",
      "137139.83016204834\n",
      "137139.83138275146\n",
      "137139.83171844482\n",
      "137139.8307723999\n",
      "137139.83200836182\n",
      "137139.83219146729\n",
      "137139.82991790771\n"
     ]
    }
   ],
   "source": [
    "\"\"\"\n",
    "lr_lambda = lambda x: math.exp(x * math.log(0.0001/0.000001) / (20 * 128))\n",
    "#lr_lambda = lambda x: math.exp(x * math.log(end_lr / start_lr) / (lr_find_epochs * len( dataloaders[\"train\"])))\n",
    "scheduler = torch.optim.lr_scheduler.LambdaLR(optimizer, lr_lambda)\n",
    "\"\"\"\n",
    "\n",
    "scheduler =  torch.optim.lr_scheduler.ExponentialLR(optimizer=optimizer ,gamma = 0.95)\n",
    "\n",
    "for epoch in range(20) :\n",
    "  train_loss = 0\n",
    "\n",
    "  #model11.train()\n",
    "  for data,label in train_data_set_loader :\n",
    "\n",
    "    optimizer.zero_grad()\n",
    "    output = model24(data)\n",
    "    loss = criterion(output,label)\n",
    "    loss.backward()\n",
    "    optimizer.step()\n",
    "\n",
    "    scheduler.step()\n",
    "\n",
    "    train_loss = train_loss + (loss.item()*data.size(0))\n",
    "\n",
    "  print(train_loss)"
   ]
  },
  {
   "cell_type": "code",
   "execution_count": 87,
   "metadata": {
    "colab": {
     "base_uri": "https://localhost:8080/"
    },
    "id": "N5LffZqj7ZfF",
    "outputId": "bfe385f3-4c01-414e-f138-dab224312342"
   },
   "outputs": [
    {
     "name": "stdout",
     "output_type": "stream",
     "text": [
      "Overall accuracy is  15.765\n"
     ]
    }
   ],
   "source": [
    "import numpy as np\n",
    "correct_pred = [0,0,0,0,0,0,0,0,0,0]\n",
    "total_class = [0,0,0,0,0,0,0,0,0,0]\n",
    "\n",
    "for data,target in test_data_set_loader :\n",
    "\n",
    "  output = model24(data)\n",
    "  _,pred = torch.max(output,1)\n",
    "  correct = np.squeeze(pred.eq(target.data.view_as(pred)))\n",
    "\n",
    "  for i in range(len(target)) :\n",
    "    label = target.data[i]\n",
    "    correct_pred[label] += correct[i].item()\n",
    "    total_class[label] += 1\n",
    "  \n",
    "\"\"\"\n",
    "for i in range(10) :\n",
    "  if total_class[i] >  0 :\n",
    "    print(\"Accuracy of class \",i,\"is \",correct_pred[i]/total_class[i])\n",
    "\"\"\"\n",
    "print(\"Overall accuracy is \",(100*np.sum(correct_pred)/np.sum(total_class)))\n",
    "\n",
    "#lr 0.001 , epoch 10 , momentum 0.05 , accuracy 11.236\n",
    "#lr 0.001 , epoch 40 , momentum 0.05 , accuracy 11.236\n",
    "#lr 0.00001 , epoch 20 , momentum 0.05 , accuracy 9.871 (lambdalr)\n",
    "#lr 0.001 , epoch 20 , momentum 0.05 , accuracy 15.765 (exponential lr)"
   ]
  },
  {
   "cell_type": "code",
   "execution_count": 90,
   "metadata": {
    "id": "AG8g2GG8EwPg"
   },
   "outputs": [],
   "source": [
    "model31 = mlp_3()\n",
    "model31.apply(weights_init_uniform)\n",
    "criterion = nn.CrossEntropyLoss()\n",
    "optimizer = torch.optim.Adam(model31.parameters(),lr = 0.0001)"
   ]
  },
  {
   "cell_type": "code",
   "execution_count": 91,
   "metadata": {
    "colab": {
     "base_uri": "https://localhost:8080/"
    },
    "id": "zFxNLf3SFAIe",
    "outputId": "7cab361d-2dde-4aa4-ad2b-554c5acec034"
   },
   "outputs": [
    {
     "name": "stdout",
     "output_type": "stream",
     "text": [
      "138154.96446990967\n",
      "138154.96446990967\n",
      "138154.96446990967\n",
      "138154.96446990967\n",
      "138154.96446990967\n",
      "138154.96446990967\n",
      "138154.96446990967\n",
      "138154.96446990967\n",
      "138154.96446990967\n",
      "138154.96446990967\n",
      "138154.96446990967\n",
      "138154.96446990967\n",
      "138154.96446990967\n",
      "138154.96446990967\n",
      "138154.96446990967\n",
      "138154.96446990967\n",
      "138154.96446990967\n",
      "138154.96446990967\n",
      "138154.96446990967\n",
      "138154.96446990967\n"
     ]
    }
   ],
   "source": [
    "\"\"\"\n",
    "lr_lambda = lambda x: math.exp(x * math.log(0.0001/0.000001) / (20 * 128))\n",
    "#lr_lambda = lambda x: math.exp(x * math.log(end_lr / start_lr) / (lr_find_epochs * len( dataloaders[\"train\"])))\n",
    "scheduler = torch.optim.lr_scheduler.LambdaLR(optimizer, lr_lambda)\n",
    "\"\"\"\n",
    "scheduler =  torch.optim.lr_scheduler.ExponentialLR(optimizer=optimizer ,gamma = 0.95)\n",
    "for epoch in range(20) :\n",
    "  train_loss = 0\n",
    "\n",
    "  #model11.train()\n",
    "  for data,label in train_data_set_loader :\n",
    "\n",
    "    optimizer.zero_grad()\n",
    "    output = model31(data)\n",
    "    loss = criterion(output,label)\n",
    "    loss.backward()\n",
    "    optimizer.step()\n",
    "\n",
    "    scheduler.step()\n",
    "    train_loss = train_loss + (loss.item()*data.size(0))\n",
    "\n",
    "  print(train_loss)"
   ]
  },
  {
   "cell_type": "code",
   "execution_count": 92,
   "metadata": {
    "colab": {
     "base_uri": "https://localhost:8080/"
    },
    "id": "l-_t1Sd0FZ7u",
    "outputId": "7ed7f2ae-fd27-43fe-9937-d82b948a27e2"
   },
   "outputs": [
    {
     "name": "stdout",
     "output_type": "stream",
     "text": [
      "Overall accuracy is  9.871666666666666\n"
     ]
    }
   ],
   "source": [
    "import numpy as np\n",
    "correct_pred = [0,0,0,0,0,0,0,0,0,0]\n",
    "total_class = [0,0,0,0,0,0,0,0,0,0]\n",
    "\n",
    "for data,target in test_data_set_loader :\n",
    "\n",
    "  output = model31(data)\n",
    "  _,pred = torch.max(output,1)\n",
    "  correct = np.squeeze(pred.eq(target.data.view_as(pred)))\n",
    "\n",
    "  for i in range(len(target)) :\n",
    "    label = target.data[i]\n",
    "    correct_pred[label] += correct[i].item()\n",
    "    total_class[label] += 1\n",
    "  \n",
    "\"\"\"\n",
    "for i in range(10) :\n",
    "  if total_class[i] >  0 :\n",
    "    print(\"Accuracy of class \",i,\"is \",correct_pred[i]/total_class[i])\n",
    "\"\"\"\n",
    "print(\"Overall accuracy is \",(100*np.sum(correct_pred)/np.sum(total_class)))\n",
    "\n",
    "#lr 0.001 , epoch 10 , accuracy 9.871\n",
    "#lr 0.0001 , epoch 10 , accuracy 9.925\n",
    "#lr 0.0001 , epoch 20 , accuracy 10.226\n",
    "\n",
    "#lr 0.000001 , epoch 20 , accuracy 9.89 (lambda lr)\n",
    "#lr 0.0001 , epoch 20 , accuracy 9.871 (expo lr)"
   ]
  },
  {
   "cell_type": "code",
   "execution_count": 94,
   "metadata": {
    "id": "gMbUuVg1I7u2"
   },
   "outputs": [],
   "source": [
    "model32 = mlp_3()\n",
    "model32.apply(weights_init_uniform)\n",
    "criterion = nn.CrossEntropyLoss()\n",
    "optimizer = torch.optim.RMSprop(model32.parameters(),lr = 0.001)"
   ]
  },
  {
   "cell_type": "code",
   "execution_count": 95,
   "metadata": {
    "colab": {
     "base_uri": "https://localhost:8080/"
    },
    "id": "JNTFI56rOcDv",
    "outputId": "fd277324-ba08-4f22-b9cf-2a91e80559aa"
   },
   "outputs": [
    {
     "name": "stdout",
     "output_type": "stream",
     "text": [
      "138154.96446990967\n",
      "138154.96446990967\n",
      "138154.96446990967\n",
      "138154.96446990967\n",
      "138154.96446990967\n",
      "138154.96446990967\n",
      "138154.96446990967\n",
      "138154.96446990967\n",
      "138154.96446990967\n",
      "138154.96446990967\n",
      "138154.96446990967\n",
      "138154.96446990967\n",
      "138154.96446990967\n",
      "138154.96446990967\n",
      "138154.96446990967\n",
      "138154.96446990967\n",
      "138154.96446990967\n",
      "138154.96446990967\n",
      "138154.96446990967\n",
      "138154.96446990967\n"
     ]
    }
   ],
   "source": [
    "\"\"\"\n",
    "lr_lambda = lambda x: math.exp(x * math.log(0.0001/0.000001) / (20 * 128))\n",
    "#lr_lambda = lambda x: math.exp(x * math.log(end_lr / start_lr) / (lr_find_epochs * len( dataloaders[\"train\"])))\n",
    "scheduler = torch.optim.lr_scheduler.LambdaLR(optimizer, lr_lambda)\n",
    "\"\"\"\n",
    "\n",
    "scheduler =  torch.optim.lr_scheduler.ExponentialLR(optimizer=optimizer ,gamma = 0.95)\n",
    "for epoch in range(20) :\n",
    "  train_loss = 0\n",
    "\n",
    "  #model11.train()\n",
    "  for data,label in train_data_set_loader :\n",
    "\n",
    "    optimizer.zero_grad()\n",
    "    output = model32(data)\n",
    "    loss = criterion(output,label)\n",
    "    loss.backward()\n",
    "    optimizer.step()\n",
    "\n",
    "    scheduler.step()\n",
    "    train_loss = train_loss + (loss.item()*data.size(0))\n",
    "\n",
    "  print(train_loss)"
   ]
  },
  {
   "cell_type": "code",
   "execution_count": 96,
   "metadata": {
    "colab": {
     "base_uri": "https://localhost:8080/"
    },
    "id": "UbiACVCePHLM",
    "outputId": "4c0f8d81-f647-4850-d2f2-1717cd72e0b9"
   },
   "outputs": [
    {
     "name": "stdout",
     "output_type": "stream",
     "text": [
      "Overall accuracy is  9.871666666666666\n"
     ]
    }
   ],
   "source": [
    "import numpy as np\n",
    "correct_pred = [0,0,0,0,0,0,0,0,0,0]\n",
    "total_class = [0,0,0,0,0,0,0,0,0,0]\n",
    "\n",
    "for data,target in test_data_set_loader :\n",
    "\n",
    "  output = model32(data)\n",
    "  _,pred = torch.max(output,1)\n",
    "  correct = np.squeeze(pred.eq(target.data.view_as(pred)))\n",
    "\n",
    "  for i in range(len(target)) :\n",
    "    label = target.data[i]\n",
    "    correct_pred[label] += correct[i].item()\n",
    "    total_class[label] += 1\n",
    "  \n",
    "\"\"\"\n",
    "for i in range(10) :\n",
    "  if total_class[i] >  0 :\n",
    "    print(\"Accuracy of class \",i,\"is \",correct_pred[i]/total_class[i])\n",
    "\"\"\"\n",
    "print(\"Overall accuracy is \",(100*np.sum(correct_pred)/np.sum(total_class)))\n",
    "\n",
    "#lr 0.001 , epochs 10 , accuracy 9.875\n",
    "#lr 0.0001 , epochs 10 , accuracy 9.9\n",
    "#lr 0.000001 , epochs 20 , accuracy 9.871 (lambda lr)\n",
    "#lr 0.001 , epochs 20 , accuracy 9.871 (exponential lr)"
   ]
  },
  {
   "cell_type": "code",
   "execution_count": 100,
   "metadata": {
    "id": "L7X9wWvdP7hy"
   },
   "outputs": [],
   "source": [
    "model33 = mlp_3()\n",
    "model33.apply(weights_init_uniform)\n",
    "criterion = nn.CrossEntropyLoss()\n",
    "optimizer = torch.optim.SGD(model33.parameters(),lr = 0.001)"
   ]
  },
  {
   "cell_type": "code",
   "execution_count": 101,
   "metadata": {
    "colab": {
     "base_uri": "https://localhost:8080/"
    },
    "id": "VcCL3B3MQIs4",
    "outputId": "fec68180-79fc-456d-eaa1-d5cc0e2d60e5"
   },
   "outputs": [
    {
     "name": "stdout",
     "output_type": "stream",
     "text": [
      "138154.96446990967\n",
      "138154.96446990967\n",
      "138154.96446990967\n",
      "138154.96446990967\n",
      "138154.96446990967\n",
      "138154.96446990967\n",
      "138154.96446990967\n",
      "138154.96446990967\n",
      "138154.96446990967\n",
      "138154.96446990967\n",
      "138154.96446990967\n",
      "138154.96446990967\n",
      "138154.96446990967\n",
      "138154.96446990967\n",
      "138154.96446990967\n",
      "138154.96446990967\n",
      "138154.96446990967\n",
      "138154.96446990967\n",
      "138154.96446990967\n",
      "138154.96446990967\n",
      "138154.96446990967\n",
      "138154.96446990967\n",
      "138154.96446990967\n",
      "138154.96446990967\n",
      "138154.96446990967\n",
      "138154.96446990967\n",
      "138154.96446990967\n",
      "138154.96446990967\n",
      "138154.96446990967\n",
      "138154.96446990967\n"
     ]
    }
   ],
   "source": [
    "\"\"\"\n",
    "lr_lambda = lambda x: math.exp(x * math.log(0.0001/0.000001) / (30 * 128))\n",
    "#lr_lambda = lambda x: math.exp(x * math.log(end_lr / start_lr) / (lr_find_epochs * len( dataloaders[\"train\"])))\n",
    "scheduler = torch.optim.lr_scheduler.LambdaLR(optimizer, lr_lambda)\n",
    "\"\"\"\n",
    "scheduler =  torch.optim.lr_scheduler.ExponentialLR(optimizer=optimizer ,gamma = 0.95)\n",
    "for epoch in range(30) :\n",
    "  train_loss = 0\n",
    "\n",
    "  #model11.train()\n",
    "  for data,label in train_data_set_loader :\n",
    "\n",
    "    optimizer.zero_grad()\n",
    "    output = model33(data)\n",
    "    loss = criterion(output,label)\n",
    "    loss.backward()\n",
    "    optimizer.step()\n",
    "\n",
    "    train_loss = train_loss + (loss.item()*data.size(0))\n",
    "\n",
    "  print(train_loss)"
   ]
  },
  {
   "cell_type": "code",
   "execution_count": 102,
   "metadata": {
    "colab": {
     "base_uri": "https://localhost:8080/"
    },
    "id": "qywOdKd_QnMC",
    "outputId": "c152fd18-db86-4710-b754-1c50595e1c65"
   },
   "outputs": [
    {
     "name": "stdout",
     "output_type": "stream",
     "text": [
      "Overall accuracy is  9.871666666666666\n"
     ]
    }
   ],
   "source": [
    "import numpy as np\n",
    "correct_pred = [0,0,0,0,0,0,0,0,0,0]\n",
    "total_class = [0,0,0,0,0,0,0,0,0,0]\n",
    "\n",
    "for data,target in test_data_set_loader :\n",
    "\n",
    "  output = model33(data)\n",
    "  _,pred = torch.max(output,1)\n",
    "  correct = np.squeeze(pred.eq(target.data.view_as(pred)))\n",
    "\n",
    "  for i in range(len(target)) :\n",
    "    label = target.data[i]\n",
    "    correct_pred[label] += correct[i].item()\n",
    "    total_class[label] += 1\n",
    "  \n",
    "\"\"\"\n",
    "for i in range(10) :\n",
    "  if total_class[i] >  0 :\n",
    "    print(\"Accuracy of class \",i,\"is \",correct_pred[i]/total_class[i])\n",
    "\"\"\"\n",
    "print(\"Overall accuracy is \",(100*np.sum(correct_pred)/np.sum(total_class)))\n",
    "\n",
    "#lr 0.0001 , epoch 10 , accuracy 9.875\n",
    "#lr 0.000001 , epoch 10 , accuracy 9.9 (lambdalr )\n",
    "#lr 0.000001 , epoch 15 , accurcy 9.935 (lambda lr)\n",
    "#lr 0.000001 , epoch 20 , accuracy 9.941 (lambda lr)\n",
    "#lr 0.000001 , epoch 30 , accuracy 9.9 (lambda lr)\n",
    "\n",
    "#lr 0.001 , epoch 30 , accuracy 9.871 (expo lr)"
   ]
  },
  {
   "cell_type": "code",
   "execution_count": 103,
   "metadata": {
    "id": "sk29VVHTQ8Lj"
   },
   "outputs": [],
   "source": [
    "model34 = mlp_3()\n",
    "model34.apply(weights_init_uniform)\n",
    "criterion = nn.CrossEntropyLoss()\n",
    "optimizer = torch.optim.SGD(model34.parameters(),lr = 0.001,momentum = 0.05)"
   ]
  },
  {
   "cell_type": "code",
   "execution_count": 104,
   "metadata": {
    "colab": {
     "base_uri": "https://localhost:8080/"
    },
    "id": "BMK0GLPbRFaE",
    "outputId": "7a33033a-485d-4d27-d7e0-7c57a749f3d3"
   },
   "outputs": [
    {
     "name": "stdout",
     "output_type": "stream",
     "text": [
      "138154.96446990967\n",
      "138154.96446990967\n",
      "138154.96446990967\n",
      "138154.96446990967\n",
      "138154.96446990967\n",
      "138154.96446990967\n",
      "138154.96446990967\n",
      "138154.96446990967\n",
      "138154.96446990967\n",
      "138154.96446990967\n",
      "138154.96446990967\n",
      "138154.96446990967\n",
      "138154.96446990967\n",
      "138154.96446990967\n",
      "138154.96446990967\n",
      "138154.96446990967\n",
      "138154.96446990967\n",
      "138154.96446990967\n",
      "138154.96446990967\n",
      "138154.96446990967\n"
     ]
    }
   ],
   "source": [
    "\"\"\"\n",
    "lr_lambda = lambda x: math.exp(x * math.log(0.0001/0.000001) / (20 * 128))\n",
    "#lr_lambda = lambda x: math.exp(x * math.log(end_lr / start_lr) / (lr_find_epochs * len( dataloaders[\"train\"])))\n",
    "scheduler = torch.optim.lr_scheduler.LambdaLR(optimizer, lr_lambda)\n",
    "\"\"\"\n",
    "\n",
    "scheduler =  torch.optim.lr_scheduler.ExponentialLR(optimizer=optimizer ,gamma = 0.95)\n",
    "for epoch in range(20) :\n",
    "  train_loss = 0\n",
    "\n",
    "  #model11.train()\n",
    "  for data,label in train_data_set_loader :\n",
    "\n",
    "    optimizer.zero_grad()\n",
    "    output = model34(data)\n",
    "    loss = criterion(output,label)\n",
    "    loss.backward()\n",
    "    optimizer.step()\n",
    "\n",
    "    train_loss = train_loss + (loss.item()*data.size(0))\n",
    "\n",
    "  print(train_loss)"
   ]
  },
  {
   "cell_type": "code",
   "execution_count": null,
   "metadata": {
    "colab": {
     "base_uri": "https://localhost:8080/"
    },
    "id": "mLSQOahwRyHb",
    "outputId": "4805a281-e9ee-4080-da0b-10caead509d2"
   },
   "outputs": [
    {
     "name": "stdout",
     "output_type": "stream",
     "text": [
      "Overall accuracy is  9.873333333333333\n"
     ]
    }
   ],
   "source": [
    "import numpy as np\n",
    "correct_pred = [0,0,0,0,0,0,0,0,0,0]\n",
    "total_class = [0,0,0,0,0,0,0,0,0,0]\n",
    "\n",
    "for data,target in test_data_set_loader :\n",
    "\n",
    "  output = model34(data)\n",
    "  _,pred = torch.max(output,1)\n",
    "  correct = np.squeeze(pred.eq(target.data.view_as(pred)))\n",
    "\n",
    "  for i in range(len(target)) :\n",
    "    label = target.data[i]\n",
    "    correct_pred[label] += correct[i].item()\n",
    "    total_class[label] += 1\n",
    "  \n",
    "\"\"\"\n",
    "for i in range(10) :\n",
    "  if total_class[i] >  0 :\n",
    "    print(\"Accuracy of class \",i,\"is \",correct_pred[i]/total_class[i])\n",
    "\"\"\"\n",
    "print(\"Overall accuracy is \",(100*np.sum(correct_pred)/np.sum(total_class)))\n",
    "\n",
    "#lr 0.0001 , epoch 10 , accuracy 9.876\n",
    "#lr 0.000001 , epoch 10 , accuracy 9.873 (lambda lr )\n",
    "#lr 0.000001 , epoch 15 , accuracy 9.886 (lambda lr)\n",
    "#lr 0.000001 , epoch 20 , accuracy 9.873 (lambda lr)\n",
    "\n",
    "#lr 0.001 , epoch 20 , accuracy 9.873 (expo lr)"
   ]
  },
  {
   "cell_type": "code",
   "execution_count": 6,
   "metadata": {
    "id": "Ks_WQeSR_FEM"
   },
   "outputs": [],
   "source": [
    "class auto_encoder_2(nn.Module) :\n",
    "\n",
    "  def __init__(self) :\n",
    "    super(auto_encoder_2, self).__init__()\n",
    "\n",
    "    self.enc1 = nn.Linear(in_features = 784 , out_features = 512)\n",
    "    self.enc2 = nn.Linear(in_features = 512, out_features= 256)\n",
    "    self.enc3 = nn.Linear(in_features = 256,out_features = 128)\n",
    "\n",
    "    self.dec2 = nn.Linear(in_features = 128 , out_features = 256)\n",
    "    self.dec3 = nn.Linear(in_features = 256,out_features = 512)\n",
    "    self.dec4 = nn.Linear(in_features = 512, out_features = 784)\n",
    "  \n",
    "  def forward(self,x) :\n",
    "\n",
    "    x = F.relu(self.enc1(x))\n",
    "    x = F.relu(self.enc2(x))\n",
    "    x = F.relu(self.enc3(x))\n",
    "\n",
    "    x1 = x\n",
    "    x = F.relu(self.dec2(x))\n",
    "    x = F.relu(self.dec3(x))\n",
    "    x = F.relu(self.dec4(x))\n",
    "\n",
    "    return x,x1"
   ]
  },
  {
   "cell_type": "code",
   "execution_count": 4,
   "metadata": {
    "id": "R7DgQHXcAzzy"
   },
   "outputs": [],
   "source": [
    "device = \"cuda\" if torch.cuda.is_available() else \"cpu\"\n",
    "device = torch.device(device)"
   ]
  },
  {
   "cell_type": "code",
   "execution_count": 7,
   "metadata": {
    "id": "-CWkV8DWBH9e"
   },
   "outputs": [],
   "source": [
    "model221 = auto_encoder_2().to(\"cuda\")\n",
    "\n",
    "criterion = nn.MSELoss()\n",
    "optimizer = optim.RMSprop(model221.parameters(),lr = 0.001)"
   ]
  },
  {
   "cell_type": "code",
   "execution_count": 10,
   "metadata": {
    "colab": {
     "base_uri": "https://localhost:8080/"
    },
    "id": "65BIO-RqC-ZQ",
    "outputId": "15a3e842-00cb-4d72-9a31-84e709d734ad"
   },
   "outputs": [
    {
     "name": "stdout",
     "output_type": "stream",
     "text": [
      "Epoch  0 430.56861078739166\n",
      "Epoch  1 420.5040839910507\n",
      "Epoch  2 416.53884100914\n",
      "Epoch  3 414.27054542303085\n",
      "Epoch  4 413.146837413311\n",
      "Epoch  5 412.1079853773117\n",
      "Epoch  6 411.39848560094833\n",
      "Epoch  7 410.81759053468704\n",
      "Epoch  8 410.26179867982864\n",
      "Epoch  9 409.8287709951401\n",
      "Epoch  10 409.5601432323456\n",
      "Epoch  11 409.25578916072845\n",
      "Epoch  12 408.8767807483673\n",
      "Epoch  13 408.5306792855263\n",
      "Epoch  14 408.0577566623688\n",
      "Epoch  15 407.7216137647629\n",
      "Epoch  16 407.51140850782394\n",
      "Epoch  17 407.2586206793785\n",
      "Epoch  18 407.15528762340546\n",
      "Epoch  19 407.0296706557274\n"
     ]
    }
   ],
   "source": [
    "for epoch in range(20):\n",
    "  running_loss = 0.0\n",
    "  for data in train_data_set_loader:\n",
    "    img, _ = data\n",
    "    img = img.to(device)\n",
    "    img = img.view(img.size(0), -1)\n",
    "    optimizer.zero_grad()\n",
    "    outputs,_ = model221(img)\n",
    "    loss = criterion(outputs, img)\n",
    "    loss.backward()\n",
    "    optimizer.step()\n",
    "    running_loss += loss.item()\n",
    "\n",
    "    \n",
    "    #train_loss.append(loss)\n",
    "    #print('Epoch {} of {}, Train Loss: {:.3f}'.format(\n",
    "  \n",
    "  print(\"Epoch \",epoch,running_loss)"
   ]
  },
  {
   "cell_type": "code",
   "execution_count": 13,
   "metadata": {
    "id": "RYMhS2EnOQQ5"
   },
   "outputs": [],
   "source": [
    "class mlp_4(nn.Module) :\n",
    "\n",
    "  def __init__(self) :\n",
    "    super(mlp_4, self).__init__()\n",
    "\n",
    "    self.conv1 = nn.Linear(in_features = 128, out_features = 64)\n",
    "    self.conv2 = nn.Linear(in_features = 64 , out_features = 32)\n",
    "    self.conv3 = nn.Linear(in_features = 32 , out_features = 10)\n",
    "  \n",
    "  def forward(self,x) :\n",
    "\n",
    "    x = F.relu(self.conv1(x))\n",
    "    x = F.relu(self.conv2(x))\n",
    "    x = F.relu(self.conv3(x))\n",
    "\n",
    "    return x"
   ]
  },
  {
   "cell_type": "code",
   "execution_count": 31,
   "metadata": {
    "id": "fJmfg-RZQFtJ"
   },
   "outputs": [],
   "source": [
    "model222 = mlp_4().to(\"cuda\")\n",
    "criterion = nn.CrossEntropyLoss()\n",
    "optimizer = torch.optim.Adam(model222.parameters(),lr = 0.005)"
   ]
  },
  {
   "cell_type": "code",
   "execution_count": 32,
   "metadata": {
    "colab": {
     "base_uri": "https://localhost:8080/"
    },
    "id": "vBiMNhLIQOEH",
    "outputId": "e17fc879-f709-45d5-8a9b-7227fa1fec39"
   },
   "outputs": [
    {
     "name": "stdout",
     "output_type": "stream",
     "text": [
      "33617.46324157715\n",
      "23316.1037607193\n",
      "21091.625041007996\n",
      "20166.624676704407\n",
      "19576.51838684082\n",
      "18964.944535255432\n",
      "18668.67352962494\n",
      "18215.317346572876\n",
      "18064.263093948364\n",
      "18013.025774002075\n",
      "17612.690133094788\n",
      "17424.18320608139\n",
      "17436.94526529312\n",
      "17165.998462677002\n",
      "16960.71112537384\n",
      "17130.230036258698\n",
      "16731.402811050415\n",
      "16734.4624042511\n",
      "16571.95725440979\n",
      "16480.766559123993\n",
      "16436.822698116302\n",
      "16267.048370361328\n",
      "16485.113284111023\n",
      "16179.698684692383\n",
      "16038.881196022034\n",
      "16015.818270683289\n",
      "16022.734877586365\n",
      "15972.143040180206\n",
      "15858.613897323608\n",
      "15897.062903881073\n"
     ]
    }
   ],
   "source": [
    "for epoch in range(30) :\n",
    "  train_loss = 0\n",
    "\n",
    "  #model11.train()\n",
    "  for data,label in train_data_set_loader :\n",
    "\n",
    "    optimizer.zero_grad()\n",
    "    data = data.to(device)\n",
    "    label = label.to(device)\n",
    "\n",
    "    #print(data.shape)\n",
    "    #break\n",
    "    data = data.view(data.size(0),-1)\n",
    "    _,comp_img = model221(data)\n",
    "\n",
    "    output = model222(comp_img)\n",
    "    loss = criterion(output,label)\n",
    "    loss.backward()\n",
    "    optimizer.step()\n",
    "\n",
    "    train_loss = train_loss + (loss.item()*data.size(0))\n",
    "\n",
    "  print(train_loss)"
   ]
  },
  {
   "cell_type": "code",
   "execution_count": 33,
   "metadata": {
    "colab": {
     "base_uri": "https://localhost:8080/"
    },
    "id": "DooCoJX5WAw9",
    "outputId": "1dc8286c-e5a6-46e3-e613-47097c668057"
   },
   "outputs": [
    {
     "name": "stdout",
     "output_type": "stream",
     "text": [
      "Overall accuracy is  89.33\n"
     ]
    }
   ],
   "source": [
    "import numpy as np\n",
    "correct_pred = [0,0,0,0,0,0,0,0,0,0]\n",
    "total_class = [0,0,0,0,0,0,0,0,0,0]\n",
    "\n",
    "for data,target in test_data_set_loader :\n",
    "\n",
    "  data = data.to(device)\n",
    "  target = target.to(device)\n",
    "\n",
    "  data = data.view(data.size(0),-1)\n",
    "  _,data = model221(data)\n",
    "  output = model222(data)\n",
    "  _,pred = torch.max(output,1)\n",
    "  correct = np.squeeze(pred.eq(target.data.view_as(pred)))\n",
    "\n",
    "  for i in range(len(target)) :\n",
    "    label = target.data[i]\n",
    "    correct_pred[label] += correct[i].item()\n",
    "    total_class[label] += 1\n",
    "  \n",
    "\"\"\"\n",
    "for i in range(10) :\n",
    "  if total_class[i] >  0 :\n",
    "    print(\"Accuracy of class \",i,\"is \",correct_pred[i]/total_class[i])\n",
    "\"\"\"\n",
    "print(\"Overall accuracy is \",(100*np.sum(correct_pred)/np.sum(total_class)))\n",
    "\n",
    "\n",
    "#lr 0.001 , epochs 20 , accuracy 79.89\n",
    "#lr 0.001 , epochs 20 , accuracy 79.34\n",
    "#lr 0.005 , epochs 30 , accuracy 89.33"
   ]
  },
  {
   "cell_type": "code",
   "execution_count": 38,
   "metadata": {
    "id": "c2yGtprhZb7A"
   },
   "outputs": [],
   "source": [
    "model223 = mlp_4().to(\"cuda\")\n",
    "criterion = nn.CrossEntropyLoss()\n",
    "optimizer = torch.optim.RMSprop(model223.parameters(),lr = 0.005)"
   ]
  },
  {
   "cell_type": "code",
   "execution_count": 39,
   "metadata": {
    "colab": {
     "base_uri": "https://localhost:8080/"
    },
    "id": "att8skW3ZlDJ",
    "outputId": "23c8a105-eff6-4f51-9906-f4833dd09d47"
   },
   "outputs": [
    {
     "name": "stdout",
     "output_type": "stream",
     "text": [
      "20554.52653503418\n",
      "9746.132418632507\n",
      "8143.598706245422\n",
      "7201.694511651993\n",
      "6586.967770814896\n",
      "6164.9927397966385\n",
      "5663.2917820215225\n",
      "5199.355116665363\n",
      "5137.958674669266\n",
      "4793.250667273998\n",
      "4567.7924691438675\n",
      "4457.27986395359\n",
      "4321.971357226372\n",
      "4174.298289895058\n",
      "3997.1756553053856\n",
      "3837.292984649539\n",
      "3825.23195502162\n",
      "3625.7045245468616\n",
      "3501.4446643590927\n",
      "3499.5061074197292\n",
      "3384.8938056230545\n",
      "3284.0222333073616\n",
      "3200.4317895025015\n",
      "3180.2397413253784\n",
      "2988.280936419964\n",
      "3010.403188958764\n",
      "2907.1930068209767\n",
      "2905.531457066536\n",
      "2855.285212472081\n",
      "2875.131704837084\n"
     ]
    }
   ],
   "source": [
    "for epoch in range(30) :\n",
    "  train_loss = 0\n",
    "\n",
    "  #model11.train()\n",
    "  for data,label in train_data_set_loader :\n",
    "\n",
    "    optimizer.zero_grad()\n",
    "    data = data.to(device)\n",
    "    label = label.to(device)\n",
    "\n",
    "    #print(data.shape)\n",
    "    #break\n",
    "    data = data.view(data.size(0),-1)\n",
    "    _,comp_img = model221(data)\n",
    "\n",
    "    output = model223(comp_img)\n",
    "    loss = criterion(output,label)\n",
    "    loss.backward()\n",
    "    optimizer.step()\n",
    "\n",
    "    train_loss = train_loss + (loss.item()*data.size(0))\n",
    "\n",
    "  print(train_loss)"
   ]
  },
  {
   "cell_type": "code",
   "execution_count": 40,
   "metadata": {
    "colab": {
     "base_uri": "https://localhost:8080/"
    },
    "id": "mcfgSvu_aE_c",
    "outputId": "5f25375e-9c62-460b-e759-d927ce24c6c1"
   },
   "outputs": [
    {
     "name": "stdout",
     "output_type": "stream",
     "text": [
      "Overall accuracy is  98.67166666666667\n"
     ]
    }
   ],
   "source": [
    "import numpy as np\n",
    "correct_pred = [0,0,0,0,0,0,0,0,0,0]\n",
    "total_class = [0,0,0,0,0,0,0,0,0,0]\n",
    "\n",
    "for data,target in test_data_set_loader :\n",
    "\n",
    "  data = data.to(device)\n",
    "  target = target.to(device)\n",
    "\n",
    "  data = data.view(data.size(0),-1)\n",
    "  _,data = model221(data)\n",
    "  output = model223(data)\n",
    "  _,pred = torch.max(output,1)\n",
    "  correct = np.squeeze(pred.eq(target.data.view_as(pred)))\n",
    "\n",
    "  for i in range(len(target)) :\n",
    "    label = target.data[i]\n",
    "    correct_pred[label] += correct[i].item()\n",
    "    total_class[label] += 1\n",
    "  \n",
    "\"\"\"\n",
    "for i in range(10) :\n",
    "  if total_class[i] >  0 :\n",
    "    print(\"Accuracy of class \",i,\"is \",correct_pred[i]/total_class[i])\n",
    "\"\"\"\n",
    "print(\"Overall accuracy is \",(100*np.sum(correct_pred)/np.sum(total_class)))\n",
    "\n",
    "#lr 0.005 , epochs 10 , accuracy 67.59\n",
    "#lr 0.005 , epochs 30 , accuracy 98.671"
   ]
  },
  {
   "cell_type": "code",
   "execution_count": 47,
   "metadata": {
    "id": "5ea-LKoLbdcb"
   },
   "outputs": [],
   "source": [
    "model224 = mlp_4().to(\"cuda\")\n",
    "criterion = nn.CrossEntropyLoss()\n",
    "optimizer = torch.optim.SGD(model224.parameters(),lr = 0.005)"
   ]
  },
  {
   "cell_type": "code",
   "execution_count": 48,
   "metadata": {
    "colab": {
     "base_uri": "https://localhost:8080/"
    },
    "id": "lHnyiWHWblcs",
    "outputId": "fbf60035-941c-453d-8704-00d634b4d922"
   },
   "outputs": [
    {
     "name": "stdout",
     "output_type": "stream",
     "text": [
      "135210.6002883911\n",
      "120475.2896232605\n",
      "90848.3629989624\n",
      "70790.9990310669\n",
      "61485.16829872131\n",
      "50521.18481254578\n",
      "43678.6881942749\n",
      "40173.69189167023\n",
      "37760.941802978516\n",
      "36001.801818847656\n",
      "34666.44058799744\n",
      "33619.935190200806\n",
      "32770.73899459839\n",
      "32055.532136917114\n",
      "31451.825479507446\n",
      "30914.783060073853\n",
      "30438.13623046875\n",
      "30017.30016517639\n",
      "29625.78483772278\n",
      "29268.618215560913\n"
     ]
    }
   ],
   "source": [
    "for epoch in range(20) :\n",
    "  train_loss = 0\n",
    "\n",
    "  #model11.train()\n",
    "  for data,label in train_data_set_loader :\n",
    "\n",
    "    optimizer.zero_grad()\n",
    "    data = data.to(device)\n",
    "    label = label.to(device)\n",
    "\n",
    "    #print(data.shape)\n",
    "    #break\n",
    "    data = data.view(data.size(0),-1)\n",
    "    _,comp_img = model221(data)\n",
    "\n",
    "    output = model224(comp_img)\n",
    "    loss = criterion(output,label)\n",
    "    loss.backward()\n",
    "    optimizer.step()\n",
    "\n",
    "    train_loss = train_loss + (loss.item()*data.size(0))\n",
    "\n",
    "  print(train_loss)"
   ]
  },
  {
   "cell_type": "code",
   "execution_count": 49,
   "metadata": {
    "colab": {
     "base_uri": "https://localhost:8080/"
    },
    "id": "P0aidV8ZcFx0",
    "outputId": "51c52f0e-2bf1-4bd5-be6e-556b9c93964c"
   },
   "outputs": [
    {
     "name": "stdout",
     "output_type": "stream",
     "text": [
      "Overall accuracy is  90.76458333333333\n"
     ]
    }
   ],
   "source": [
    "for data,target in test_data_set_loader :\n",
    "\n",
    "  data = data.to(device)\n",
    "  target = target.to(device)\n",
    "\n",
    "  data = data.view(data.size(0),-1)\n",
    "  _,data = model221(data)\n",
    "  output = model224(data)\n",
    "  _,pred = torch.max(output,1)\n",
    "  correct = np.squeeze(pred.eq(target.data.view_as(pred)))\n",
    "\n",
    "  for i in range(len(target)) :\n",
    "    label = target.data[i]\n",
    "    correct_pred[label] += correct[i].item()\n",
    "    total_class[label] += 1\n",
    "  \n",
    "\"\"\"\n",
    "for i in range(10) :\n",
    "  if total_class[i] >  0 :\n",
    "    print(\"Accuracy of class \",i,\"is \",correct_pred[i]/total_class[i])\n",
    "\"\"\"\n",
    "print(\"Overall accuracy is \",(100*np.sum(correct_pred)/np.sum(total_class)))\n",
    "\n",
    "#lr 0.005 , epochs 10 , accuracy 94.165\n",
    "#lr 0.005 , epochs 15 , accuracy 93.086\n",
    "#lr 0.005 , epochs 20 , accuracy 90.764"
   ]
  },
  {
   "cell_type": "code",
   "execution_count": 53,
   "metadata": {
    "id": "Vuj8qnrxdwO9"
   },
   "outputs": [],
   "source": [
    "model225 = mlp_4().to(\"cuda\")\n",
    "criterion = nn.CrossEntropyLoss()\n",
    "optimizer = torch.optim.SGD(model225.parameters(),lr = 0.005,momentum = 0.1)"
   ]
  },
  {
   "cell_type": "code",
   "execution_count": 54,
   "metadata": {
    "colab": {
     "base_uri": "https://localhost:8080/"
    },
    "id": "8KcOTStTd31G",
    "outputId": "0148e8e6-de15-4a94-e34b-9b2d4c54d23f"
   },
   "outputs": [
    {
     "name": "stdout",
     "output_type": "stream",
     "text": [
      "134389.2960510254\n",
      "115203.63375854492\n",
      "79199.87783813477\n",
      "57078.82250785828\n",
      "38983.48205471039\n",
      "27816.472823143005\n",
      "24352.39459323883\n",
      "22383.646484375\n",
      "21025.36650943756\n",
      "20001.32924938202\n",
      "19161.748385429382\n",
      "18490.652068138123\n",
      "17903.65172433853\n",
      "17404.363542556763\n",
      "16941.173944950104\n",
      "16535.929611206055\n",
      "16162.480246067047\n",
      "15809.34927034378\n",
      "15477.624502658844\n",
      "15188.516976833344\n",
      "14898.660873413086\n",
      "14625.891499519348\n",
      "14364.91939496994\n",
      "14111.826689720154\n",
      "13873.87398147583\n",
      "13636.309305667877\n",
      "13399.07483625412\n",
      "13185.925277233124\n",
      "12975.432760238647\n",
      "12773.966474056244\n"
     ]
    }
   ],
   "source": [
    "for epoch in range(30) :\n",
    "  train_loss = 0\n",
    "\n",
    "  #model11.train()\n",
    "  for data,label in train_data_set_loader :\n",
    "\n",
    "    optimizer.zero_grad()\n",
    "    data = data.to(device)\n",
    "    label = label.to(device)\n",
    "\n",
    "    #print(data.shape)\n",
    "    #break\n",
    "    data = data.view(data.size(0),-1)\n",
    "    _,comp_img = model221(data)\n",
    "\n",
    "    output = model225(comp_img)\n",
    "    loss = criterion(output,label)\n",
    "    loss.backward()\n",
    "    optimizer.step()\n",
    "\n",
    "    train_loss = train_loss + (loss.item()*data.size(0))\n",
    "\n",
    "  print(train_loss)"
   ]
  },
  {
   "cell_type": "code",
   "execution_count": 55,
   "metadata": {
    "colab": {
     "base_uri": "https://localhost:8080/"
    },
    "id": "1Nngb8V5eyit",
    "outputId": "f782ac26-f06a-4acf-895a-f82f4e9f890e"
   },
   "outputs": [
    {
     "name": "stdout",
     "output_type": "stream",
     "text": [
      "Overall accuracy is  89.67027777777778\n"
     ]
    }
   ],
   "source": [
    "for data,target in test_data_set_loader :\n",
    "\n",
    "  data = data.to(device)\n",
    "  target = target.to(device)\n",
    "\n",
    "  data = data.view(data.size(0),-1)\n",
    "  _,data = model221(data)\n",
    "  output = model225(data)\n",
    "  _,pred = torch.max(output,1)\n",
    "  correct = np.squeeze(pred.eq(target.data.view_as(pred)))\n",
    "\n",
    "  for i in range(len(target)) :\n",
    "    label = target.data[i]\n",
    "    correct_pred[label] += correct[i].item()\n",
    "    total_class[label] += 1\n",
    "  \n",
    "\"\"\"\n",
    "for i in range(10) :\n",
    "  if total_class[i] >  0 :\n",
    "    print(\"Accuracy of class \",i,\"is \",correct_pred[i]/total_class[i])\n",
    "\"\"\"\n",
    "print(\"Overall accuracy is \",(100*np.sum(correct_pred)/np.sum(total_class)))\n",
    "\n",
    "\n",
    "#lr 0.005 , momentum 0.1 , epochs 20 , accuracy 88.89\n",
    "#lr 0.005 , momentum 0.1 , epochs 30 , accuracy 89.67"
   ]
  },
  {
   "cell_type": "markdown",
   "metadata": {
    "id": "Sl0wegWt39j8"
   },
   "source": [
    "In Part 1 , when the optimizer was RMS prop with learning rate 0.0001 the model had achieved efficiency of 99.536 when xavier initialization was used . In Part 2 , when the optimizer was RMS prop with learning rate 0.005 the model has achieved efficiency of 98.671"
   ]
  }
 ],
 "metadata": {
  "accelerator": "GPU",
  "colab": {
   "collapsed_sections": [],
   "name": "smai_ass3_q3.ipynb",
   "provenance": []
  },
  "kernelspec": {
   "display_name": "Python 3",
   "language": "python",
   "name": "python3"
  },
  "language_info": {
   "codemirror_mode": {
    "name": "ipython",
    "version": 3
   },
   "file_extension": ".py",
   "mimetype": "text/x-python",
   "name": "python",
   "nbconvert_exporter": "python",
   "pygments_lexer": "ipython3",
   "version": "3.8.5"
  },
  "widgets": {
   "application/vnd.jupyter.widget-state+json": {
    "107edf1437924a1b98c5a0f9f1aac3a3": {
     "model_module": "@jupyter-widgets/base",
     "model_name": "LayoutModel",
     "state": {
      "_model_module": "@jupyter-widgets/base",
      "_model_module_version": "1.2.0",
      "_model_name": "LayoutModel",
      "_view_count": null,
      "_view_module": "@jupyter-widgets/base",
      "_view_module_version": "1.2.0",
      "_view_name": "LayoutView",
      "align_content": null,
      "align_items": null,
      "align_self": null,
      "border": null,
      "bottom": null,
      "display": null,
      "flex": null,
      "flex_flow": null,
      "grid_area": null,
      "grid_auto_columns": null,
      "grid_auto_flow": null,
      "grid_auto_rows": null,
      "grid_column": null,
      "grid_gap": null,
      "grid_row": null,
      "grid_template_areas": null,
      "grid_template_columns": null,
      "grid_template_rows": null,
      "height": null,
      "justify_content": null,
      "justify_items": null,
      "left": null,
      "margin": null,
      "max_height": null,
      "max_width": null,
      "min_height": null,
      "min_width": null,
      "object_fit": null,
      "object_position": null,
      "order": null,
      "overflow": null,
      "overflow_x": null,
      "overflow_y": null,
      "padding": null,
      "right": null,
      "top": null,
      "visibility": null,
      "width": null
     }
    },
    "15e8e72d3fd9438b88123612a37de2a3": {
     "model_module": "@jupyter-widgets/controls",
     "model_name": "HBoxModel",
     "state": {
      "_dom_classes": [],
      "_model_module": "@jupyter-widgets/controls",
      "_model_module_version": "1.5.0",
      "_model_name": "HBoxModel",
      "_view_count": null,
      "_view_module": "@jupyter-widgets/controls",
      "_view_module_version": "1.5.0",
      "_view_name": "HBoxView",
      "box_style": "",
      "children": [
       "IPY_MODEL_7c48e000c2cf4ef0841abf0e98437b66",
       "IPY_MODEL_c70f744e35024cf297af7305bec2b36a"
      ],
      "layout": "IPY_MODEL_25883cf2f9124ff382155c2e7560391b"
     }
    },
    "16f73d5080a34d2c9042d0c115522486": {
     "model_module": "@jupyter-widgets/base",
     "model_name": "LayoutModel",
     "state": {
      "_model_module": "@jupyter-widgets/base",
      "_model_module_version": "1.2.0",
      "_model_name": "LayoutModel",
      "_view_count": null,
      "_view_module": "@jupyter-widgets/base",
      "_view_module_version": "1.2.0",
      "_view_name": "LayoutView",
      "align_content": null,
      "align_items": null,
      "align_self": null,
      "border": null,
      "bottom": null,
      "display": null,
      "flex": null,
      "flex_flow": null,
      "grid_area": null,
      "grid_auto_columns": null,
      "grid_auto_flow": null,
      "grid_auto_rows": null,
      "grid_column": null,
      "grid_gap": null,
      "grid_row": null,
      "grid_template_areas": null,
      "grid_template_columns": null,
      "grid_template_rows": null,
      "height": null,
      "justify_content": null,
      "justify_items": null,
      "left": null,
      "margin": null,
      "max_height": null,
      "max_width": null,
      "min_height": null,
      "min_width": null,
      "object_fit": null,
      "object_position": null,
      "order": null,
      "overflow": null,
      "overflow_x": null,
      "overflow_y": null,
      "padding": null,
      "right": null,
      "top": null,
      "visibility": null,
      "width": null
     }
    },
    "1887671b3fc2435fb46dd7a3725bd6cc": {
     "model_module": "@jupyter-widgets/controls",
     "model_name": "FloatProgressModel",
     "state": {
      "_dom_classes": [],
      "_model_module": "@jupyter-widgets/controls",
      "_model_module_version": "1.5.0",
      "_model_name": "FloatProgressModel",
      "_view_count": null,
      "_view_module": "@jupyter-widgets/controls",
      "_view_module_version": "1.5.0",
      "_view_name": "ProgressView",
      "bar_style": "success",
      "description": "",
      "description_tooltip": null,
      "layout": "IPY_MODEL_e4ea784cac16414aa0614f6ac9db05d3",
      "max": 1648877,
      "min": 0,
      "orientation": "horizontal",
      "style": "IPY_MODEL_f29c784d24914ac68fc0f323abf0d150",
      "value": 1648877
     }
    },
    "199f6328f6a846b5ba71737b9d28a513": {
     "model_module": "@jupyter-widgets/controls",
     "model_name": "HBoxModel",
     "state": {
      "_dom_classes": [],
      "_model_module": "@jupyter-widgets/controls",
      "_model_module_version": "1.5.0",
      "_model_name": "HBoxModel",
      "_view_count": null,
      "_view_module": "@jupyter-widgets/controls",
      "_view_module_version": "1.5.0",
      "_view_name": "HBoxView",
      "box_style": "",
      "children": [
       "IPY_MODEL_e9b5d225e3c64176b6acc4197c4675ee",
       "IPY_MODEL_6b91b4757e7e47489b42f617f8791363"
      ],
      "layout": "IPY_MODEL_4dc0faac23be417db50ff639e64a02e9"
     }
    },
    "1ba4308c96784e5daf6e1eb5a2b20a3b": {
     "model_module": "@jupyter-widgets/controls",
     "model_name": "HTMLModel",
     "state": {
      "_dom_classes": [],
      "_model_module": "@jupyter-widgets/controls",
      "_model_module_version": "1.5.0",
      "_model_name": "HTMLModel",
      "_view_count": null,
      "_view_module": "@jupyter-widgets/controls",
      "_view_module_version": "1.5.0",
      "_view_name": "HTMLView",
      "description": "",
      "description_tooltip": null,
      "layout": "IPY_MODEL_c2c996c7075145b797c8f0108d0f6ec7",
      "placeholder": "​",
      "style": "IPY_MODEL_f2680d095ed24ef58af0b2e90fbf9232",
      "value": " 1649664/? [43:38&lt;00:00, 630.04it/s]"
     }
    },
    "1f18c523443a467dbee92b70acb01a1f": {
     "model_module": "@jupyter-widgets/controls",
     "model_name": "DescriptionStyleModel",
     "state": {
      "_model_module": "@jupyter-widgets/controls",
      "_model_module_version": "1.5.0",
      "_model_name": "DescriptionStyleModel",
      "_view_count": null,
      "_view_module": "@jupyter-widgets/base",
      "_view_module_version": "1.2.0",
      "_view_name": "StyleView",
      "description_width": ""
     }
    },
    "25883cf2f9124ff382155c2e7560391b": {
     "model_module": "@jupyter-widgets/base",
     "model_name": "LayoutModel",
     "state": {
      "_model_module": "@jupyter-widgets/base",
      "_model_module_version": "1.2.0",
      "_model_name": "LayoutModel",
      "_view_count": null,
      "_view_module": "@jupyter-widgets/base",
      "_view_module_version": "1.2.0",
      "_view_name": "LayoutView",
      "align_content": null,
      "align_items": null,
      "align_self": null,
      "border": null,
      "bottom": null,
      "display": null,
      "flex": null,
      "flex_flow": null,
      "grid_area": null,
      "grid_auto_columns": null,
      "grid_auto_flow": null,
      "grid_auto_rows": null,
      "grid_column": null,
      "grid_gap": null,
      "grid_row": null,
      "grid_template_areas": null,
      "grid_template_columns": null,
      "grid_template_rows": null,
      "height": null,
      "justify_content": null,
      "justify_items": null,
      "left": null,
      "margin": null,
      "max_height": null,
      "max_width": null,
      "min_height": null,
      "min_width": null,
      "object_fit": null,
      "object_position": null,
      "order": null,
      "overflow": null,
      "overflow_x": null,
      "overflow_y": null,
      "padding": null,
      "right": null,
      "top": null,
      "visibility": null,
      "width": null
     }
    },
    "26fd89fdac764301b31325d99c0b00f0": {
     "model_module": "@jupyter-widgets/base",
     "model_name": "LayoutModel",
     "state": {
      "_model_module": "@jupyter-widgets/base",
      "_model_module_version": "1.2.0",
      "_model_name": "LayoutModel",
      "_view_count": null,
      "_view_module": "@jupyter-widgets/base",
      "_view_module_version": "1.2.0",
      "_view_name": "LayoutView",
      "align_content": null,
      "align_items": null,
      "align_self": null,
      "border": null,
      "bottom": null,
      "display": null,
      "flex": null,
      "flex_flow": null,
      "grid_area": null,
      "grid_auto_columns": null,
      "grid_auto_flow": null,
      "grid_auto_rows": null,
      "grid_column": null,
      "grid_gap": null,
      "grid_row": null,
      "grid_template_areas": null,
      "grid_template_columns": null,
      "grid_template_rows": null,
      "height": null,
      "justify_content": null,
      "justify_items": null,
      "left": null,
      "margin": null,
      "max_height": null,
      "max_width": null,
      "min_height": null,
      "min_width": null,
      "object_fit": null,
      "object_position": null,
      "order": null,
      "overflow": null,
      "overflow_x": null,
      "overflow_y": null,
      "padding": null,
      "right": null,
      "top": null,
      "visibility": null,
      "width": null
     }
    },
    "3b90b1a0e81240f993c5e32ad7994cea": {
     "model_module": "@jupyter-widgets/base",
     "model_name": "LayoutModel",
     "state": {
      "_model_module": "@jupyter-widgets/base",
      "_model_module_version": "1.2.0",
      "_model_name": "LayoutModel",
      "_view_count": null,
      "_view_module": "@jupyter-widgets/base",
      "_view_module_version": "1.2.0",
      "_view_name": "LayoutView",
      "align_content": null,
      "align_items": null,
      "align_self": null,
      "border": null,
      "bottom": null,
      "display": null,
      "flex": null,
      "flex_flow": null,
      "grid_area": null,
      "grid_auto_columns": null,
      "grid_auto_flow": null,
      "grid_auto_rows": null,
      "grid_column": null,
      "grid_gap": null,
      "grid_row": null,
      "grid_template_areas": null,
      "grid_template_columns": null,
      "grid_template_rows": null,
      "height": null,
      "justify_content": null,
      "justify_items": null,
      "left": null,
      "margin": null,
      "max_height": null,
      "max_width": null,
      "min_height": null,
      "min_width": null,
      "object_fit": null,
      "object_position": null,
      "order": null,
      "overflow": null,
      "overflow_x": null,
      "overflow_y": null,
      "padding": null,
      "right": null,
      "top": null,
      "visibility": null,
      "width": null
     }
    },
    "49b5de5919af45b6a8a20da765bee58b": {
     "model_module": "@jupyter-widgets/controls",
     "model_name": "HTMLModel",
     "state": {
      "_dom_classes": [],
      "_model_module": "@jupyter-widgets/controls",
      "_model_module_version": "1.5.0",
      "_model_name": "HTMLModel",
      "_view_count": null,
      "_view_module": "@jupyter-widgets/controls",
      "_view_module_version": "1.5.0",
      "_view_name": "HTMLView",
      "description": "",
      "description_tooltip": null,
      "layout": "IPY_MODEL_16f73d5080a34d2c9042d0c115522486",
      "placeholder": "​",
      "style": "IPY_MODEL_7574b4182b544333bcccb965bd954816",
      "value": " 9913344/? [48:45&lt;00:00, 3388.46it/s]"
     }
    },
    "4dc0faac23be417db50ff639e64a02e9": {
     "model_module": "@jupyter-widgets/base",
     "model_name": "LayoutModel",
     "state": {
      "_model_module": "@jupyter-widgets/base",
      "_model_module_version": "1.2.0",
      "_model_name": "LayoutModel",
      "_view_count": null,
      "_view_module": "@jupyter-widgets/base",
      "_view_module_version": "1.2.0",
      "_view_name": "LayoutView",
      "align_content": null,
      "align_items": null,
      "align_self": null,
      "border": null,
      "bottom": null,
      "display": null,
      "flex": null,
      "flex_flow": null,
      "grid_area": null,
      "grid_auto_columns": null,
      "grid_auto_flow": null,
      "grid_auto_rows": null,
      "grid_column": null,
      "grid_gap": null,
      "grid_row": null,
      "grid_template_areas": null,
      "grid_template_columns": null,
      "grid_template_rows": null,
      "height": null,
      "justify_content": null,
      "justify_items": null,
      "left": null,
      "margin": null,
      "max_height": null,
      "max_width": null,
      "min_height": null,
      "min_width": null,
      "object_fit": null,
      "object_position": null,
      "order": null,
      "overflow": null,
      "overflow_x": null,
      "overflow_y": null,
      "padding": null,
      "right": null,
      "top": null,
      "visibility": null,
      "width": null
     }
    },
    "6b91b4757e7e47489b42f617f8791363": {
     "model_module": "@jupyter-widgets/controls",
     "model_name": "HTMLModel",
     "state": {
      "_dom_classes": [],
      "_model_module": "@jupyter-widgets/controls",
      "_model_module_version": "1.5.0",
      "_model_name": "HTMLModel",
      "_view_count": null,
      "_view_module": "@jupyter-widgets/controls",
      "_view_module_version": "1.5.0",
      "_view_name": "HTMLView",
      "description": "",
      "description_tooltip": null,
      "layout": "IPY_MODEL_107edf1437924a1b98c5a0f9f1aac3a3",
      "placeholder": "​",
      "style": "IPY_MODEL_a5c65fd0434d4a33ae5accd87cce2bbd",
      "value": " 5120/? [00:00&lt;00:00, 21556.32it/s]"
     }
    },
    "6d51bfdc73e04754b0c9fd88584d61cf": {
     "model_module": "@jupyter-widgets/base",
     "model_name": "LayoutModel",
     "state": {
      "_model_module": "@jupyter-widgets/base",
      "_model_module_version": "1.2.0",
      "_model_name": "LayoutModel",
      "_view_count": null,
      "_view_module": "@jupyter-widgets/base",
      "_view_module_version": "1.2.0",
      "_view_name": "LayoutView",
      "align_content": null,
      "align_items": null,
      "align_self": null,
      "border": null,
      "bottom": null,
      "display": null,
      "flex": null,
      "flex_flow": null,
      "grid_area": null,
      "grid_auto_columns": null,
      "grid_auto_flow": null,
      "grid_auto_rows": null,
      "grid_column": null,
      "grid_gap": null,
      "grid_row": null,
      "grid_template_areas": null,
      "grid_template_columns": null,
      "grid_template_rows": null,
      "height": null,
      "justify_content": null,
      "justify_items": null,
      "left": null,
      "margin": null,
      "max_height": null,
      "max_width": null,
      "min_height": null,
      "min_width": null,
      "object_fit": null,
      "object_position": null,
      "order": null,
      "overflow": null,
      "overflow_x": null,
      "overflow_y": null,
      "padding": null,
      "right": null,
      "top": null,
      "visibility": null,
      "width": null
     }
    },
    "7574b4182b544333bcccb965bd954816": {
     "model_module": "@jupyter-widgets/controls",
     "model_name": "DescriptionStyleModel",
     "state": {
      "_model_module": "@jupyter-widgets/controls",
      "_model_module_version": "1.5.0",
      "_model_name": "DescriptionStyleModel",
      "_view_count": null,
      "_view_module": "@jupyter-widgets/base",
      "_view_module_version": "1.2.0",
      "_view_name": "StyleView",
      "description_width": ""
     }
    },
    "7c48e000c2cf4ef0841abf0e98437b66": {
     "model_module": "@jupyter-widgets/controls",
     "model_name": "FloatProgressModel",
     "state": {
      "_dom_classes": [],
      "_model_module": "@jupyter-widgets/controls",
      "_model_module_version": "1.5.0",
      "_model_name": "FloatProgressModel",
      "_view_count": null,
      "_view_module": "@jupyter-widgets/controls",
      "_view_module_version": "1.5.0",
      "_view_name": "ProgressView",
      "bar_style": "success",
      "description": "",
      "description_tooltip": null,
      "layout": "IPY_MODEL_3b90b1a0e81240f993c5e32ad7994cea",
      "max": 28881,
      "min": 0,
      "orientation": "horizontal",
      "style": "IPY_MODEL_aec698364280404ab44df0acd42593db",
      "value": 28881
     }
    },
    "85e81e1a06d543fe896990d50e1924ab": {
     "model_module": "@jupyter-widgets/base",
     "model_name": "LayoutModel",
     "state": {
      "_model_module": "@jupyter-widgets/base",
      "_model_module_version": "1.2.0",
      "_model_name": "LayoutModel",
      "_view_count": null,
      "_view_module": "@jupyter-widgets/base",
      "_view_module_version": "1.2.0",
      "_view_name": "LayoutView",
      "align_content": null,
      "align_items": null,
      "align_self": null,
      "border": null,
      "bottom": null,
      "display": null,
      "flex": null,
      "flex_flow": null,
      "grid_area": null,
      "grid_auto_columns": null,
      "grid_auto_flow": null,
      "grid_auto_rows": null,
      "grid_column": null,
      "grid_gap": null,
      "grid_row": null,
      "grid_template_areas": null,
      "grid_template_columns": null,
      "grid_template_rows": null,
      "height": null,
      "justify_content": null,
      "justify_items": null,
      "left": null,
      "margin": null,
      "max_height": null,
      "max_width": null,
      "min_height": null,
      "min_width": null,
      "object_fit": null,
      "object_position": null,
      "order": null,
      "overflow": null,
      "overflow_x": null,
      "overflow_y": null,
      "padding": null,
      "right": null,
      "top": null,
      "visibility": null,
      "width": null
     }
    },
    "95cbf9142a5744389f016610049ec8b8": {
     "model_module": "@jupyter-widgets/controls",
     "model_name": "ProgressStyleModel",
     "state": {
      "_model_module": "@jupyter-widgets/controls",
      "_model_module_version": "1.5.0",
      "_model_name": "ProgressStyleModel",
      "_view_count": null,
      "_view_module": "@jupyter-widgets/base",
      "_view_module_version": "1.2.0",
      "_view_name": "StyleView",
      "bar_color": null,
      "description_width": "initial"
     }
    },
    "a3cc1f9c9e794632a845e824a78be8c3": {
     "model_module": "@jupyter-widgets/controls",
     "model_name": "HBoxModel",
     "state": {
      "_dom_classes": [],
      "_model_module": "@jupyter-widgets/controls",
      "_model_module_version": "1.5.0",
      "_model_name": "HBoxModel",
      "_view_count": null,
      "_view_module": "@jupyter-widgets/controls",
      "_view_module_version": "1.5.0",
      "_view_name": "HBoxView",
      "box_style": "",
      "children": [
       "IPY_MODEL_1887671b3fc2435fb46dd7a3725bd6cc",
       "IPY_MODEL_1ba4308c96784e5daf6e1eb5a2b20a3b"
      ],
      "layout": "IPY_MODEL_c6442246d854443daec259d6011c05d9"
     }
    },
    "a5c65fd0434d4a33ae5accd87cce2bbd": {
     "model_module": "@jupyter-widgets/controls",
     "model_name": "DescriptionStyleModel",
     "state": {
      "_model_module": "@jupyter-widgets/controls",
      "_model_module_version": "1.5.0",
      "_model_name": "DescriptionStyleModel",
      "_view_count": null,
      "_view_module": "@jupyter-widgets/base",
      "_view_module_version": "1.2.0",
      "_view_name": "StyleView",
      "description_width": ""
     }
    },
    "aec698364280404ab44df0acd42593db": {
     "model_module": "@jupyter-widgets/controls",
     "model_name": "ProgressStyleModel",
     "state": {
      "_model_module": "@jupyter-widgets/controls",
      "_model_module_version": "1.5.0",
      "_model_name": "ProgressStyleModel",
      "_view_count": null,
      "_view_module": "@jupyter-widgets/base",
      "_view_module_version": "1.2.0",
      "_view_name": "StyleView",
      "bar_color": null,
      "description_width": "initial"
     }
    },
    "c2c996c7075145b797c8f0108d0f6ec7": {
     "model_module": "@jupyter-widgets/base",
     "model_name": "LayoutModel",
     "state": {
      "_model_module": "@jupyter-widgets/base",
      "_model_module_version": "1.2.0",
      "_model_name": "LayoutModel",
      "_view_count": null,
      "_view_module": "@jupyter-widgets/base",
      "_view_module_version": "1.2.0",
      "_view_name": "LayoutView",
      "align_content": null,
      "align_items": null,
      "align_self": null,
      "border": null,
      "bottom": null,
      "display": null,
      "flex": null,
      "flex_flow": null,
      "grid_area": null,
      "grid_auto_columns": null,
      "grid_auto_flow": null,
      "grid_auto_rows": null,
      "grid_column": null,
      "grid_gap": null,
      "grid_row": null,
      "grid_template_areas": null,
      "grid_template_columns": null,
      "grid_template_rows": null,
      "height": null,
      "justify_content": null,
      "justify_items": null,
      "left": null,
      "margin": null,
      "max_height": null,
      "max_width": null,
      "min_height": null,
      "min_width": null,
      "object_fit": null,
      "object_position": null,
      "order": null,
      "overflow": null,
      "overflow_x": null,
      "overflow_y": null,
      "padding": null,
      "right": null,
      "top": null,
      "visibility": null,
      "width": null
     }
    },
    "c6442246d854443daec259d6011c05d9": {
     "model_module": "@jupyter-widgets/base",
     "model_name": "LayoutModel",
     "state": {
      "_model_module": "@jupyter-widgets/base",
      "_model_module_version": "1.2.0",
      "_model_name": "LayoutModel",
      "_view_count": null,
      "_view_module": "@jupyter-widgets/base",
      "_view_module_version": "1.2.0",
      "_view_name": "LayoutView",
      "align_content": null,
      "align_items": null,
      "align_self": null,
      "border": null,
      "bottom": null,
      "display": null,
      "flex": null,
      "flex_flow": null,
      "grid_area": null,
      "grid_auto_columns": null,
      "grid_auto_flow": null,
      "grid_auto_rows": null,
      "grid_column": null,
      "grid_gap": null,
      "grid_row": null,
      "grid_template_areas": null,
      "grid_template_columns": null,
      "grid_template_rows": null,
      "height": null,
      "justify_content": null,
      "justify_items": null,
      "left": null,
      "margin": null,
      "max_height": null,
      "max_width": null,
      "min_height": null,
      "min_width": null,
      "object_fit": null,
      "object_position": null,
      "order": null,
      "overflow": null,
      "overflow_x": null,
      "overflow_y": null,
      "padding": null,
      "right": null,
      "top": null,
      "visibility": null,
      "width": null
     }
    },
    "c6fb0ba5667646388465bb595f8295a7": {
     "model_module": "@jupyter-widgets/controls",
     "model_name": "FloatProgressModel",
     "state": {
      "_dom_classes": [],
      "_model_module": "@jupyter-widgets/controls",
      "_model_module_version": "1.5.0",
      "_model_name": "FloatProgressModel",
      "_view_count": null,
      "_view_module": "@jupyter-widgets/controls",
      "_view_module_version": "1.5.0",
      "_view_name": "ProgressView",
      "bar_style": "success",
      "description": "",
      "description_tooltip": null,
      "layout": "IPY_MODEL_6d51bfdc73e04754b0c9fd88584d61cf",
      "max": 9912422,
      "min": 0,
      "orientation": "horizontal",
      "style": "IPY_MODEL_95cbf9142a5744389f016610049ec8b8",
      "value": 9912422
     }
    },
    "c70f744e35024cf297af7305bec2b36a": {
     "model_module": "@jupyter-widgets/controls",
     "model_name": "HTMLModel",
     "state": {
      "_dom_classes": [],
      "_model_module": "@jupyter-widgets/controls",
      "_model_module_version": "1.5.0",
      "_model_name": "HTMLModel",
      "_view_count": null,
      "_view_module": "@jupyter-widgets/controls",
      "_view_module_version": "1.5.0",
      "_view_name": "HTMLView",
      "description": "",
      "description_tooltip": null,
      "layout": "IPY_MODEL_26fd89fdac764301b31325d99c0b00f0",
      "placeholder": "​",
      "style": "IPY_MODEL_1f18c523443a467dbee92b70acb01a1f",
      "value": " 29696/? [00:01&lt;00:00, 25184.74it/s]"
     }
    },
    "d11c8b23f61a4218902b6d2fc33d61b9": {
     "model_module": "@jupyter-widgets/base",
     "model_name": "LayoutModel",
     "state": {
      "_model_module": "@jupyter-widgets/base",
      "_model_module_version": "1.2.0",
      "_model_name": "LayoutModel",
      "_view_count": null,
      "_view_module": "@jupyter-widgets/base",
      "_view_module_version": "1.2.0",
      "_view_name": "LayoutView",
      "align_content": null,
      "align_items": null,
      "align_self": null,
      "border": null,
      "bottom": null,
      "display": null,
      "flex": null,
      "flex_flow": null,
      "grid_area": null,
      "grid_auto_columns": null,
      "grid_auto_flow": null,
      "grid_auto_rows": null,
      "grid_column": null,
      "grid_gap": null,
      "grid_row": null,
      "grid_template_areas": null,
      "grid_template_columns": null,
      "grid_template_rows": null,
      "height": null,
      "justify_content": null,
      "justify_items": null,
      "left": null,
      "margin": null,
      "max_height": null,
      "max_width": null,
      "min_height": null,
      "min_width": null,
      "object_fit": null,
      "object_position": null,
      "order": null,
      "overflow": null,
      "overflow_x": null,
      "overflow_y": null,
      "padding": null,
      "right": null,
      "top": null,
      "visibility": null,
      "width": null
     }
    },
    "d617d6f25fc94264a928f2a8b3093235": {
     "model_module": "@jupyter-widgets/controls",
     "model_name": "HBoxModel",
     "state": {
      "_dom_classes": [],
      "_model_module": "@jupyter-widgets/controls",
      "_model_module_version": "1.5.0",
      "_model_name": "HBoxModel",
      "_view_count": null,
      "_view_module": "@jupyter-widgets/controls",
      "_view_module_version": "1.5.0",
      "_view_name": "HBoxView",
      "box_style": "",
      "children": [
       "IPY_MODEL_c6fb0ba5667646388465bb595f8295a7",
       "IPY_MODEL_49b5de5919af45b6a8a20da765bee58b"
      ],
      "layout": "IPY_MODEL_85e81e1a06d543fe896990d50e1924ab"
     }
    },
    "e4ea784cac16414aa0614f6ac9db05d3": {
     "model_module": "@jupyter-widgets/base",
     "model_name": "LayoutModel",
     "state": {
      "_model_module": "@jupyter-widgets/base",
      "_model_module_version": "1.2.0",
      "_model_name": "LayoutModel",
      "_view_count": null,
      "_view_module": "@jupyter-widgets/base",
      "_view_module_version": "1.2.0",
      "_view_name": "LayoutView",
      "align_content": null,
      "align_items": null,
      "align_self": null,
      "border": null,
      "bottom": null,
      "display": null,
      "flex": null,
      "flex_flow": null,
      "grid_area": null,
      "grid_auto_columns": null,
      "grid_auto_flow": null,
      "grid_auto_rows": null,
      "grid_column": null,
      "grid_gap": null,
      "grid_row": null,
      "grid_template_areas": null,
      "grid_template_columns": null,
      "grid_template_rows": null,
      "height": null,
      "justify_content": null,
      "justify_items": null,
      "left": null,
      "margin": null,
      "max_height": null,
      "max_width": null,
      "min_height": null,
      "min_width": null,
      "object_fit": null,
      "object_position": null,
      "order": null,
      "overflow": null,
      "overflow_x": null,
      "overflow_y": null,
      "padding": null,
      "right": null,
      "top": null,
      "visibility": null,
      "width": null
     }
    },
    "e9b5d225e3c64176b6acc4197c4675ee": {
     "model_module": "@jupyter-widgets/controls",
     "model_name": "FloatProgressModel",
     "state": {
      "_dom_classes": [],
      "_model_module": "@jupyter-widgets/controls",
      "_model_module_version": "1.5.0",
      "_model_name": "FloatProgressModel",
      "_view_count": null,
      "_view_module": "@jupyter-widgets/controls",
      "_view_module_version": "1.5.0",
      "_view_name": "ProgressView",
      "bar_style": "success",
      "description": "",
      "description_tooltip": null,
      "layout": "IPY_MODEL_d11c8b23f61a4218902b6d2fc33d61b9",
      "max": 4542,
      "min": 0,
      "orientation": "horizontal",
      "style": "IPY_MODEL_ecc41d29e44b4295b7a022b61faa857c",
      "value": 4542
     }
    },
    "ecc41d29e44b4295b7a022b61faa857c": {
     "model_module": "@jupyter-widgets/controls",
     "model_name": "ProgressStyleModel",
     "state": {
      "_model_module": "@jupyter-widgets/controls",
      "_model_module_version": "1.5.0",
      "_model_name": "ProgressStyleModel",
      "_view_count": null,
      "_view_module": "@jupyter-widgets/base",
      "_view_module_version": "1.2.0",
      "_view_name": "StyleView",
      "bar_color": null,
      "description_width": "initial"
     }
    },
    "f2680d095ed24ef58af0b2e90fbf9232": {
     "model_module": "@jupyter-widgets/controls",
     "model_name": "DescriptionStyleModel",
     "state": {
      "_model_module": "@jupyter-widgets/controls",
      "_model_module_version": "1.5.0",
      "_model_name": "DescriptionStyleModel",
      "_view_count": null,
      "_view_module": "@jupyter-widgets/base",
      "_view_module_version": "1.2.0",
      "_view_name": "StyleView",
      "description_width": ""
     }
    },
    "f29c784d24914ac68fc0f323abf0d150": {
     "model_module": "@jupyter-widgets/controls",
     "model_name": "ProgressStyleModel",
     "state": {
      "_model_module": "@jupyter-widgets/controls",
      "_model_module_version": "1.5.0",
      "_model_name": "ProgressStyleModel",
      "_view_count": null,
      "_view_module": "@jupyter-widgets/base",
      "_view_module_version": "1.2.0",
      "_view_name": "StyleView",
      "bar_color": null,
      "description_width": "initial"
     }
    }
   }
  }
 },
 "nbformat": 4,
 "nbformat_minor": 1
}
