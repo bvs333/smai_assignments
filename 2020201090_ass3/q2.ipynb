{
 "cells": [
  {
   "cell_type": "code",
   "execution_count": null,
   "metadata": {
    "id": "0i4YczIo2S09"
   },
   "outputs": [],
   "source": [
    "import torch\n",
    "import torch.nn as nn\n",
    "import torch.optim as optim\n",
    "import torch.nn.functional as F\n",
    "from torch.utils.data import DataLoader\n",
    "import torchvision.datasets as datasets\n",
    "import torchvision.transforms as transforms"
   ]
  },
  {
   "cell_type": "code",
   "execution_count": null,
   "metadata": {
    "id": "Z6ok-jdMBc5P"
   },
   "outputs": [],
   "source": [
    "transform = transforms.Compose([transforms.ToTensor(),transforms.Normalize((0.5,),(0.5,))])"
   ]
  },
  {
   "cell_type": "code",
   "execution_count": null,
   "metadata": {
    "colab": {
     "base_uri": "https://localhost:8080/",
     "height": 726,
     "referenced_widgets": [
      "e2fa6d32c4fa4b24bb6894c30d01a85f",
      "d057a0fc8aa04d00854e921a7a88131b",
      "a1582cb4a99245f49d7d23f57949f7b5",
      "ec05475518964731b2140277ebd071f8",
      "8e84d64c8d114e3abfe201865aaf67fc",
      "6187334f31e34052b24f2bb7fb35c2eb",
      "86703515feab4a258e3587ad56b60a9d",
      "17ef02dc6a034b359e3ed161bc29337e",
      "323a32cd6bdc4af385cbd887e4760a88",
      "99370902e7404138a138c2e940301156",
      "3a038cc3295b473ab79113da324bbc65",
      "562ec61c18024c6c9a775c9492fb931d",
      "62c262de3a8b4e97a501c154cd7f6110",
      "ea6abff314d94c1bb9d123b35d253c50",
      "c274ee4ab065475eba5be057a25d2a5f",
      "6f333f5373a3417993e64027c66c07f5",
      "1ccbde874f974a958749d0ee3e378b49",
      "bf78c25d1bdb410d9de761a4a49a9b37",
      "ba2307e2437d48618679b05549c81345",
      "5714337c34ef4bedba40f1abf8b82200",
      "6e11f1203cf443f6b3484f1c082cd1dc",
      "785eccb8154a4eed8e99faa86cd4342e",
      "ba3f14d39332436b816d022c9776bc71",
      "118ffc0b36624f3dad75abf82dd82e4b",
      "1271c57fddeb45a98662945168cb0431",
      "dfb7e927a91e46fc93b7355912df924c",
      "6a328025486748ae8623c0cee488a67a",
      "5dc385131bb6487aa6387afe0bbdb88f",
      "68e60d8a92fc45379ae84535398a3a05",
      "354f4eecb0184edd9056e1d2d89f07b6",
      "d9bb19ea81424398bb4cda7b85c05b6f",
      "bc38b9867450490ca56a0267874d2abe"
     ]
    },
    "id": "p2JiDjpPB-7p",
    "outputId": "ecbb7999-807a-4e96-9ed0-671b64c7c57d"
   },
   "outputs": [
    {
     "name": "stdout",
     "output_type": "stream",
     "text": [
      "Downloading http://yann.lecun.com/exdb/mnist/train-images-idx3-ubyte.gz\n",
      "Downloading http://yann.lecun.com/exdb/mnist/train-images-idx3-ubyte.gz to ./MNIST/raw/train-images-idx3-ubyte.gz\n"
     ]
    },
    {
     "data": {
      "application/vnd.jupyter.widget-view+json": {
       "model_id": "e2fa6d32c4fa4b24bb6894c30d01a85f",
       "version_major": 2,
       "version_minor": 0
      },
      "text/plain": [
       "HBox(children=(FloatProgress(value=0.0, max=9912422.0), HTML(value='')))"
      ]
     },
     "metadata": {
      "tags": []
     },
     "output_type": "display_data"
    },
    {
     "name": "stdout",
     "output_type": "stream",
     "text": [
      "\n",
      "Extracting ./MNIST/raw/train-images-idx3-ubyte.gz to ./MNIST/raw\n",
      "\n",
      "Downloading http://yann.lecun.com/exdb/mnist/train-labels-idx1-ubyte.gz\n",
      "Downloading http://yann.lecun.com/exdb/mnist/train-labels-idx1-ubyte.gz to ./MNIST/raw/train-labels-idx1-ubyte.gz\n"
     ]
    },
    {
     "data": {
      "application/vnd.jupyter.widget-view+json": {
       "model_id": "323a32cd6bdc4af385cbd887e4760a88",
       "version_major": 2,
       "version_minor": 0
      },
      "text/plain": [
       "HBox(children=(FloatProgress(value=0.0, max=28881.0), HTML(value='')))"
      ]
     },
     "metadata": {
      "tags": []
     },
     "output_type": "display_data"
    },
    {
     "name": "stdout",
     "output_type": "stream",
     "text": [
      "\n",
      "Extracting ./MNIST/raw/train-labels-idx1-ubyte.gz to ./MNIST/raw\n",
      "\n",
      "Downloading http://yann.lecun.com/exdb/mnist/t10k-images-idx3-ubyte.gz\n",
      "Downloading http://yann.lecun.com/exdb/mnist/t10k-images-idx3-ubyte.gz to ./MNIST/raw/t10k-images-idx3-ubyte.gz\n",
      "Failed to download (trying next):\n",
      "HTTP Error 503: Service Unavailable\n",
      "\n",
      "Downloading https://ossci-datasets.s3.amazonaws.com/mnist/t10k-images-idx3-ubyte.gz\n",
      "Downloading https://ossci-datasets.s3.amazonaws.com/mnist/t10k-images-idx3-ubyte.gz to ./MNIST/raw/t10k-images-idx3-ubyte.gz\n"
     ]
    },
    {
     "data": {
      "application/vnd.jupyter.widget-view+json": {
       "model_id": "1ccbde874f974a958749d0ee3e378b49",
       "version_major": 2,
       "version_minor": 0
      },
      "text/plain": [
       "HBox(children=(FloatProgress(value=0.0, max=1648877.0), HTML(value='')))"
      ]
     },
     "metadata": {
      "tags": []
     },
     "output_type": "display_data"
    },
    {
     "name": "stdout",
     "output_type": "stream",
     "text": [
      "\n",
      "Extracting ./MNIST/raw/t10k-images-idx3-ubyte.gz to ./MNIST/raw\n",
      "\n",
      "Downloading http://yann.lecun.com/exdb/mnist/t10k-labels-idx1-ubyte.gz\n",
      "Failed to download (trying next):\n",
      "HTTP Error 503: Service Unavailable\n",
      "\n",
      "Downloading https://ossci-datasets.s3.amazonaws.com/mnist/t10k-labels-idx1-ubyte.gz\n",
      "Downloading https://ossci-datasets.s3.amazonaws.com/mnist/t10k-labels-idx1-ubyte.gz to ./MNIST/raw/t10k-labels-idx1-ubyte.gz\n"
     ]
    },
    {
     "data": {
      "application/vnd.jupyter.widget-view+json": {
       "model_id": "1271c57fddeb45a98662945168cb0431",
       "version_major": 2,
       "version_minor": 0
      },
      "text/plain": [
       "HBox(children=(FloatProgress(value=0.0, max=4542.0), HTML(value='')))"
      ]
     },
     "metadata": {
      "tags": []
     },
     "output_type": "display_data"
    },
    {
     "name": "stdout",
     "output_type": "stream",
     "text": [
      "\n",
      "Extracting ./MNIST/raw/t10k-labels-idx1-ubyte.gz to ./MNIST/raw\n",
      "\n",
      "Processing...\n",
      "Done!\n"
     ]
    },
    {
     "name": "stderr",
     "output_type": "stream",
     "text": [
      "/usr/local/lib/python3.7/dist-packages/torchvision/datasets/mnist.py:502: UserWarning: The given NumPy array is not writeable, and PyTorch does not support non-writeable tensors. This means you can write to the underlying (supposedly non-writeable) NumPy array using the tensor. You may want to copy the array to protect its data or make it writeable before converting it to a tensor. This type of warning will be suppressed for the rest of this program. (Triggered internally at  /pytorch/torch/csrc/utils/tensor_numpy.cpp:143.)\n",
      "  return torch.from_numpy(parsed.astype(m[2], copy=False)).view(*s)\n"
     ]
    }
   ],
   "source": [
    "train_set = datasets.MNIST(root = './',train = True , download = True , transform = transform)\n",
    "train_data_set_loader = torch.utils.data.DataLoader(train_set,batch_size = 128,shuffle = True)\n",
    "\n",
    "test_set = datasets.MNIST(root = './',train = True , download = True, transform = transform)\n",
    "test_data_set_loader = torch.utils.data.DataLoader(test_set,batch_size = 128,shuffle = True)"
   ]
  },
  {
   "cell_type": "code",
   "execution_count": null,
   "metadata": {
    "colab": {
     "base_uri": "https://localhost:8080/"
    },
    "id": "jkky-Q-7USn4",
    "outputId": "89baa9db-61fe-4766-e1e9-cc35169e52a5"
   },
   "outputs": [
    {
     "name": "stdout",
     "output_type": "stream",
     "text": [
      "torch.Size([128, 1, 28, 28])\n",
      "torch.Size([128])\n"
     ]
    }
   ],
   "source": [
    "dummy_iter = iter(train_data_set_loader)\n"
   ]
  },
  {
   "cell_type": "code",
   "execution_count": null,
   "metadata": {
    "id": "m71JlRHLSetj"
   },
   "outputs": [],
   "source": [
    "class auto_encoder(nn.Module) :\n",
    "\n",
    "  def __init__(self) :\n",
    "    super(auto_encoder, self).__init__()\n",
    "\n",
    "    self.enc1 = nn.Linear(in_features = 784 , out_features = 512)\n",
    "    self.enc2 = nn.Linear(in_features = 512, out_features= 256)\n",
    "    self.enc3 = nn.Linear(in_features = 256,out_features = 128)\n",
    "    self.enc4 = nn.Linear(in_features = 128,out_features = 64)\n",
    "    #self.enc5 = nn.Linear(in_features = 64, out_features = 32)\n",
    "\n",
    "    #self.dec0  = nn.Linear(in_features = 32, out_features = 64)\n",
    "    self.dec1 = nn.Linear(in_features = 64, out_features = 128)\n",
    "    self.dec2 = nn.Linear(in_features = 128 , out_features = 256)\n",
    "    self.dec3 = nn.Linear(in_features = 256,out_features = 512)\n",
    "    self.dec4 = nn.Linear(in_features = 512, out_features = 784)\n",
    "  \n",
    "  def forward(self,x) :\n",
    "\n",
    "    x = F.relu(self.enc1(x))\n",
    "    x = F.relu(self.enc2(x))\n",
    "    x = F.relu(self.enc3(x))\n",
    "    x = F.relu(self.enc4(x))\n",
    "    #x = F.relu(self.enc5(x))\n",
    "\n",
    "    #x = F.relu(self.dec0(x))\n",
    "    x = F.relu(self.dec1(x))\n",
    "    x = F.relu(self.dec2(x))\n",
    "    x = F.relu(self.dec3(x))\n",
    "    x = F.relu(self.dec4(x))\n",
    "\n",
    "    return x\n",
    "\n"
   ]
  },
  {
   "cell_type": "code",
   "execution_count": null,
   "metadata": {
    "id": "860UqdQnyGSH"
   },
   "outputs": [],
   "source": [
    "model1 = auto_encoder().to(\"cuda\")\n",
    "\n",
    "criterion = nn.MSELoss()\n",
    "optimizer = optim.RMSprop(model1.parameters(),lr = 0.001)"
   ]
  },
  {
   "cell_type": "code",
   "execution_count": null,
   "metadata": {
    "id": "f-k65WwC0k52"
   },
   "outputs": [],
   "source": [
    "device = \"cuda\" if torch.cuda.is_available() else \"cpu\"\n",
    "device = torch.device(device)"
   ]
  },
  {
   "cell_type": "code",
   "execution_count": null,
   "metadata": {
    "colab": {
     "base_uri": "https://localhost:8080/"
    },
    "id": "Pgpw9pHq1-Ly",
    "outputId": "f0c046aa-2625-425b-9a96-3791825dbc49"
   },
   "outputs": [
    {
     "name": "stdout",
     "output_type": "stream",
     "text": [
      "Epoch  0 433.99776941537857\n",
      "Epoch  1 433.9973375201225\n",
      "Epoch  2 433.99721693992615\n",
      "Epoch  3 433.9970874786377\n",
      "Epoch  4 433.997557759285\n",
      "Epoch  5 433.9977089166641\n",
      "Epoch  6 433.9984337091446\n",
      "Epoch  7 433.9971754550934\n",
      "Epoch  8 433.9970651268959\n",
      "Epoch  9 433.9974145889282\n",
      "Epoch  10 433.9978892803192\n",
      "Epoch  11 433.99816685914993\n",
      "Epoch  12 433.99753880500793\n",
      "Epoch  13 433.99801421165466\n",
      "Epoch  14 433.99769699573517\n"
     ]
    }
   ],
   "source": [
    "model_1_loss = []\n",
    "model_1_epochs = []\n",
    "\n",
    "for epoch in range(15):\n",
    "  running_loss = 0.0\n",
    "  for data in train_data_set_loader:\n",
    "    img, _ = data\n",
    "    img = img.to(device)\n",
    "    img = img.view(img.size(0), -1)\n",
    "    optimizer.zero_grad()\n",
    "    outputs = model1(img)\n",
    "    loss = criterion(outputs, img)\n",
    "    loss.backward()\n",
    "    optimizer.step()\n",
    "    running_loss += loss.item()\n",
    "\n",
    "    \n",
    "    #train_loss.append(loss)\n",
    "    #print('Epoch {} of {}, Train Loss: {:.3f}'.format(\n",
    "  \n",
    "  print(\"Epoch \",epoch,running_loss)\n",
    "  model_1_loss.append(running_loss)\n",
    "  model_1_epochs.append(epoch)\n",
    "    "
   ]
  },
  {
   "cell_type": "code",
   "execution_count": null,
   "metadata": {
    "id": "JH0l3x1N8Tbp"
   },
   "outputs": [],
   "source": [
    "import matplotlib.pyplot as plt\n",
    "import numpy\n",
    "def view_image(x) :\n",
    "\n",
    "  #print(type(x))\n",
    "  #print(x.shape)\n",
    "\n",
    "  x = x.reshape(x.shape[0],1,28,28)\n",
    "  \"\"\"\n",
    "  dataiter=iter(test_loader)\n",
    "  orig_img,label=dataiter.next()\n",
    "  plt.imshow(orig_img[0].squeeze(0).cpu().numpy(),cmap='gray')\n",
    "  \"\"\"\n",
    "  plt.figure()\n",
    "  plt.imshow(x[0].squeeze(0).cpu().detach().numpy(),cmap = 'gray')\n"
   ]
  },
  {
   "cell_type": "code",
   "execution_count": null,
   "metadata": {
    "colab": {
     "base_uri": "https://localhost:8080/",
     "height": 513
    },
    "id": "Qsv4zUqCL0xA",
    "outputId": "8a79bdec-8302-4101-baee-d2c9f7e0ed43"
   },
   "outputs": [
    {
     "data": {
      "image/png": "[encoded data removed]",
      "text/plain": [
       "<Figure size 432x288 with 1 Axes>"
      ]
     },
     "metadata": {
      "tags": []
     },
     "output_type": "display_data"
    },
    {
     "data": {
      "image/png": "[encoded data removed]",
      "text/plain": [
       "<Figure size 432x288 with 1 Axes>"
      ]
     },
     "metadata": {
      "tags": []
     },
     "output_type": "display_data"
    }
   ],
   "source": [
    "for batch in test_data_set_loader :\n",
    "\n",
    "  img,_ = batch\n",
    "  img = img.to(device)\n",
    "  img = img.view(img.size(0),-1)\n",
    "  outputs = model1(img)\n",
    "  view_image(outputs)\n",
    "  view_image(img)\n",
    "  break\n",
    "\n",
    "\n"
   ]
  },
  {
   "cell_type": "code",
   "execution_count": null,
   "metadata": {
    "id": "Fy3o8YB4IWME"
   },
   "outputs": [],
   "source": [
    "model2 = auto_encoder().to(\"cuda\")\n",
    "\n",
    "criterion = nn.MSELoss()\n",
    "optimizer = optim.SGD(model2.parameters(),lr = 0.001)"
   ]
  },
  {
   "cell_type": "code",
   "execution_count": null,
   "metadata": {
    "colab": {
     "base_uri": "https://localhost:8080/"
    },
    "id": "lYWOimIAY09C",
    "outputId": "5f4da98e-7175-471c-bfed-f0cbc9429905"
   },
   "outputs": [
    {
     "name": "stdout",
     "output_type": "stream",
     "text": [
      "Epoch  0 434.9114736318588\n",
      "Epoch  1 434.8153250217438\n",
      "Epoch  2 434.72986936569214\n",
      "Epoch  3 434.6544748544693\n",
      "Epoch  4 434.58820021152496\n",
      "Epoch  5 434.53210085630417\n",
      "Epoch  6 434.48579555749893\n",
      "Epoch  7 434.44626158475876\n",
      "Epoch  8 434.4117149710655\n",
      "Epoch  9 434.37988752126694\n",
      "Epoch  10 434.3531618118286\n",
      "Epoch  11 434.3293847441673\n",
      "Epoch  12 434.3101904988289\n",
      "Epoch  13 434.2936062812805\n",
      "Epoch  14 434.2778522968292\n",
      "Epoch  15 434.26298439502716\n",
      "Epoch  16 434.24727511405945\n",
      "Epoch  17 434.232428252697\n",
      "Epoch  18 434.21781355142593\n",
      "Epoch  19 434.2051331400871\n"
     ]
    }
   ],
   "source": [
    "model_2_epochs = []\n",
    "model_2_loss = []\n",
    "\n",
    "for epoch in range(20):\n",
    "  running_loss = 0.0\n",
    "  for data in train_data_set_loader:\n",
    "    img, _ = data\n",
    "    img = img.to(device)\n",
    "    img = img.view(img.size(0), -1)\n",
    "    optimizer.zero_grad()\n",
    "    outputs = model2(img)\n",
    "    loss = criterion(outputs, img)\n",
    "    loss.backward()\n",
    "    optimizer.step()\n",
    "    running_loss += loss.item()\n",
    "\n",
    "\n",
    "    #train_loss.append(loss)\n",
    "    #print('Epoch {} of {}, Train Loss: {:.3f}'.format(\n",
    "  \n",
    "  print(\"Epoch \",epoch,running_loss)\n",
    "  model_2_epochs.append(epoch)\n",
    "  model_2_loss.append(running_loss)"
   ]
  },
  {
   "cell_type": "code",
   "execution_count": null,
   "metadata": {
    "colab": {
     "base_uri": "https://localhost:8080/",
     "height": 513
    },
    "id": "5jWLcA2_ZFMn",
    "outputId": "824e05cc-2825-405c-e975-e06577a25273"
   },
   "outputs": [
    {
     "data": {
      "image/png": "[encoded data removed]",
      "text/plain": [
       "<Figure size 432x288 with 1 Axes>"
      ]
     },
     "metadata": {
      "tags": []
     },
     "output_type": "display_data"
    },
    {
     "data": {
      "image/png": "[encoded data removed]",
      "text/plain": [
       "<Figure size 432x288 with 1 Axes>"
      ]
     },
     "metadata": {
      "tags": []
     },
     "output_type": "display_data"
    }
   ],
   "source": [
    "for batch in test_data_set_loader :\n",
    "\n",
    "  img,_ = batch\n",
    "  img = img.to(device)\n",
    "  img = img.view(img.size(0),-1)\n",
    "  outputs = model2(img)\n",
    "  view_image(outputs)\n",
    "  view_image(img)\n",
    "  break\n"
   ]
  },
  {
   "cell_type": "code",
   "execution_count": null,
   "metadata": {
    "id": "Wi57t0pSJlqd"
   },
   "outputs": [],
   "source": [
    "model3 = auto_encoder().to(\"cuda\")\n",
    "\n",
    "criterion = nn.MSELoss()\n",
    "optimizer = optim.SGD(model3.parameters(),lr = 0.001,momentum = 0.9)"
   ]
  },
  {
   "cell_type": "code",
   "execution_count": null,
   "metadata": {
    "colab": {
     "base_uri": "https://localhost:8080/"
    },
    "id": "wZzSa40fJ2BQ",
    "outputId": "419d6ec0-fa3f-4d33-da81-93ee8a3388c2"
   },
   "outputs": [
    {
     "name": "stdout",
     "output_type": "stream",
     "text": [
      "Epoch  0 439.66586124897003\n",
      "Epoch  1 436.1441997885704\n",
      "Epoch  2 434.73026633262634\n",
      "Epoch  3 434.2917600274086\n",
      "Epoch  4 434.1624436378479\n",
      "Epoch  5 434.1050024032593\n",
      "Epoch  6 434.0740016102791\n",
      "Epoch  7 434.0554302930832\n",
      "Epoch  8 434.04270482063293\n",
      "Epoch  9 434.03533351421356\n",
      "Epoch  10 434.02772986888885\n",
      "Epoch  11 434.02188766002655\n",
      "Epoch  12 434.0167616009712\n",
      "Epoch  13 434.01264703273773\n",
      "Epoch  14 434.008292555809\n",
      "Epoch  15 434.0061579942703\n",
      "Epoch  16 434.00314354896545\n",
      "Epoch  17 434.00129771232605\n",
      "Epoch  18 433.99758303165436\n",
      "Epoch  19 433.99616581201553\n"
     ]
    }
   ],
   "source": [
    "model_3_epochs = []\n",
    "model_3_loss = []\n",
    "for epoch in range(20):\n",
    "  running_loss = 0.0\n",
    "  for data in train_data_set_loader:\n",
    "    img, _ = data\n",
    "    img = img.to(device)\n",
    "    img = img.view(img.size(0), -1)\n",
    "    optimizer.zero_grad()\n",
    "    outputs = model3(img)\n",
    "    loss = criterion(outputs, img)\n",
    "    loss.backward()\n",
    "    optimizer.step()\n",
    "    running_loss += loss.item()\n",
    "\n",
    "    \n",
    "    #train_loss.append(loss)\n",
    "    #print('Epoch {} of {}, Train Loss: {:.3f}'.format(\n",
    "  \n",
    "  print(\"Epoch \",epoch,running_loss)\n",
    "  model_3_epochs.append(epoch)\n",
    "  model_3_loss.append(running_loss)"
   ]
  },
  {
   "cell_type": "code",
   "execution_count": null,
   "metadata": {
    "colab": {
     "base_uri": "https://localhost:8080/",
     "height": 513
    },
    "id": "l_7Ksws3J5ly",
    "outputId": "16d0c943-1a5a-4459-b18a-5dc1e6f71ffd"
   },
   "outputs": [
    {
     "data": {
      "image/png": "[encoded data removed]",
      "text/plain": [
       "<Figure size 432x288 with 1 Axes>"
      ]
     },
     "metadata": {
      "tags": []
     },
     "output_type": "display_data"
    },
    {
     "data": {
      "image/png": "[encoded data removed]",
      "text/plain": [
       "<Figure size 432x288 with 1 Axes>"
      ]
     },
     "metadata": {
      "tags": []
     },
     "output_type": "display_data"
    }
   ],
   "source": [
    "for batch in test_data_set_loader :\n",
    "\n",
    "  img,_ = batch\n",
    "  img = img.to(device)\n",
    "  img = img.view(img.size(0),-1)\n",
    "  outputs = model3(img)\n",
    "  view_image(outputs)\n",
    "  view_image(img)\n",
    "  break"
   ]
  },
  {
   "cell_type": "code",
   "execution_count": null,
   "metadata": {
    "id": "BHS3hF2D7SO2"
   },
   "outputs": [],
   "source": [
    "model4 = auto_encoder().to(\"cuda\")\n",
    "\n",
    "criterion = nn.MSELoss()\n",
    "optimizer = optim.Adam(model4.parameters(),lr = 0.001)"
   ]
  },
  {
   "cell_type": "code",
   "execution_count": null,
   "metadata": {
    "colab": {
     "base_uri": "https://localhost:8080/"
    },
    "id": "RE2RwIGo8mko",
    "outputId": "4fadbf3d-830a-4b4a-e2ae-622088d6bf49"
   },
   "outputs": [
    {
     "name": "stdout",
     "output_type": "stream",
     "text": [
      "Epoch  0 431.10153675079346\n",
      "Epoch  1 425.02381324768066\n",
      "Epoch  2 421.65350115299225\n",
      "Epoch  3 419.7848287820816\n",
      "Epoch  4 418.7391421198845\n",
      "Epoch  5 418.29220604896545\n",
      "Epoch  6 417.8468698859215\n",
      "Epoch  7 417.3276945948601\n",
      "Epoch  8 416.8867509961128\n",
      "Epoch  9 416.52699077129364\n",
      "Epoch  10 416.3026255965233\n",
      "Epoch  11 416.0941796898842\n",
      "Epoch  12 415.7432098388672\n",
      "Epoch  13 415.50132489204407\n",
      "Epoch  14 415.3839707374573\n",
      "Epoch  15 415.2767137289047\n",
      "Epoch  16 415.18396401405334\n",
      "Epoch  17 415.09225183725357\n",
      "Epoch  18 415.0081262588501\n",
      "Epoch  19 414.89018338918686\n"
     ]
    }
   ],
   "source": [
    "model_4_epochs = []\n",
    "model_4_loss = []\n",
    "for epoch in range(20):\n",
    "  running_loss = 0.0\n",
    "  for data in train_data_set_loader:\n",
    "    img, _ = data\n",
    "    img = img.to(device)\n",
    "    img = img.view(img.size(0), -1)\n",
    "    optimizer.zero_grad()\n",
    "    outputs = model4(img)\n",
    "    loss = criterion(outputs, img)\n",
    "    loss.backward()\n",
    "    optimizer.step()\n",
    "    running_loss += loss.item()\n",
    "\n",
    "    \n",
    "    #train_loss.append(loss)\n",
    "    #print('Epoch {} of {}, Train Loss: {:.3f}'.format(\n",
    "  \n",
    "  print(\"Epoch \",epoch,running_loss)\n",
    "  model_4_epochs.append(epoch)\n",
    "  model_4_loss.append(running_loss)"
   ]
  },
  {
   "cell_type": "code",
   "execution_count": null,
   "metadata": {
    "colab": {
     "base_uri": "https://localhost:8080/",
     "height": 513
    },
    "id": "-MD5guTx-A-G",
    "outputId": "5a68aee5-370a-4d5b-fd9a-50c10f4f94d8"
   },
   "outputs": [
    {
     "data": {
      "image/png": "[encoded data removed]",
      "text/plain": [
       "<Figure size 432x288 with 1 Axes>"
      ]
     },
     "metadata": {
      "tags": []
     },
     "output_type": "display_data"
    },
    {
     "data": {
      "image/png": "[encoded data removed]",
      "text/plain": [
       "<Figure size 432x288 with 1 Axes>"
      ]
     },
     "metadata": {
      "tags": []
     },
     "output_type": "display_data"
    }
   ],
   "source": [
    "for batch in test_data_set_loader :\n",
    "\n",
    "  img,_ = batch\n",
    "  img = img.to(device)\n",
    "  img = img.view(img.size(0),-1)\n",
    "  outputs = model4(img)\n",
    "  view_image(outputs)\n",
    "  view_image(img)\n",
    "  break"
   ]
  },
  {
   "cell_type": "markdown",
   "metadata": {
    "id": "kTgc7gTqTlSm"
   },
   "source": [
    "All the above code I have experimented with all different optimizers. Now I will plot the data for train loss vs epochs and testing loss"
   ]
  },
  {
   "cell_type": "code",
   "execution_count": null,
   "metadata": {
    "id": "4evAdCpmUATB"
   },
   "outputs": [],
   "source": [
    "import matplotlib.pyplot as plt"
   ]
  },
  {
   "cell_type": "code",
   "execution_count": null,
   "metadata": {
    "colab": {
     "base_uri": "https://localhost:8080/",
     "height": 295
    },
    "id": "Sy4CKXVWYZmd",
    "outputId": "97554a23-5c27-4a11-f708-2bb71b152207"
   },
   "outputs": [
    {
     "data": {
      "image/png": "[encoded data removed]",
      "text/plain": [
       "<Figure size 432x288 with 1 Axes>"
      ]
     },
     "metadata": {
      "tags": []
     },
     "output_type": "display_data"
    }
   ],
   "source": [
    "plt.plot(model_1_epochs,model_1_loss)\n",
    "plt.xlabel(\"Epochs\")\n",
    "plt.ylabel(\"Loss\")\n",
    "plt.grid()\n",
    "plt.title(\"Epochs Vs Loss for RMS Prop With Bottle neck layer having 64\")\n",
    "plt.show()"
   ]
  },
  {
   "cell_type": "code",
   "execution_count": null,
   "metadata": {
    "colab": {
     "base_uri": "https://localhost:8080/"
    },
    "id": "zcKx_FiAZAxc",
    "outputId": "296c913d-dc91-457a-91d8-e3cd222be66b"
   },
   "outputs": [
    {
     "name": "stdout",
     "output_type": "stream",
     "text": [
      "Testing Loss for RMS prop having 64 neurons as bottle neck layer  433.99797397851944\n"
     ]
    }
   ],
   "source": [
    "running_loss = 0\n",
    "for data in test_data_set_loader :\n",
    "  img, _ = data\n",
    "  img = img.to(device)\n",
    "  img = img.view(img.size(0),-1)\n",
    "  outputs = model1(img)\n",
    "  loss = criterion(outputs,img)\n",
    "  running_loss = running_loss + loss.item()\n",
    "\n",
    "print(\"Testing Loss for RMS prop having 64 neurons as bottle neck layer \",running_loss)"
   ]
  },
  {
   "cell_type": "code",
   "execution_count": null,
   "metadata": {
    "colab": {
     "base_uri": "https://localhost:8080/",
     "height": 295
    },
    "id": "UYVFJu95chE-",
    "outputId": "bb7ae594-6ade-457e-8291-6f14d774d2c1"
   },
   "outputs": [
    {
     "data": {
      "image/png": "[encoded data removed]",
      "text/plain": [
       "<Figure size 432x288 with 1 Axes>"
      ]
     },
     "metadata": {
      "tags": []
     },
     "output_type": "display_data"
    }
   ],
   "source": [
    "plt.plot(model_2_epochs,model_2_loss)\n",
    "plt.xlabel(\"Epochs\")\n",
    "plt.ylabel(\"Loss\")\n",
    "plt.grid()\n",
    "plt.title(\"Epochs Vs Loss for SGD without momentum With Bottle neck layer having 64\")\n",
    "plt.show()"
   ]
  },
  {
   "cell_type": "code",
   "execution_count": null,
   "metadata": {
    "colab": {
     "base_uri": "https://localhost:8080/"
    },
    "id": "0nzEaRHHd_DU",
    "outputId": "998ef6d6-485a-475b-e619-2a9c12df10be"
   },
   "outputs": [
    {
     "name": "stdout",
     "output_type": "stream",
     "text": [
      "Testing Loss for SGD without momentum having 64 neurons as bottle neck layer  434.19726753234863\n"
     ]
    }
   ],
   "source": [
    "running_loss = 0\n",
    "for data in test_data_set_loader :\n",
    "  img, _ = data\n",
    "  img = img.to(device)\n",
    "  img = img.view(img.size(0),-1)\n",
    "  outputs = model2(img)\n",
    "  loss = criterion(outputs,img)\n",
    "  running_loss = running_loss + loss.item()\n",
    "\n",
    "print(\"Testing Loss for SGD without momentum having 64 neurons as bottle neck layer \",running_loss)"
   ]
  },
  {
   "cell_type": "code",
   "execution_count": null,
   "metadata": {
    "colab": {
     "base_uri": "https://localhost:8080/",
     "height": 295
    },
    "id": "EMuhZAaLfrxZ",
    "outputId": "83c29fd2-3bb3-4ef0-d5d1-082345774efb"
   },
   "outputs": [
    {
     "data": {
      "image/png": "[encoded data removed]",
      "text/plain": [
       "<Figure size 432x288 with 1 Axes>"
      ]
     },
     "metadata": {
      "tags": []
     },
     "output_type": "display_data"
    }
   ],
   "source": [
    "plt.plot(model_3_epochs,model_3_loss)\n",
    "plt.xlabel(\"Epochs\")\n",
    "plt.ylabel(\"Loss\")\n",
    "plt.grid()\n",
    "plt.title(\"Epochs Vs Loss for SGD with momentum With Bottle neck layer having 64\")\n",
    "plt.show()"
   ]
  },
  {
   "cell_type": "code",
   "execution_count": null,
   "metadata": {
    "colab": {
     "base_uri": "https://localhost:8080/"
    },
    "id": "6CU6uvtHfwCQ",
    "outputId": "8d873107-c7e4-4f76-b647-86991e62bebb"
   },
   "outputs": [
    {
     "name": "stdout",
     "output_type": "stream",
     "text": [
      "Testing Loss for SGD with momentum having 64 neurons as bottle neck layer  433.9965450167656\n"
     ]
    }
   ],
   "source": [
    "running_loss = 0\n",
    "for data in test_data_set_loader :\n",
    "  img, _ = data\n",
    "  img = img.to(device)\n",
    "  img = img.view(img.size(0),-1)\n",
    "  outputs = model3(img)\n",
    "  loss = criterion(outputs,img)\n",
    "  running_loss = running_loss + loss.item()\n",
    "\n",
    "print(\"Testing Loss for SGD with momentum having 64 neurons as bottle neck layer \",running_loss)"
   ]
  },
  {
   "cell_type": "code",
   "execution_count": null,
   "metadata": {
    "colab": {
     "base_uri": "https://localhost:8080/",
     "height": 295
    },
    "id": "gpW6NGv-gBiU",
    "outputId": "77b59c09-1186-4838-8b22-affe16b7d480"
   },
   "outputs": [
    {
     "data": {
      "image/png": "[encoded data removed]",
      "text/plain": [
       "<Figure size 432x288 with 1 Axes>"
      ]
     },
     "metadata": {
      "tags": []
     },
     "output_type": "display_data"
    }
   ],
   "source": [
    "plt.plot(model_4_epochs,model_4_loss)\n",
    "plt.xlabel(\"Epochs\")\n",
    "plt.ylabel(\"Loss\")\n",
    "plt.grid()\n",
    "plt.title(\"Epochs Vs Loss for Adam With Bottle neck layer having 64\")\n",
    "plt.show()"
   ]
  },
  {
   "cell_type": "code",
   "execution_count": null,
   "metadata": {
    "colab": {
     "base_uri": "https://localhost:8080/"
    },
    "id": "GyP0-5EBhVtd",
    "outputId": "7daeb86a-e69e-45c2-a34d-55637a9c9aab"
   },
   "outputs": [
    {
     "name": "stdout",
     "output_type": "stream",
     "text": [
      "Testing Loss for Adam having 64 neurons as bottle neck layer  414.7844918370247\n"
     ]
    }
   ],
   "source": [
    "running_loss = 0\n",
    "for data in test_data_set_loader :\n",
    "  img, _ = data\n",
    "  img = img.to(device)\n",
    "  img = img.view(img.size(0),-1)\n",
    "  outputs = model4(img)\n",
    "  loss = criterion(outputs,img)\n",
    "  running_loss = running_loss + loss.item()\n",
    "\n",
    "print(\"Testing Loss for Adam having 64 neurons as bottle neck layer \",running_loss)"
   ]
  },
  {
   "cell_type": "markdown",
   "metadata": {
    "id": "OprdU5vtvNPs"
   },
   "source": [
    "Test Reconstruction Loss vs Hidden Layers"
   ]
  },
  {
   "cell_type": "markdown",
   "metadata": {
    "id": "EO9vynpbvTUg"
   },
   "source": [
    "Here I'm experimenting with 128 , 64 and 32 hidden layers"
   ]
  },
  {
   "cell_type": "code",
   "execution_count": null,
   "metadata": {
    "id": "HoWpidIIvLUD"
   },
   "outputs": [],
   "source": [
    "class auto_encoder_2(nn.Module) :\n",
    "\n",
    "  def __init__(self) :\n",
    "    super(auto_encoder_2, self).__init__()\n",
    "\n",
    "    self.enc1 = nn.Linear(in_features = 784 , out_features = 512)\n",
    "    self.enc2 = nn.Linear(in_features = 512, out_features= 256)\n",
    "    self.enc3 = nn.Linear(in_features = 256,out_features = 128)\n",
    "    #self.enc4 = nn.Linear(in_features = 128,out_features = 64)\n",
    "    #self.enc5 = nn.Linear(in_features = 64, out_features = 32)\n",
    "\n",
    "    #self.dec0  = nn.Linear(in_features = 32, out_features = 64)\n",
    "    #self.dec1 = nn.Linear(in_features = 64, out_features = 128)\n",
    "    self.dec2 = nn.Linear(in_features = 128 , out_features = 256)\n",
    "    self.dec3 = nn.Linear(in_features = 256,out_features = 512)\n",
    "    self.dec4 = nn.Linear(in_features = 512, out_features = 784)\n",
    "  \n",
    "  def forward(self,x) :\n",
    "\n",
    "    x = F.relu(self.enc1(x))\n",
    "    x = F.relu(self.enc2(x))\n",
    "    x = F.relu(self.enc3(x))\n",
    "    #x = F.relu(self.enc4(x))\n",
    "    #x = F.relu(self.enc5(x))\n",
    "\n",
    "    #x = F.relu(self.dec0(x))\n",
    "    #x = F.relu(self.dec1(x))\n",
    "    x = F.relu(self.dec2(x))\n",
    "    x = F.relu(self.dec3(x))\n",
    "    x = F.relu(self.dec4(x))\n",
    "\n",
    "    return x\n"
   ]
  },
  {
   "cell_type": "code",
   "execution_count": null,
   "metadata": {
    "id": "k6QthTrFv1G3"
   },
   "outputs": [],
   "source": [
    "class auto_encoder_3(nn.Module) :\n",
    "\n",
    "  def __init__(self) :\n",
    "    super(auto_encoder_3, self).__init__()\n",
    "\n",
    "    self.enc1 = nn.Linear(in_features = 784 , out_features = 512)\n",
    "    self.enc2 = nn.Linear(in_features = 512, out_features= 256)\n",
    "    self.enc3 = nn.Linear(in_features = 256,out_features = 128)\n",
    "    self.enc4 = nn.Linear(in_features = 128,out_features = 64)\n",
    "    self.enc5 = nn.Linear(in_features = 64, out_features = 32)\n",
    "\n",
    "    self.dec0  = nn.Linear(in_features = 32, out_features = 64)\n",
    "    self.dec1 = nn.Linear(in_features = 64, out_features = 128)\n",
    "    self.dec2 = nn.Linear(in_features = 128 , out_features = 256)\n",
    "    self.dec3 = nn.Linear(in_features = 256,out_features = 512)\n",
    "    self.dec4 = nn.Linear(in_features = 512, out_features = 784)\n",
    "  \n",
    "  def forward(self,x) :\n",
    "\n",
    "    x = F.relu(self.enc1(x))\n",
    "    x = F.relu(self.enc2(x))\n",
    "    x = F.relu(self.enc3(x))\n",
    "    x = F.relu(self.enc4(x))\n",
    "    x = F.relu(self.enc5(x))\n",
    "\n",
    "    x = F.relu(self.dec0(x))\n",
    "    x = F.relu(self.dec1(x))\n",
    "    x = F.relu(self.dec2(x))\n",
    "    x = F.relu(self.dec3(x))\n",
    "    x = F.relu(self.dec4(x))\n",
    "\n",
    "    return x\n"
   ]
  },
  {
   "cell_type": "code",
   "execution_count": null,
   "metadata": {
    "id": "TFvcZZjOQcZm"
   },
   "outputs": [],
   "source": [
    "model21 = auto_encoder_2().to(\"cuda\")\n",
    "\n",
    "criterion = nn.MSELoss()\n",
    "optimizer = optim.RMSprop(model21.parameters(),lr = 0.001)"
   ]
  },
  {
   "cell_type": "code",
   "execution_count": null,
   "metadata": {
    "colab": {
     "base_uri": "https://localhost:8080/"
    },
    "id": "Iuz4MngLQ_zy",
    "outputId": "fa62266a-90e3-453e-ac3b-6094198887c9"
   },
   "outputs": [
    {
     "name": "stdout",
     "output_type": "stream",
     "text": [
      "Epoch  0 407.7051256299019\n",
      "Epoch  1 407.5408955812454\n",
      "Epoch  2 407.4320076704025\n",
      "Epoch  3 407.35128051042557\n",
      "Epoch  4 407.24021220207214\n",
      "Epoch  5 407.10639667510986\n",
      "Epoch  6 406.91533809900284\n",
      "Epoch  7 406.79366904497147\n",
      "Epoch  8 406.60421949625015\n",
      "Epoch  9 406.52894055843353\n",
      "Epoch  10 406.45897978544235\n",
      "Epoch  11 406.4038916826248\n",
      "Epoch  12 406.3644369840622\n",
      "Epoch  13 406.3030784726143\n",
      "Epoch  14 406.1123883128166\n",
      "Epoch  15 405.9897230267525\n",
      "Epoch  16 405.9489847421646\n",
      "Epoch  17 405.9072692990303\n",
      "Epoch  18 405.8704621195793\n",
      "Epoch  19 405.8226282596588\n"
     ]
    }
   ],
   "source": [
    "for epoch in range(20):\n",
    "  running_loss = 0.0\n",
    "  for data in train_data_set_loader:\n",
    "    img, _ = data\n",
    "    img = img.to(device)\n",
    "    img = img.view(img.size(0), -1)\n",
    "    optimizer.zero_grad()\n",
    "    outputs = model21(img)\n",
    "    loss = criterion(outputs, img)\n",
    "    loss.backward()\n",
    "    optimizer.step()\n",
    "    running_loss += loss.item()\n",
    "\n",
    "    \n",
    "    #train_loss.append(loss)\n",
    "    #print('Epoch {} of {}, Train Loss: {:.3f}'.format(\n",
    "  \n",
    "  print(\"Epoch \",epoch,running_loss)"
   ]
  },
  {
   "cell_type": "code",
   "execution_count": null,
   "metadata": {
    "colab": {
     "base_uri": "https://localhost:8080/",
     "height": 513
    },
    "id": "Dhx9w42tRNb9",
    "outputId": "fcce75db-4bc4-4a50-edbf-f951afe8b1b0"
   },
   "outputs": [
    {
     "data": {
      "image/png": "[encoded data removed]",
      "text/plain": [
       "<Figure size 432x288 with 1 Axes>"
      ]
     },
     "metadata": {
      "tags": []
     },
     "output_type": "display_data"
    },
    {
     "data": {
      "image/png": "[encoded data removed]",
      "text/plain": [
       "<Figure size 432x288 with 1 Axes>"
      ]
     },
     "metadata": {
      "tags": []
     },
     "output_type": "display_data"
    }
   ],
   "source": [
    "for batch in test_data_set_loader :\n",
    "\n",
    "  img,_ = batch\n",
    "  img = img.to(device)\n",
    "  img = img.view(img.size(0),-1)\n",
    "  outputs = model21(img)\n",
    "  view_image(outputs)\n",
    "  view_image(img)\n",
    "  break\n"
   ]
  },
  {
   "cell_type": "code",
   "execution_count": null,
   "metadata": {
    "colab": {
     "base_uri": "https://localhost:8080/"
    },
    "id": "hRDjiXx2SoSH",
    "outputId": "ea2e04a7-d0aa-4c53-9f1f-36bcf066fa41"
   },
   "outputs": [
    {
     "name": "stdout",
     "output_type": "stream",
     "text": [
      "Testing Loss for RMS prop having 128 neurons as bottle neck layer  405.63596642017365\n"
     ]
    }
   ],
   "source": [
    "running_loss = 0\n",
    "for data in test_data_set_loader :\n",
    "  img, _ = data\n",
    "  img = img.to(device)\n",
    "  img = img.view(img.size(0),-1)\n",
    "  outputs = model21(img)\n",
    "  loss = criterion(outputs,img)\n",
    "  running_loss = running_loss + loss.item()\n",
    "\n",
    "print(\"Testing Loss for RMS prop having 128 neurons as bottle neck layer \",running_loss)"
   ]
  },
  {
   "cell_type": "code",
   "execution_count": null,
   "metadata": {
    "id": "PCb_DmT3CDJl"
   },
   "outputs": [],
   "source": [
    "# i have observed that the above model has the best accuracy and lower testing loss and retains the image pretty well . \n",
    "# so saving the model \n",
    "torch.save(model21,'best-autoencoder.pt')"
   ]
  },
  {
   "cell_type": "code",
   "execution_count": null,
   "metadata": {
    "colab": {
     "background_save": true
    },
    "id": "H00brAzSTYKV"
   },
   "outputs": [],
   "source": [
    "model22 = auto_encoder_3().to(\"cuda\")\n",
    "\n",
    "criterion = nn.MSELoss()\n",
    "optimizer = optim.RMSprop(model22.parameters(),lr = 0.001)"
   ]
  },
  {
   "cell_type": "code",
   "execution_count": null,
   "metadata": {
    "colab": {
     "base_uri": "https://localhost:8080/"
    },
    "id": "aS-cUHbxTj4J",
    "outputId": "db5014ce-6ea2-46d6-acf7-92a6d81abb61"
   },
   "outputs": [
    {
     "name": "stdout",
     "output_type": "stream",
     "text": [
      "Epoch  0 432.9527468085289\n",
      "Epoch  1 431.11652314662933\n",
      "Epoch  2 427.5318866968155\n",
      "Epoch  3 423.0249465703964\n",
      "Epoch  4 420.1339740753174\n",
      "Epoch  5 418.05766463279724\n",
      "Epoch  6 416.6640092730522\n",
      "Epoch  7 415.37680876255035\n",
      "Epoch  8 414.3075094819069\n",
      "Epoch  9 413.2808686494827\n",
      "Epoch  10 412.59713476896286\n",
      "Epoch  11 412.1298528909683\n",
      "Epoch  12 411.78679317235947\n",
      "Epoch  13 411.32381969690323\n",
      "Epoch  14 411.00368988513947\n",
      "Epoch  15 410.668397128582\n",
      "Epoch  16 410.46243208646774\n",
      "Epoch  17 410.25806671380997\n",
      "Epoch  18 410.0886157155037\n",
      "Epoch  19 409.965901017189\n"
     ]
    }
   ],
   "source": [
    "for epoch in range(20):\n",
    "  running_loss = 0.0\n",
    "  for data in train_data_set_loader:\n",
    "    img, _ = data\n",
    "    img = img.to(device)\n",
    "    img = img.view(img.size(0), -1)\n",
    "    optimizer.zero_grad()\n",
    "    outputs = model22(img)\n",
    "    loss = criterion(outputs, img)\n",
    "    loss.backward()\n",
    "    optimizer.step()\n",
    "    running_loss += loss.item()\n",
    "\n",
    "    \n",
    "    #train_loss.append(loss)\n",
    "    #print('Epoch {} of {}, Train Loss: {:.3f}'.format(\n",
    "  \n",
    "  print(\"Epoch \",epoch,running_loss)"
   ]
  },
  {
   "cell_type": "code",
   "execution_count": null,
   "metadata": {
    "colab": {
     "base_uri": "https://localhost:8080/",
     "height": 513
    },
    "id": "9eX0STTiUmue",
    "outputId": "53408a6f-5a33-4326-9347-16b3ae28a45c"
   },
   "outputs": [
    {
     "data": {
      "image/png": "[encoded data removed]",
      "text/plain": [
       "<Figure size 432x288 with 1 Axes>"
      ]
     },
     "metadata": {
      "tags": []
     },
     "output_type": "display_data"
    },
    {
     "data": {
      "image/png": "[encoded data removed]",
      "text/plain": [
       "<Figure size 432x288 with 1 Axes>"
      ]
     },
     "metadata": {
      "tags": []
     },
     "output_type": "display_data"
    }
   ],
   "source": [
    "for batch in test_data_set_loader :\n",
    "\n",
    "  img,_ = batch\n",
    "  img = img.to(device)\n",
    "  img = img.view(img.size(0),-1)\n",
    "  outputs = model22(img)\n",
    "  view_image(outputs)\n",
    "  view_image(img)\n",
    "  break"
   ]
  },
  {
   "cell_type": "code",
   "execution_count": null,
   "metadata": {
    "colab": {
     "base_uri": "https://localhost:8080/"
    },
    "id": "npcxKw1CUthN",
    "outputId": "f6d08bdf-ccc9-45a7-b59f-c2a791f021cf"
   },
   "outputs": [
    {
     "name": "stdout",
     "output_type": "stream",
     "text": [
      "Testing Loss for RMS prop having 32 neurons as bottle neck layer  409.6453216075897\n"
     ]
    }
   ],
   "source": [
    "running_loss = 0\n",
    "for data in test_data_set_loader :\n",
    "  img, _ = data\n",
    "  img = img.to(device)\n",
    "  img = img.view(img.size(0),-1)\n",
    "  outputs = model22(img)\n",
    "  loss = criterion(outputs,img)\n",
    "  running_loss = running_loss + loss.item()\n",
    "\n",
    "print(\"Testing Loss for RMS prop having 32 neurons as bottle neck layer \",running_loss)"
   ]
  },
  {
   "cell_type": "code",
   "execution_count": null,
   "metadata": {
    "id": "hytf6bVgU605"
   },
   "outputs": [],
   "source": [
    "from tabulate import tabulate"
   ]
  },
  {
   "cell_type": "code",
   "execution_count": null,
   "metadata": {
    "colab": {
     "base_uri": "https://localhost:8080/"
    },
    "id": "-bCjLafGVUwB",
    "outputId": "368d61fd-49f0-4ff1-a52e-e0cb88d800d8"
   },
   "outputs": [
    {
     "name": "stdout",
     "output_type": "stream",
     "text": [
      "|   Bottle Neck Size |   Testing Reconstruction Loss (RMS prop) |\n",
      "|--------------------+------------------------------------------|\n",
      "|                 32 |                                  409.645 |\n",
      "|                 64 |                                  433.697 |\n",
      "|                128 |                                  405.635 |\n"
     ]
    }
   ],
   "source": [
    "print(tabulate([['32','409.645'],['64','433.697'],['128','405.635']], headers=['Bottle Neck Size','Testing Reconstruction Loss (RMS prop)'], tablefmt='orgtbl'))"
   ]
  },
  {
   "cell_type": "code",
   "execution_count": null,
   "metadata": {
    "id": "doE32JuZW9Tq"
   },
   "outputs": [],
   "source": [
    "model31 = auto_encoder_2().to(\"cuda\")\n",
    "\n",
    "criterion = nn.MSELoss()\n",
    "optimizer = optim.SGD(model31.parameters(),lr = 0.001)"
   ]
  },
  {
   "cell_type": "code",
   "execution_count": null,
   "metadata": {
    "colab": {
     "base_uri": "https://localhost:8080/"
    },
    "id": "TuqmAui1XsFN",
    "outputId": "55a372e8-4302-4fd1-a4ab-2c0616d81785"
   },
   "outputs": [
    {
     "name": "stdout",
     "output_type": "stream",
     "text": [
      "Epoch  0 442.9731856584549\n",
      "Epoch  1 442.2748391032219\n",
      "Epoch  2 441.60988450050354\n",
      "Epoch  3 440.9786775112152\n",
      "Epoch  4 440.3838058710098\n",
      "Epoch  5 439.8249109983444\n",
      "Epoch  6 439.30412179231644\n",
      "Epoch  7 438.823588013649\n",
      "Epoch  8 438.38288456201553\n",
      "Epoch  9 437.98088532686234\n",
      "Epoch  10 437.6144286394119\n",
      "Epoch  11 437.27977311611176\n",
      "Epoch  12 436.9733861684799\n",
      "Epoch  13 436.69159030914307\n",
      "Epoch  14 436.4342991113663\n",
      "Epoch  15 436.1987469792366\n",
      "Epoch  16 435.98380798101425\n",
      "Epoch  17 435.78567534685135\n",
      "Epoch  18 435.6008388400078\n",
      "Epoch  19 435.4339487552643\n"
     ]
    }
   ],
   "source": [
    "for epoch in range(20):\n",
    "  running_loss = 0.0\n",
    "  for data in train_data_set_loader:\n",
    "    img, _ = data\n",
    "    img = img.to(device)\n",
    "    img = img.view(img.size(0), -1)\n",
    "    optimizer.zero_grad()\n",
    "    outputs = model31(img)\n",
    "    loss = criterion(outputs, img)\n",
    "    loss.backward()\n",
    "    optimizer.step()\n",
    "    running_loss += loss.item()\n",
    "\n",
    "    \n",
    "    #train_loss.append(loss)\n",
    "    #print('Epoch {} of {}, Train Loss: {:.3f}'.format(\n",
    "  \n",
    "  print(\"Epoch \",epoch,running_loss)"
   ]
  },
  {
   "cell_type": "code",
   "execution_count": null,
   "metadata": {
    "colab": {
     "base_uri": "https://localhost:8080/",
     "height": 513
    },
    "id": "lASBxhdrYrgE",
    "outputId": "f23afe07-98da-49f0-90ea-3d4a30131d46"
   },
   "outputs": [
    {
     "data": {
      "image/png": "[encoded data removed]",
      "text/plain": [
       "<Figure size 432x288 with 1 Axes>"
      ]
     },
     "metadata": {
      "tags": []
     },
     "output_type": "display_data"
    },
    {
     "data": {
      "image/png": "[encoded data removed]",
      "text/plain": [
       "<Figure size 432x288 with 1 Axes>"
      ]
     },
     "metadata": {
      "tags": []
     },
     "output_type": "display_data"
    }
   ],
   "source": [
    "for batch in test_data_set_loader :\n",
    "\n",
    "  img,_ = batch\n",
    "  img = img.to(device)\n",
    "  img = img.view(img.size(0),-1)\n",
    "  outputs = model31(img)\n",
    "  view_image(outputs)\n",
    "  view_image(img)\n",
    "  break"
   ]
  },
  {
   "cell_type": "code",
   "execution_count": null,
   "metadata": {
    "colab": {
     "base_uri": "https://localhost:8080/"
    },
    "id": "xW_eZrEgYzPM",
    "outputId": "6905c240-1007-4aa3-edd1-3d87b8d46891"
   },
   "outputs": [
    {
     "name": "stdout",
     "output_type": "stream",
     "text": [
      "Testing Loss for SGD without momentum having 128 neurons as bottle neck layer  435.35438990592957\n"
     ]
    }
   ],
   "source": [
    "running_loss = 0\n",
    "for data in test_data_set_loader :\n",
    "  img, _ = data\n",
    "  img = img.to(device)\n",
    "  img = img.view(img.size(0),-1)\n",
    "  outputs = model31(img)\n",
    "  loss = criterion(outputs,img)\n",
    "  running_loss = running_loss + loss.item()\n",
    "\n",
    "print(\"Testing Loss for SGD without momentum having 128 neurons as bottle neck layer \",running_loss)"
   ]
  },
  {
   "cell_type": "code",
   "execution_count": null,
   "metadata": {
    "id": "e-h_XiFkZDaL"
   },
   "outputs": [],
   "source": [
    "model32 = auto_encoder_3().to(\"cuda\")\n",
    "\n",
    "criterion = nn.MSELoss()\n",
    "optimizer = optim.SGD(model32.parameters(),lr = 0.001)"
   ]
  },
  {
   "cell_type": "code",
   "execution_count": null,
   "metadata": {
    "colab": {
     "base_uri": "https://localhost:8080/"
    },
    "id": "DpK8DcO_ZOld",
    "outputId": "f76c1f89-a244-4d12-f7f3-952fac91eac0"
   },
   "outputs": [
    {
     "name": "stdout",
     "output_type": "stream",
     "text": [
      "Epoch  0 441.50763458013535\n",
      "Epoch  1 440.92384099960327\n",
      "Epoch  2 440.37250578403473\n",
      "Epoch  3 439.8474484682083\n",
      "Epoch  4 439.34980565309525\n",
      "Epoch  5 438.8846764564514\n",
      "Epoch  6 438.45336443185806\n",
      "Epoch  7 438.04932552576065\n",
      "Epoch  8 437.66925370693207\n",
      "Epoch  9 437.3240941762924\n",
      "Epoch  10 437.00610089302063\n",
      "Epoch  11 436.7091974020004\n",
      "Epoch  12 436.4366679787636\n",
      "Epoch  13 436.18565368652344\n",
      "Epoch  14 435.9550818800926\n",
      "Epoch  15 435.7491455078125\n",
      "Epoch  16 435.56506901979446\n",
      "Epoch  17 435.3956337571144\n",
      "Epoch  18 435.2375949025154\n",
      "Epoch  19 435.09386640787125\n"
     ]
    }
   ],
   "source": [
    "for epoch in range(20):\n",
    "  running_loss = 0.0\n",
    "  for data in train_data_set_loader:\n",
    "    img, _ = data\n",
    "    img = img.to(device)\n",
    "    img = img.view(img.size(0), -1)\n",
    "    optimizer.zero_grad()\n",
    "    outputs = model32(img)\n",
    "    loss = criterion(outputs, img)\n",
    "    loss.backward()\n",
    "    optimizer.step()\n",
    "    running_loss += loss.item()\n",
    "\n",
    "    \n",
    "    #train_loss.append(loss)\n",
    "    #print('Epoch {} of {}, Train Loss: {:.3f}'.format(\n",
    "  \n",
    "  print(\"Epoch \",epoch,running_loss)"
   ]
  },
  {
   "cell_type": "code",
   "execution_count": null,
   "metadata": {
    "colab": {
     "base_uri": "https://localhost:8080/"
    },
    "id": "e-cnuytzaK1A",
    "outputId": "7afacad1-a0b6-43c4-f30d-8ad6d6f566d7"
   },
   "outputs": [
    {
     "name": "stdout",
     "output_type": "stream",
     "text": [
      "Testing Loss for SGD without momentum having 32 neurons as bottle neck layer  435.02679485082626\n"
     ]
    }
   ],
   "source": [
    "running_loss = 0\n",
    "for data in test_data_set_loader :\n",
    "  img, _ = data\n",
    "  img = img.to(device)\n",
    "  img = img.view(img.size(0),-1)\n",
    "  outputs = model32(img)\n",
    "  loss = criterion(outputs,img)\n",
    "  running_loss = running_loss + loss.item()\n",
    "\n",
    "print(\"Testing Loss for SGD without momentum having 32 neurons as bottle neck layer \",running_loss)"
   ]
  },
  {
   "cell_type": "code",
   "execution_count": null,
   "metadata": {
    "colab": {
     "base_uri": "https://localhost:8080/"
    },
    "id": "TEHhHK3AaT6s",
    "outputId": "a50a66d6-fc3a-42ce-cc03-c8e35a319ccf"
   },
   "outputs": [
    {
     "name": "stdout",
     "output_type": "stream",
     "text": [
      "|   Bottle Neck Size |   Testing Reconstruction Loss(SGD without momentum) |\n",
      "|--------------------+-----------------------------------------------------|\n",
      "|                 32 |                                             435.026 |\n",
      "|                 64 |                                             434.197 |\n",
      "|                128 |                                             435.355 |\n"
     ]
    }
   ],
   "source": [
    "print(tabulate([['32','435.026'],['64','434.197'],['128','435.355']], headers=['Bottle Neck Size','Testing Reconstruction Loss(SGD without momentum)'], tablefmt='orgtbl'))"
   ]
  },
  {
   "cell_type": "code",
   "execution_count": null,
   "metadata": {
    "id": "tnf1QYJ-bE5H"
   },
   "outputs": [],
   "source": [
    "model41 = auto_encoder_2().to(\"cuda\")\n",
    "\n",
    "criterion = nn.MSELoss()\n",
    "optimizer = optim.SGD(model41.parameters(),lr = 0.001,momentum = 0.9)"
   ]
  },
  {
   "cell_type": "code",
   "execution_count": null,
   "metadata": {
    "colab": {
     "base_uri": "https://localhost:8080/"
    },
    "id": "xGBbF9Ppcrpb",
    "outputId": "92360828-5dee-40ee-cfac-ad8cc2557813"
   },
   "outputs": [
    {
     "name": "stdout",
     "output_type": "stream",
     "text": [
      "Epoch  0 440.51528853178024\n",
      "Epoch  1 436.668938934803\n",
      "Epoch  2 434.9419661164284\n",
      "Epoch  3 434.33368796110153\n",
      "Epoch  4 434.1751364469528\n",
      "Epoch  5 434.11075031757355\n",
      "Epoch  6 434.0721253156662\n",
      "Epoch  7 434.04618149995804\n",
      "Epoch  8 434.0301843881607\n",
      "Epoch  9 434.020000398159\n",
      "Epoch  10 434.0100390315056\n",
      "Epoch  11 434.00538140535355\n",
      "Epoch  12 434.0005087852478\n",
      "Epoch  13 433.9971252679825\n",
      "Epoch  14 433.99625140428543\n",
      "Epoch  15 433.9937441945076\n",
      "Epoch  16 433.9922456741333\n",
      "Epoch  17 433.9904845356941\n",
      "Epoch  18 433.98972326517105\n",
      "Epoch  19 433.98767828941345\n"
     ]
    }
   ],
   "source": [
    "for epoch in range(20):\n",
    "  running_loss = 0.0\n",
    "  for data in train_data_set_loader:\n",
    "    img, _ = data\n",
    "    img = img.to(device)\n",
    "    img = img.view(img.size(0), -1)\n",
    "    optimizer.zero_grad()\n",
    "    outputs = model41(img)\n",
    "    loss = criterion(outputs, img)\n",
    "    loss.backward()\n",
    "    optimizer.step()\n",
    "    running_loss += loss.item()\n",
    "\n",
    "    \n",
    "    #train_loss.append(loss)\n",
    "    #print('Epoch {} of {}, Train Loss: {:.3f}'.format(\n",
    "  \n",
    "  print(\"Epoch \",epoch,running_loss)"
   ]
  },
  {
   "cell_type": "code",
   "execution_count": null,
   "metadata": {
    "colab": {
     "base_uri": "https://localhost:8080/",
     "height": 513
    },
    "id": "r8EJQLFddkYs",
    "outputId": "4421407a-fd00-4afa-b483-cd4f81e661b2"
   },
   "outputs": [
    {
     "data": {
      "image/png": "[encoded data removed]",
      "text/plain": [
       "<Figure size 432x288 with 1 Axes>"
      ]
     },
     "metadata": {
      "tags": []
     },
     "output_type": "display_data"
    },
    {
     "data": {
      "image/png": "[encoded data removed]",
      "text/plain": [
       "<Figure size 432x288 with 1 Axes>"
      ]
     },
     "metadata": {
      "tags": []
     },
     "output_type": "display_data"
    }
   ],
   "source": [
    "for batch in test_data_set_loader :\n",
    "\n",
    "  img,_ = batch\n",
    "  img = img.to(device)\n",
    "  img = img.view(img.size(0),-1)\n",
    "  outputs = model41(img)\n",
    "  view_image(outputs)\n",
    "  view_image(img)\n",
    "  break"
   ]
  },
  {
   "cell_type": "code",
   "execution_count": null,
   "metadata": {
    "colab": {
     "base_uri": "https://localhost:8080/"
    },
    "id": "Riulms1heY-S",
    "outputId": "87f5e332-b9b7-4ace-aad8-390b2ab4b16e"
   },
   "outputs": [
    {
     "name": "stdout",
     "output_type": "stream",
     "text": [
      "Testing Loss for SGD with momentum having 128 neurons as bottle neck layer  433.9865019917488\n"
     ]
    }
   ],
   "source": [
    "running_loss = 0\n",
    "for data in test_data_set_loader :\n",
    "  img, _ = data\n",
    "  img = img.to(device)\n",
    "  img = img.view(img.size(0),-1)\n",
    "  outputs = model41(img)\n",
    "  loss = criterion(outputs,img)\n",
    "  running_loss = running_loss + loss.item()\n",
    "\n",
    "print(\"Testing Loss for SGD with momentum having 128 neurons as bottle neck layer \",running_loss)"
   ]
  },
  {
   "cell_type": "code",
   "execution_count": null,
   "metadata": {
    "id": "VNP69ceafY4H"
   },
   "outputs": [],
   "source": [
    "model42 = auto_encoder_3().to(\"cuda\")\n",
    "\n",
    "criterion = nn.MSELoss()\n",
    "optimizer = optim.SGD(model42.parameters(),lr = 0.001,momentum = 0.9)"
   ]
  },
  {
   "cell_type": "code",
   "execution_count": null,
   "metadata": {
    "colab": {
     "base_uri": "https://localhost:8080/"
    },
    "id": "oCB9zAxwfjGb",
    "outputId": "3fed0e8c-8ea7-4fd6-a653-a3c7e917fe8d"
   },
   "outputs": [
    {
     "name": "stdout",
     "output_type": "stream",
     "text": [
      "Epoch  0 439.9401908516884\n",
      "Epoch  1 436.2228890657425\n",
      "Epoch  2 434.7361778616905\n",
      "Epoch  3 434.2775526046753\n",
      "Epoch  4 434.15725058317184\n",
      "Epoch  5 434.1085497736931\n",
      "Epoch  6 434.07714837789536\n",
      "Epoch  7 434.05299228429794\n",
      "Epoch  8 434.03902500867844\n",
      "Epoch  9 434.02842247486115\n",
      "Epoch  10 434.0198102593422\n",
      "Epoch  11 434.0122279524803\n",
      "Epoch  12 434.0056605935097\n",
      "Epoch  13 433.99975872039795\n",
      "Epoch  14 433.99586284160614\n",
      "Epoch  15 433.99191784858704\n",
      "Epoch  16 433.98939406871796\n",
      "Epoch  17 433.98731929063797\n",
      "Epoch  18 433.98627972602844\n",
      "Epoch  19 433.9862340092659\n"
     ]
    }
   ],
   "source": [
    "for epoch in range(20):\n",
    "  running_loss = 0.0\n",
    "  for data in train_data_set_loader:\n",
    "    img, _ = data\n",
    "    img = img.to(device)\n",
    "    img = img.view(img.size(0), -1)\n",
    "    optimizer.zero_grad()\n",
    "    outputs = model42(img)\n",
    "    loss = criterion(outputs, img)\n",
    "    loss.backward()\n",
    "    optimizer.step()\n",
    "    running_loss += loss.item()\n",
    "\n",
    "    \n",
    "    #train_loss.append(loss)\n",
    "    #print('Epoch {} of {}, Train Loss: {:.3f}'.format(\n",
    "  \n",
    "  print(\"Epoch \",epoch,running_loss)"
   ]
  },
  {
   "cell_type": "code",
   "execution_count": null,
   "metadata": {
    "colab": {
     "base_uri": "https://localhost:8080/",
     "height": 513
    },
    "id": "7dBdF6HDgbAs",
    "outputId": "fc11f7ac-0e0e-4f9e-96e9-5e18a5843e96"
   },
   "outputs": [
    {
     "data": {
      "image/png": "[encoded data removed]",
      "text/plain": [
       "<Figure size 432x288 with 1 Axes>"
      ]
     },
     "metadata": {
      "tags": []
     },
     "output_type": "display_data"
    },
    {
     "data": {
      "image/png": "[encoded data removed]",
      "text/plain": [
       "<Figure size 432x288 with 1 Axes>"
      ]
     },
     "metadata": {
      "tags": []
     },
     "output_type": "display_data"
    }
   ],
   "source": [
    "for batch in test_data_set_loader :\n",
    "\n",
    "  img,_ = batch\n",
    "  img = img.to(device)\n",
    "  img = img.view(img.size(0),-1)\n",
    "  outputs = model42(img)\n",
    "  view_image(outputs)\n",
    "  view_image(img)\n",
    "  break"
   ]
  },
  {
   "cell_type": "code",
   "execution_count": null,
   "metadata": {
    "colab": {
     "base_uri": "https://localhost:8080/"
    },
    "id": "Y__KWHWagvCv",
    "outputId": "2f632a64-990c-4af8-8cf1-53e677349efb"
   },
   "outputs": [
    {
     "name": "stdout",
     "output_type": "stream",
     "text": [
      "Testing Loss for SGD with momentum having 32 neurons as bottle neck layer  433.98521876335144\n"
     ]
    }
   ],
   "source": [
    "running_loss = 0\n",
    "for data in test_data_set_loader :\n",
    "  img, _ = data\n",
    "  img = img.to(device)\n",
    "  img = img.view(img.size(0),-1)\n",
    "  outputs = model42(img)\n",
    "  loss = criterion(outputs,img)\n",
    "  running_loss = running_loss + loss.item()\n",
    "\n",
    "print(\"Testing Loss for SGD with momentum having 32 neurons as bottle neck layer \",running_loss)"
   ]
  },
  {
   "cell_type": "code",
   "execution_count": null,
   "metadata": {
    "colab": {
     "base_uri": "https://localhost:8080/"
    },
    "id": "Bg5IWW66hWrM",
    "outputId": "bd334f8d-6090-406b-8780-f3eb76053d5c"
   },
   "outputs": [
    {
     "name": "stdout",
     "output_type": "stream",
     "text": [
      "|   Bottle Neck Size |   Testing Reconstruction Loss(SGD with momentum) |\n",
      "|--------------------+--------------------------------------------------|\n",
      "|                 32 |                                          433.985 |\n",
      "|                 64 |                                          433.996 |\n",
      "|                128 |                                          433.986 |\n"
     ]
    }
   ],
   "source": [
    "print(tabulate([['32','433.985'],['64','433.996'],['128','433.986']], headers=['Bottle Neck Size','Testing Reconstruction Loss(SGD with momentum)'], tablefmt='orgtbl'))"
   ]
  },
  {
   "cell_type": "code",
   "execution_count": null,
   "metadata": {
    "id": "YAPZmcnyhr7I"
   },
   "outputs": [],
   "source": [
    "model51 = auto_encoder_2().to(\"cuda\")\n",
    "\n",
    "criterion = nn.MSELoss()\n",
    "optimizer = optim.Adam(model51.parameters(),lr = 0.001)"
   ]
  },
  {
   "cell_type": "code",
   "execution_count": null,
   "metadata": {
    "colab": {
     "base_uri": "https://localhost:8080/"
    },
    "id": "bHTq2A9DiNR7",
    "outputId": "973f33a6-ae4e-4e21-ddcc-481943b23788"
   },
   "outputs": [
    {
     "name": "stdout",
     "output_type": "stream",
     "text": [
      "Epoch  0 430.1766105890274\n",
      "Epoch  1 425.9217800498009\n",
      "Epoch  2 424.37652909755707\n",
      "Epoch  3 423.2488585114479\n",
      "Epoch  4 422.3729073405266\n",
      "Epoch  5 421.7910711169243\n",
      "Epoch  6 421.20717638731\n",
      "Epoch  7 420.74159938097\n",
      "Epoch  8 420.6173644065857\n",
      "Epoch  9 420.5287566781044\n",
      "Epoch  10 420.438500225544\n",
      "Epoch  11 420.2859081029892\n",
      "Epoch  12 420.2408555150032\n",
      "Epoch  13 420.18399184942245\n",
      "Epoch  14 420.1507423520088\n",
      "Epoch  15 419.97000873088837\n",
      "Epoch  16 419.9074283838272\n",
      "Epoch  17 419.8606627583504\n",
      "Epoch  18 419.83536130189896\n",
      "Epoch  19 419.80563819408417\n"
     ]
    }
   ],
   "source": [
    "for epoch in range(20):\n",
    "  running_loss = 0.0\n",
    "  for data in train_data_set_loader:\n",
    "    img, _ = data\n",
    "    img = img.to(device)\n",
    "    img = img.view(img.size(0), -1)\n",
    "    optimizer.zero_grad()\n",
    "    outputs = model51(img)\n",
    "    loss = criterion(outputs, img)\n",
    "    loss.backward()\n",
    "    optimizer.step()\n",
    "    running_loss += loss.item()\n",
    "\n",
    "    \n",
    "    #train_loss.append(loss)\n",
    "    #print('Epoch {} of {}, Train Loss: {:.3f}'.format(\n",
    "  \n",
    "  print(\"Epoch \",epoch,running_loss)"
   ]
  },
  {
   "cell_type": "code",
   "execution_count": null,
   "metadata": {
    "colab": {
     "base_uri": "https://localhost:8080/",
     "height": 513
    },
    "id": "UgUAi_sdjG05",
    "outputId": "3e85093c-3f5c-4118-9604-92af65ef4427"
   },
   "outputs": [
    {
     "data": {
      "image/png": "[encoded data removed]",
      "text/plain": [
       "<Figure size 432x288 with 1 Axes>"
      ]
     },
     "metadata": {
      "tags": []
     },
     "output_type": "display_data"
    },
    {
     "data": {
      "image/png": "[encoded data removed]",
      "text/plain": [
       "<Figure size 432x288 with 1 Axes>"
      ]
     },
     "metadata": {
      "tags": []
     },
     "output_type": "display_data"
    }
   ],
   "source": [
    "for batch in test_data_set_loader :\n",
    "\n",
    "  img,_ = batch\n",
    "  img = img.to(device)\n",
    "  img = img.view(img.size(0),-1)\n",
    "  outputs = model51(img)\n",
    "  view_image(outputs)\n",
    "  view_image(img)\n",
    "  break"
   ]
  },
  {
   "cell_type": "code",
   "execution_count": null,
   "metadata": {
    "colab": {
     "base_uri": "https://localhost:8080/"
    },
    "id": "yjpXLT69kNwV",
    "outputId": "8b081c67-2fce-4f46-9080-053360367f96"
   },
   "outputs": [
    {
     "name": "stdout",
     "output_type": "stream",
     "text": [
      "Testing Loss for Adam having 128 neurons as bottle neck layer  419.8095703125\n"
     ]
    }
   ],
   "source": [
    "running_loss = 0\n",
    "for data in test_data_set_loader :\n",
    "  img, _ = data\n",
    "  img = img.to(device)\n",
    "  img = img.view(img.size(0),-1)\n",
    "  outputs = model51(img)\n",
    "  loss = criterion(outputs,img)\n",
    "  running_loss = running_loss + loss.item()\n",
    "\n",
    "print(\"Testing Loss for Adam having 128 neurons as bottle neck layer \",running_loss)"
   ]
  },
  {
   "cell_type": "code",
   "execution_count": null,
   "metadata": {
    "id": "IE0yn3yNkZUN"
   },
   "outputs": [],
   "source": [
    "model52 = auto_encoder_3().to(\"cuda\")\n",
    "\n",
    "criterion = nn.MSELoss()\n",
    "optimizer = optim.Adam(model52.parameters(),lr = 0.001)"
   ]
  },
  {
   "cell_type": "code",
   "execution_count": null,
   "metadata": {
    "colab": {
     "base_uri": "https://localhost:8080/"
    },
    "id": "hiZ3HeS2kjc5",
    "outputId": "55a374ab-bd2b-479d-905f-7f44ece02fc5"
   },
   "outputs": [
    {
     "name": "stdout",
     "output_type": "stream",
     "text": [
      "Epoch  0 432.7828619480133\n",
      "Epoch  1 429.3236634731293\n",
      "Epoch  2 426.27739548683167\n",
      "Epoch  3 423.52007937431335\n",
      "Epoch  4 421.65848410129547\n",
      "Epoch  5 420.76485389471054\n",
      "Epoch  6 419.98998391628265\n",
      "Epoch  7 419.59708189964294\n",
      "Epoch  8 419.2881474494934\n",
      "Epoch  9 418.9869920015335\n",
      "Epoch  10 418.8116589784622\n",
      "Epoch  11 418.5886886715889\n",
      "Epoch  12 418.334185898304\n",
      "Epoch  13 418.0789099931717\n",
      "Epoch  14 417.9249443411827\n",
      "Epoch  15 417.777890086174\n",
      "Epoch  16 417.63860470056534\n",
      "Epoch  17 417.5471992492676\n",
      "Epoch  18 417.4318156838417\n",
      "Epoch  19 417.34354335069656\n"
     ]
    }
   ],
   "source": [
    "for epoch in range(20):\n",
    "  running_loss = 0.0\n",
    "  for data in train_data_set_loader:\n",
    "    img, _ = data\n",
    "    img = img.to(device)\n",
    "    img = img.view(img.size(0), -1)\n",
    "    optimizer.zero_grad()\n",
    "    outputs = model52(img)\n",
    "    loss = criterion(outputs, img)\n",
    "    loss.backward()\n",
    "    optimizer.step()\n",
    "    running_loss += loss.item()\n",
    "\n",
    "    \n",
    "    #train_loss.append(loss)\n",
    "    #print('Epoch {} of {}, Train Loss: {:.3f}'.format(\n",
    "  \n",
    "  print(\"Epoch \",epoch,running_loss)"
   ]
  },
  {
   "cell_type": "code",
   "execution_count": null,
   "metadata": {
    "colab": {
     "base_uri": "https://localhost:8080/",
     "height": 513
    },
    "id": "2JdxRfQ4lcre",
    "outputId": "eef8865a-a7ed-43d9-d07a-e74793c020f3"
   },
   "outputs": [
    {
     "data": {
      "image/png": "[encoded data removed]",
      "text/plain": [
       "<Figure size 432x288 with 1 Axes>"
      ]
     },
     "metadata": {
      "tags": []
     },
     "output_type": "display_data"
    },
    {
     "data": {
      "image/png": "[encoded data removed]",
      "text/plain": [
       "<Figure size 432x288 with 1 Axes>"
      ]
     },
     "metadata": {
      "tags": []
     },
     "output_type": "display_data"
    }
   ],
   "source": [
    "for batch in test_data_set_loader :\n",
    "\n",
    "  img,_ = batch\n",
    "  img = img.to(device)\n",
    "  img = img.view(img.size(0),-1)\n",
    "  outputs = model52(img)\n",
    "  view_image(outputs)\n",
    "  view_image(img)\n",
    "  break"
   ]
  },
  {
   "cell_type": "code",
   "execution_count": null,
   "metadata": {
    "colab": {
     "base_uri": "https://localhost:8080/"
    },
    "id": "hTK4LhXzlovI",
    "outputId": "27c7bb6a-27d2-43f5-ffda-dbe6d5ab0856"
   },
   "outputs": [
    {
     "name": "stdout",
     "output_type": "stream",
     "text": [
      "Testing Loss for Adam having 32 neurons as bottle neck layer  417.26873421669006\n"
     ]
    }
   ],
   "source": [
    "running_loss = 0\n",
    "for data in test_data_set_loader :\n",
    "  img, _ = data\n",
    "  img = img.to(device)\n",
    "  img = img.view(img.size(0),-1)\n",
    "  outputs = model52(img)\n",
    "  loss = criterion(outputs,img)\n",
    "  running_loss = running_loss + loss.item()\n",
    "\n",
    "print(\"Testing Loss for Adam having 32 neurons as bottle neck layer \",running_loss)"
   ]
  },
  {
   "cell_type": "code",
   "execution_count": null,
   "metadata": {
    "colab": {
     "base_uri": "https://localhost:8080/"
    },
    "id": "xbiy0imemdrW",
    "outputId": "8da78644-0d2c-423c-a9d0-b20199c65ae6"
   },
   "outputs": [
    {
     "name": "stdout",
     "output_type": "stream",
     "text": [
      "|   Bottle Neck Size |   Testing Reconstruction Loss(Adam) |\n",
      "|--------------------+-------------------------------------|\n",
      "|                 32 |                             417.268 |\n",
      "|                 64 |                             414.784 |\n",
      "|                128 |                             419.809 |\n"
     ]
    }
   ],
   "source": [
    "print(tabulate([['32','417.268'],['64','414.784'],['128','419.809']], headers=['Bottle Neck Size','Testing Reconstruction Loss(Adam)'], tablefmt='orgtbl'))"
   ]
  },
  {
   "cell_type": "markdown",
   "metadata": {
    "id": "RZjJMj-tm1mc"
   },
   "source": [
    "PCA Reconstruction"
   ]
  },
  {
   "cell_type": "code",
   "execution_count": null,
   "metadata": {
    "id": "AUw9D4tzm58P"
   },
   "outputs": [],
   "source": [
    "from sklearn.decomposition import PCA"
   ]
  },
  {
   "cell_type": "code",
   "execution_count": null,
   "metadata": {
    "id": "G2ZL4GU48jEh"
   },
   "outputs": [],
   "source": [
    "import keras\n",
    "from keras.datasets import mnist\n",
    "import numpy as np"
   ]
  },
  {
   "cell_type": "code",
   "execution_count": null,
   "metadata": {
    "colab": {
     "base_uri": "https://localhost:8080/"
    },
    "id": "mgjKeCZ48vOT",
    "outputId": "c0b4cdb0-afdc-4029-f7f5-90a068bf5d7b"
   },
   "outputs": [
    {
     "name": "stdout",
     "output_type": "stream",
     "text": [
      "Downloading data from https://storage.googleapis.com/tensorflow/tf-keras-datasets/mnist.npz\n",
      "11493376/11490434 [==============================] - 0s 0us/step\n"
     ]
    }
   ],
   "source": [
    "(train_features,train_labels),(test_features,test_labels) = mnist.load_data()"
   ]
  },
  {
   "cell_type": "code",
   "execution_count": null,
   "metadata": {
    "id": "Hx8EG0J09rk7"
   },
   "outputs": [],
   "source": [
    "train_features = np.reshape(train_features,(60000,784))\n",
    "test_features = np.reshape(test_features,(10000,784))\n",
    "\n",
    "train_features = train_features/255\n",
    "test_features = test_features/255"
   ]
  },
  {
   "cell_type": "code",
   "execution_count": null,
   "metadata": {
    "id": "t-JZE8qL7qJI"
   },
   "outputs": [],
   "source": [
    "pca_128 = PCA(128)\n",
    "pca_128.fit(train_features)\n",
    "train_features_128 = pca_128.transform(train_features)\n",
    "test_features_128 = pca_128.transform(test_features)"
   ]
  },
  {
   "cell_type": "code",
   "execution_count": null,
   "metadata": {
    "id": "c_LoHlGw_HL8"
   },
   "outputs": [],
   "source": [
    "test_features_128_inverse = pca_128.inverse_transform(test_features_128)"
   ]
  },
  {
   "cell_type": "code",
   "execution_count": null,
   "metadata": {
    "colab": {
     "base_uri": "https://localhost:8080/"
    },
    "id": "aeyWB8mM_dmS",
    "outputId": "bf05659c-3da1-4e54-bdaa-93919fedc8a4"
   },
   "outputs": [
    {
     "name": "stdout",
     "output_type": "stream",
     "text": [
      "(10000, 784)\n"
     ]
    }
   ],
   "source": [
    "print(test_features_128_inverse.shape)"
   ]
  },
  {
   "cell_type": "code",
   "execution_count": null,
   "metadata": {
    "colab": {
     "base_uri": "https://localhost:8080/",
     "height": 248
    },
    "id": "20AJacIF_v6L",
    "outputId": "3ad6a464-590f-44f6-ed2a-65b5d89052a3"
   },
   "outputs": [
    {
     "data": {
      "image/png": "[encoded data removed]",
      "text/plain": [
       "<Figure size 1440x288 with 20 Axes>"
      ]
     },
     "metadata": {
      "tags": []
     },
     "output_type": "display_data"
    }
   ],
   "source": [
    "import matplotlib.pyplot as plt\n",
    "\n",
    "plt.figure(figsize=(20,4))\n",
    "\n",
    "for i in range(10) :\n",
    "\n",
    "  ax = plt.subplot(2,10,i+1)\n",
    "  plt.imshow(test_features[i].reshape(28,28))\n",
    "  plt.gray()\n",
    "  ax.get_xaxis().set_visible(False)\n",
    "  ax.get_yaxis().set_visible(False)\n",
    "\n",
    "\n",
    "  ax = plt.subplot(2,10,i+1+10)\n",
    "  plt.imshow(np.abs(test_features_128_inverse[i]).reshape(28,28))\n",
    "  plt.gray()\n",
    "  ax.get_xaxis().set_visible(False)\n",
    "  ax.get_yaxis().set_visible(False)\n",
    "\n",
    "plt.show()"
   ]
  },
  {
   "cell_type": "code",
   "execution_count": null,
   "metadata": {
    "id": "FiewlpDMCvWZ"
   },
   "outputs": [],
   "source": [
    "pca_64 = PCA(64)\n",
    "pca_64.fit(train_features)\n",
    "train_features_64 = pca_64.transform(train_features)\n",
    "test_features_64 = pca_64.transform(test_features)\n",
    "test_features_64_inverse = pca_64.inverse_transform(test_features_64)"
   ]
  },
  {
   "cell_type": "code",
   "execution_count": null,
   "metadata": {
    "colab": {
     "base_uri": "https://localhost:8080/",
     "height": 248
    },
    "id": "Nyy5pqApDNU0",
    "outputId": "a264363e-e1e6-4200-8370-28a740e85005"
   },
   "outputs": [
    {
     "data": {
      "image/png": "[encoded data removed]",
      "text/plain": [
       "<Figure size 1440x288 with 20 Axes>"
      ]
     },
     "metadata": {
      "tags": []
     },
     "output_type": "display_data"
    }
   ],
   "source": [
    "import matplotlib.pyplot as plt\n",
    "\n",
    "plt.figure(figsize=(20,4))\n",
    "\n",
    "for i in range(10) :\n",
    "\n",
    "  ax = plt.subplot(2,10,i+1)\n",
    "  plt.imshow(test_features[i].reshape(28,28))\n",
    "  plt.gray()\n",
    "  ax.get_xaxis().set_visible(False)\n",
    "  ax.get_yaxis().set_visible(False)\n",
    "\n",
    "\n",
    "  ax = plt.subplot(2,10,i+1+10)\n",
    "  plt.imshow(np.abs(test_features_64_inverse[i]).reshape(28,28))\n",
    "  plt.gray()\n",
    "  ax.get_xaxis().set_visible(False)\n",
    "  ax.get_yaxis().set_visible(False)\n",
    "\n",
    "plt.show()"
   ]
  },
  {
   "cell_type": "code",
   "execution_count": null,
   "metadata": {
    "id": "LwIhJ8JvDbgo"
   },
   "outputs": [],
   "source": [
    "pca_32 = PCA(32)\n",
    "pca_32.fit(train_features)\n",
    "train_features_32 = pca_32.transform(train_features)\n",
    "test_features_32 = pca_32.transform(test_features)\n",
    "test_features_32_inverse = pca_32.inverse_transform(test_features_32)"
   ]
  },
  {
   "cell_type": "code",
   "execution_count": null,
   "metadata": {
    "colab": {
     "base_uri": "https://localhost:8080/",
     "height": 248
    },
    "id": "JBMpe-S9ELGE",
    "outputId": "ecdcaaa4-daac-4a85-9ae5-c87e641128ef"
   },
   "outputs": [
    {
     "data": {
      "image/png": "[encoded data removed]",
      "text/plain": [
       "<Figure size 1440x288 with 20 Axes>"
      ]
     },
     "metadata": {
      "tags": []
     },
     "output_type": "display_data"
    }
   ],
   "source": [
    "import matplotlib.pyplot as plt\n",
    "\n",
    "plt.figure(figsize=(20,4))\n",
    "\n",
    "for i in range(10) :\n",
    "\n",
    "  ax = plt.subplot(2,10,i+1)\n",
    "  plt.imshow(test_features[i].reshape(28,28))\n",
    "  plt.gray()\n",
    "  ax.get_xaxis().set_visible(False)\n",
    "  ax.get_yaxis().set_visible(False)\n",
    "\n",
    "\n",
    "  ax = plt.subplot(2,10,i+1+10)\n",
    "  plt.imshow(np.abs(test_features_32_inverse[i]).reshape(28,28))\n",
    "  plt.gray()\n",
    "  ax.get_xaxis().set_visible(False)\n",
    "  ax.get_yaxis().set_visible(False)\n",
    "\n",
    "plt.show()"
   ]
  },
  {
   "cell_type": "code",
   "execution_count": null,
   "metadata": {
    "id": "e0LFMFLvESrh"
   },
   "outputs": [],
   "source": [
    "pca_16 = PCA(16)\n",
    "pca_16.fit(train_features)\n",
    "train_features_16 = pca_16.transform(train_features)\n",
    "test_features_16 = pca_16.transform(test_features)\n",
    "test_features_16_inverse = pca_16.inverse_transform(test_features_16)"
   ]
  },
  {
   "cell_type": "code",
   "execution_count": null,
   "metadata": {
    "colab": {
     "base_uri": "https://localhost:8080/",
     "height": 248
    },
    "id": "A7D2e33bEqIf",
    "outputId": "cb1e27e2-cbb4-4d61-e254-f319a8c9773f"
   },
   "outputs": [
    {
     "data": {
      "image/png": "[encoded data removed]",
      "text/plain": [
       "<Figure size 1440x288 with 20 Axes>"
      ]
     },
     "metadata": {
      "tags": []
     },
     "output_type": "display_data"
    }
   ],
   "source": [
    "import matplotlib.pyplot as plt\n",
    "\n",
    "plt.figure(figsize=(20,4))\n",
    "\n",
    "for i in range(10) :\n",
    "\n",
    "  ax = plt.subplot(2,10,i+1)\n",
    "  plt.imshow(test_features[i].reshape(28,28))\n",
    "  plt.gray()\n",
    "  ax.get_xaxis().set_visible(False)\n",
    "  ax.get_yaxis().set_visible(False)\n",
    "\n",
    "\n",
    "  ax = plt.subplot(2,10,i+1+10)\n",
    "  plt.imshow(np.abs(test_features_16_inverse[i]).reshape(28,28))\n",
    "  plt.gray()\n",
    "  ax.get_xaxis().set_visible(False)\n",
    "  ax.get_yaxis().set_visible(False)\n",
    "\n",
    "plt.show()"
   ]
  },
  {
   "cell_type": "markdown",
   "metadata": {
    "id": "9eHvAjbpE1Mz"
   },
   "source": [
    "As we can see having 16 features cannot retrace the image back. So we can use 32 features , while 128 retains most of the information."
   ]
  }
 ],
 "metadata": {
  "accelerator": "GPU",
  "colab": {
   "collapsed_sections": [],
   "name": "smai_ass3_q2.ipynb",
   "provenance": []
  },
  "kernelspec": {
   "display_name": "Python 3",
   "language": "python",
   "name": "python3"
  },
  "language_info": {
   "codemirror_mode": {
    "name": "ipython",
    "version": 3
   },
   "file_extension": ".py",
   "mimetype": "text/x-python",
   "name": "python",
   "nbconvert_exporter": "python",
   "pygments_lexer": "ipython3",
   "version": "3.8.5"
  },
  "widgets": {
   "application/vnd.jupyter.widget-state+json": {
    "118ffc0b36624f3dad75abf82dd82e4b": {
     "model_module": "@jupyter-widgets/controls",
     "model_name": "DescriptionStyleModel",
     "state": {
      "_model_module": "@jupyter-widgets/controls",
      "_model_module_version": "1.5.0",
      "_model_name": "DescriptionStyleModel",
      "_view_count": null,
      "_view_module": "@jupyter-widgets/base",
      "_view_module_version": "1.2.0",
      "_view_name": "StyleView",
      "description_width": ""
     }
    },
    "1271c57fddeb45a98662945168cb0431": {
     "model_module": "@jupyter-widgets/controls",
     "model_name": "HBoxModel",
     "state": {
      "_dom_classes": [],
      "_model_module": "@jupyter-widgets/controls",
      "_model_module_version": "1.5.0",
      "_model_name": "HBoxModel",
      "_view_count": null,
      "_view_module": "@jupyter-widgets/controls",
      "_view_module_version": "1.5.0",
      "_view_name": "HBoxView",
      "box_style": "",
      "children": [
       "IPY_MODEL_dfb7e927a91e46fc93b7355912df924c",
       "IPY_MODEL_6a328025486748ae8623c0cee488a67a"
      ],
      "layout": "IPY_MODEL_5dc385131bb6487aa6387afe0bbdb88f"
     }
    },
    "17ef02dc6a034b359e3ed161bc29337e": {
     "model_module": "@jupyter-widgets/controls",
     "model_name": "DescriptionStyleModel",
     "state": {
      "_model_module": "@jupyter-widgets/controls",
      "_model_module_version": "1.5.0",
      "_model_name": "DescriptionStyleModel",
      "_view_count": null,
      "_view_module": "@jupyter-widgets/base",
      "_view_module_version": "1.2.0",
      "_view_name": "StyleView",
      "description_width": ""
     }
    },
    "1ccbde874f974a958749d0ee3e378b49": {
     "model_module": "@jupyter-widgets/controls",
     "model_name": "HBoxModel",
     "state": {
      "_dom_classes": [],
      "_model_module": "@jupyter-widgets/controls",
      "_model_module_version": "1.5.0",
      "_model_name": "HBoxModel",
      "_view_count": null,
      "_view_module": "@jupyter-widgets/controls",
      "_view_module_version": "1.5.0",
      "_view_name": "HBoxView",
      "box_style": "",
      "children": [
       "IPY_MODEL_bf78c25d1bdb410d9de761a4a49a9b37",
       "IPY_MODEL_ba2307e2437d48618679b05549c81345"
      ],
      "layout": "IPY_MODEL_5714337c34ef4bedba40f1abf8b82200"
     }
    },
    "323a32cd6bdc4af385cbd887e4760a88": {
     "model_module": "@jupyter-widgets/controls",
     "model_name": "HBoxModel",
     "state": {
      "_dom_classes": [],
      "_model_module": "@jupyter-widgets/controls",
      "_model_module_version": "1.5.0",
      "_model_name": "HBoxModel",
      "_view_count": null,
      "_view_module": "@jupyter-widgets/controls",
      "_view_module_version": "1.5.0",
      "_view_name": "HBoxView",
      "box_style": "",
      "children": [
       "IPY_MODEL_99370902e7404138a138c2e940301156",
       "IPY_MODEL_3a038cc3295b473ab79113da324bbc65"
      ],
      "layout": "IPY_MODEL_562ec61c18024c6c9a775c9492fb931d"
     }
    },
    "354f4eecb0184edd9056e1d2d89f07b6": {
     "model_module": "@jupyter-widgets/controls",
     "model_name": "ProgressStyleModel",
     "state": {
      "_model_module": "@jupyter-widgets/controls",
      "_model_module_version": "1.5.0",
      "_model_name": "ProgressStyleModel",
      "_view_count": null,
      "_view_module": "@jupyter-widgets/base",
      "_view_module_version": "1.2.0",
      "_view_name": "StyleView",
      "bar_color": null,
      "description_width": "initial"
     }
    },
    "3a038cc3295b473ab79113da324bbc65": {
     "model_module": "@jupyter-widgets/controls",
     "model_name": "HTMLModel",
     "state": {
      "_dom_classes": [],
      "_model_module": "@jupyter-widgets/controls",
      "_model_module_version": "1.5.0",
      "_model_name": "HTMLModel",
      "_view_count": null,
      "_view_module": "@jupyter-widgets/controls",
      "_view_module_version": "1.5.0",
      "_view_name": "HTMLView",
      "description": "",
      "description_tooltip": null,
      "layout": "IPY_MODEL_c274ee4ab065475eba5be057a25d2a5f",
      "placeholder": "​",
      "style": "IPY_MODEL_6f333f5373a3417993e64027c66c07f5",
      "value": " 29696/? [00:02&lt;00:00, 11218.12it/s]"
     }
    },
    "562ec61c18024c6c9a775c9492fb931d": {
     "model_module": "@jupyter-widgets/base",
     "model_name": "LayoutModel",
     "state": {
      "_model_module": "@jupyter-widgets/base",
      "_model_module_version": "1.2.0",
      "_model_name": "LayoutModel",
      "_view_count": null,
      "_view_module": "@jupyter-widgets/base",
      "_view_module_version": "1.2.0",
      "_view_name": "LayoutView",
      "align_content": null,
      "align_items": null,
      "align_self": null,
      "border": null,
      "bottom": null,
      "display": null,
      "flex": null,
      "flex_flow": null,
      "grid_area": null,
      "grid_auto_columns": null,
      "grid_auto_flow": null,
      "grid_auto_rows": null,
      "grid_column": null,
      "grid_gap": null,
      "grid_row": null,
      "grid_template_areas": null,
      "grid_template_columns": null,
      "grid_template_rows": null,
      "height": null,
      "justify_content": null,
      "justify_items": null,
      "left": null,
      "margin": null,
      "max_height": null,
      "max_width": null,
      "min_height": null,
      "min_width": null,
      "object_fit": null,
      "object_position": null,
      "order": null,
      "overflow": null,
      "overflow_x": null,
      "overflow_y": null,
      "padding": null,
      "right": null,
      "top": null,
      "visibility": null,
      "width": null
     }
    },
    "5714337c34ef4bedba40f1abf8b82200": {
     "model_module": "@jupyter-widgets/base",
     "model_name": "LayoutModel",
     "state": {
      "_model_module": "@jupyter-widgets/base",
      "_model_module_version": "1.2.0",
      "_model_name": "LayoutModel",
      "_view_count": null,
      "_view_module": "@jupyter-widgets/base",
      "_view_module_version": "1.2.0",
      "_view_name": "LayoutView",
      "align_content": null,
      "align_items": null,
      "align_self": null,
      "border": null,
      "bottom": null,
      "display": null,
      "flex": null,
      "flex_flow": null,
      "grid_area": null,
      "grid_auto_columns": null,
      "grid_auto_flow": null,
      "grid_auto_rows": null,
      "grid_column": null,
      "grid_gap": null,
      "grid_row": null,
      "grid_template_areas": null,
      "grid_template_columns": null,
      "grid_template_rows": null,
      "height": null,
      "justify_content": null,
      "justify_items": null,
      "left": null,
      "margin": null,
      "max_height": null,
      "max_width": null,
      "min_height": null,
      "min_width": null,
      "object_fit": null,
      "object_position": null,
      "order": null,
      "overflow": null,
      "overflow_x": null,
      "overflow_y": null,
      "padding": null,
      "right": null,
      "top": null,
      "visibility": null,
      "width": null
     }
    },
    "5dc385131bb6487aa6387afe0bbdb88f": {
     "model_module": "@jupyter-widgets/base",
     "model_name": "LayoutModel",
     "state": {
      "_model_module": "@jupyter-widgets/base",
      "_model_module_version": "1.2.0",
      "_model_name": "LayoutModel",
      "_view_count": null,
      "_view_module": "@jupyter-widgets/base",
      "_view_module_version": "1.2.0",
      "_view_name": "LayoutView",
      "align_content": null,
      "align_items": null,
      "align_self": null,
      "border": null,
      "bottom": null,
      "display": null,
      "flex": null,
      "flex_flow": null,
      "grid_area": null,
      "grid_auto_columns": null,
      "grid_auto_flow": null,
      "grid_auto_rows": null,
      "grid_column": null,
      "grid_gap": null,
      "grid_row": null,
      "grid_template_areas": null,
      "grid_template_columns": null,
      "grid_template_rows": null,
      "height": null,
      "justify_content": null,
      "justify_items": null,
      "left": null,
      "margin": null,
      "max_height": null,
      "max_width": null,
      "min_height": null,
      "min_width": null,
      "object_fit": null,
      "object_position": null,
      "order": null,
      "overflow": null,
      "overflow_x": null,
      "overflow_y": null,
      "padding": null,
      "right": null,
      "top": null,
      "visibility": null,
      "width": null
     }
    },
    "6187334f31e34052b24f2bb7fb35c2eb": {
     "model_module": "@jupyter-widgets/controls",
     "model_name": "ProgressStyleModel",
     "state": {
      "_model_module": "@jupyter-widgets/controls",
      "_model_module_version": "1.5.0",
      "_model_name": "ProgressStyleModel",
      "_view_count": null,
      "_view_module": "@jupyter-widgets/base",
      "_view_module_version": "1.2.0",
      "_view_name": "StyleView",
      "bar_color": null,
      "description_width": "initial"
     }
    },
    "62c262de3a8b4e97a501c154cd7f6110": {
     "model_module": "@jupyter-widgets/base",
     "model_name": "LayoutModel",
     "state": {
      "_model_module": "@jupyter-widgets/base",
      "_model_module_version": "1.2.0",
      "_model_name": "LayoutModel",
      "_view_count": null,
      "_view_module": "@jupyter-widgets/base",
      "_view_module_version": "1.2.0",
      "_view_name": "LayoutView",
      "align_content": null,
      "align_items": null,
      "align_self": null,
      "border": null,
      "bottom": null,
      "display": null,
      "flex": null,
      "flex_flow": null,
      "grid_area": null,
      "grid_auto_columns": null,
      "grid_auto_flow": null,
      "grid_auto_rows": null,
      "grid_column": null,
      "grid_gap": null,
      "grid_row": null,
      "grid_template_areas": null,
      "grid_template_columns": null,
      "grid_template_rows": null,
      "height": null,
      "justify_content": null,
      "justify_items": null,
      "left": null,
      "margin": null,
      "max_height": null,
      "max_width": null,
      "min_height": null,
      "min_width": null,
      "object_fit": null,
      "object_position": null,
      "order": null,
      "overflow": null,
      "overflow_x": null,
      "overflow_y": null,
      "padding": null,
      "right": null,
      "top": null,
      "visibility": null,
      "width": null
     }
    },
    "68e60d8a92fc45379ae84535398a3a05": {
     "model_module": "@jupyter-widgets/base",
     "model_name": "LayoutModel",
     "state": {
      "_model_module": "@jupyter-widgets/base",
      "_model_module_version": "1.2.0",
      "_model_name": "LayoutModel",
      "_view_count": null,
      "_view_module": "@jupyter-widgets/base",
      "_view_module_version": "1.2.0",
      "_view_name": "LayoutView",
      "align_content": null,
      "align_items": null,
      "align_self": null,
      "border": null,
      "bottom": null,
      "display": null,
      "flex": null,
      "flex_flow": null,
      "grid_area": null,
      "grid_auto_columns": null,
      "grid_auto_flow": null,
      "grid_auto_rows": null,
      "grid_column": null,
      "grid_gap": null,
      "grid_row": null,
      "grid_template_areas": null,
      "grid_template_columns": null,
      "grid_template_rows": null,
      "height": null,
      "justify_content": null,
      "justify_items": null,
      "left": null,
      "margin": null,
      "max_height": null,
      "max_width": null,
      "min_height": null,
      "min_width": null,
      "object_fit": null,
      "object_position": null,
      "order": null,
      "overflow": null,
      "overflow_x": null,
      "overflow_y": null,
      "padding": null,
      "right": null,
      "top": null,
      "visibility": null,
      "width": null
     }
    },
    "6a328025486748ae8623c0cee488a67a": {
     "model_module": "@jupyter-widgets/controls",
     "model_name": "HTMLModel",
     "state": {
      "_dom_classes": [],
      "_model_module": "@jupyter-widgets/controls",
      "_model_module_version": "1.5.0",
      "_model_name": "HTMLModel",
      "_view_count": null,
      "_view_module": "@jupyter-widgets/controls",
      "_view_module_version": "1.5.0",
      "_view_name": "HTMLView",
      "description": "",
      "description_tooltip": null,
      "layout": "IPY_MODEL_d9bb19ea81424398bb4cda7b85c05b6f",
      "placeholder": "​",
      "style": "IPY_MODEL_bc38b9867450490ca56a0267874d2abe",
      "value": " 5120/? [00:00&lt;00:00, 17049.76it/s]"
     }
    },
    "6e11f1203cf443f6b3484f1c082cd1dc": {
     "model_module": "@jupyter-widgets/base",
     "model_name": "LayoutModel",
     "state": {
      "_model_module": "@jupyter-widgets/base",
      "_model_module_version": "1.2.0",
      "_model_name": "LayoutModel",
      "_view_count": null,
      "_view_module": "@jupyter-widgets/base",
      "_view_module_version": "1.2.0",
      "_view_name": "LayoutView",
      "align_content": null,
      "align_items": null,
      "align_self": null,
      "border": null,
      "bottom": null,
      "display": null,
      "flex": null,
      "flex_flow": null,
      "grid_area": null,
      "grid_auto_columns": null,
      "grid_auto_flow": null,
      "grid_auto_rows": null,
      "grid_column": null,
      "grid_gap": null,
      "grid_row": null,
      "grid_template_areas": null,
      "grid_template_columns": null,
      "grid_template_rows": null,
      "height": null,
      "justify_content": null,
      "justify_items": null,
      "left": null,
      "margin": null,
      "max_height": null,
      "max_width": null,
      "min_height": null,
      "min_width": null,
      "object_fit": null,
      "object_position": null,
      "order": null,
      "overflow": null,
      "overflow_x": null,
      "overflow_y": null,
      "padding": null,
      "right": null,
      "top": null,
      "visibility": null,
      "width": null
     }
    },
    "6f333f5373a3417993e64027c66c07f5": {
     "model_module": "@jupyter-widgets/controls",
     "model_name": "DescriptionStyleModel",
     "state": {
      "_model_module": "@jupyter-widgets/controls",
      "_model_module_version": "1.5.0",
      "_model_name": "DescriptionStyleModel",
      "_view_count": null,
      "_view_module": "@jupyter-widgets/base",
      "_view_module_version": "1.2.0",
      "_view_name": "StyleView",
      "description_width": ""
     }
    },
    "785eccb8154a4eed8e99faa86cd4342e": {
     "model_module": "@jupyter-widgets/controls",
     "model_name": "ProgressStyleModel",
     "state": {
      "_model_module": "@jupyter-widgets/controls",
      "_model_module_version": "1.5.0",
      "_model_name": "ProgressStyleModel",
      "_view_count": null,
      "_view_module": "@jupyter-widgets/base",
      "_view_module_version": "1.2.0",
      "_view_name": "StyleView",
      "bar_color": null,
      "description_width": "initial"
     }
    },
    "86703515feab4a258e3587ad56b60a9d": {
     "model_module": "@jupyter-widgets/base",
     "model_name": "LayoutModel",
     "state": {
      "_model_module": "@jupyter-widgets/base",
      "_model_module_version": "1.2.0",
      "_model_name": "LayoutModel",
      "_view_count": null,
      "_view_module": "@jupyter-widgets/base",
      "_view_module_version": "1.2.0",
      "_view_name": "LayoutView",
      "align_content": null,
      "align_items": null,
      "align_self": null,
      "border": null,
      "bottom": null,
      "display": null,
      "flex": null,
      "flex_flow": null,
      "grid_area": null,
      "grid_auto_columns": null,
      "grid_auto_flow": null,
      "grid_auto_rows": null,
      "grid_column": null,
      "grid_gap": null,
      "grid_row": null,
      "grid_template_areas": null,
      "grid_template_columns": null,
      "grid_template_rows": null,
      "height": null,
      "justify_content": null,
      "justify_items": null,
      "left": null,
      "margin": null,
      "max_height": null,
      "max_width": null,
      "min_height": null,
      "min_width": null,
      "object_fit": null,
      "object_position": null,
      "order": null,
      "overflow": null,
      "overflow_x": null,
      "overflow_y": null,
      "padding": null,
      "right": null,
      "top": null,
      "visibility": null,
      "width": null
     }
    },
    "8e84d64c8d114e3abfe201865aaf67fc": {
     "model_module": "@jupyter-widgets/base",
     "model_name": "LayoutModel",
     "state": {
      "_model_module": "@jupyter-widgets/base",
      "_model_module_version": "1.2.0",
      "_model_name": "LayoutModel",
      "_view_count": null,
      "_view_module": "@jupyter-widgets/base",
      "_view_module_version": "1.2.0",
      "_view_name": "LayoutView",
      "align_content": null,
      "align_items": null,
      "align_self": null,
      "border": null,
      "bottom": null,
      "display": null,
      "flex": null,
      "flex_flow": null,
      "grid_area": null,
      "grid_auto_columns": null,
      "grid_auto_flow": null,
      "grid_auto_rows": null,
      "grid_column": null,
      "grid_gap": null,
      "grid_row": null,
      "grid_template_areas": null,
      "grid_template_columns": null,
      "grid_template_rows": null,
      "height": null,
      "justify_content": null,
      "justify_items": null,
      "left": null,
      "margin": null,
      "max_height": null,
      "max_width": null,
      "min_height": null,
      "min_width": null,
      "object_fit": null,
      "object_position": null,
      "order": null,
      "overflow": null,
      "overflow_x": null,
      "overflow_y": null,
      "padding": null,
      "right": null,
      "top": null,
      "visibility": null,
      "width": null
     }
    },
    "99370902e7404138a138c2e940301156": {
     "model_module": "@jupyter-widgets/controls",
     "model_name": "FloatProgressModel",
     "state": {
      "_dom_classes": [],
      "_model_module": "@jupyter-widgets/controls",
      "_model_module_version": "1.5.0",
      "_model_name": "FloatProgressModel",
      "_view_count": null,
      "_view_module": "@jupyter-widgets/controls",
      "_view_module_version": "1.5.0",
      "_view_name": "ProgressView",
      "bar_style": "success",
      "description": "",
      "description_tooltip": null,
      "layout": "IPY_MODEL_62c262de3a8b4e97a501c154cd7f6110",
      "max": 28881,
      "min": 0,
      "orientation": "horizontal",
      "style": "IPY_MODEL_ea6abff314d94c1bb9d123b35d253c50",
      "value": 28881
     }
    },
    "a1582cb4a99245f49d7d23f57949f7b5": {
     "model_module": "@jupyter-widgets/controls",
     "model_name": "HTMLModel",
     "state": {
      "_dom_classes": [],
      "_model_module": "@jupyter-widgets/controls",
      "_model_module_version": "1.5.0",
      "_model_name": "HTMLModel",
      "_view_count": null,
      "_view_module": "@jupyter-widgets/controls",
      "_view_module_version": "1.5.0",
      "_view_name": "HTMLView",
      "description": "",
      "description_tooltip": null,
      "layout": "IPY_MODEL_86703515feab4a258e3587ad56b60a9d",
      "placeholder": "​",
      "style": "IPY_MODEL_17ef02dc6a034b359e3ed161bc29337e",
      "value": " 9913344/? [05:03&lt;00:00, 32633.87it/s]"
     }
    },
    "ba2307e2437d48618679b05549c81345": {
     "model_module": "@jupyter-widgets/controls",
     "model_name": "HTMLModel",
     "state": {
      "_dom_classes": [],
      "_model_module": "@jupyter-widgets/controls",
      "_model_module_version": "1.5.0",
      "_model_name": "HTMLModel",
      "_view_count": null,
      "_view_module": "@jupyter-widgets/controls",
      "_view_module_version": "1.5.0",
      "_view_name": "HTMLView",
      "description": "",
      "description_tooltip": null,
      "layout": "IPY_MODEL_ba3f14d39332436b816d022c9776bc71",
      "placeholder": "​",
      "style": "IPY_MODEL_118ffc0b36624f3dad75abf82dd82e4b",
      "value": " 1649664/? [04:35&lt;00:00, 5982.02it/s]"
     }
    },
    "ba3f14d39332436b816d022c9776bc71": {
     "model_module": "@jupyter-widgets/base",
     "model_name": "LayoutModel",
     "state": {
      "_model_module": "@jupyter-widgets/base",
      "_model_module_version": "1.2.0",
      "_model_name": "LayoutModel",
      "_view_count": null,
      "_view_module": "@jupyter-widgets/base",
      "_view_module_version": "1.2.0",
      "_view_name": "LayoutView",
      "align_content": null,
      "align_items": null,
      "align_self": null,
      "border": null,
      "bottom": null,
      "display": null,
      "flex": null,
      "flex_flow": null,
      "grid_area": null,
      "grid_auto_columns": null,
      "grid_auto_flow": null,
      "grid_auto_rows": null,
      "grid_column": null,
      "grid_gap": null,
      "grid_row": null,
      "grid_template_areas": null,
      "grid_template_columns": null,
      "grid_template_rows": null,
      "height": null,
      "justify_content": null,
      "justify_items": null,
      "left": null,
      "margin": null,
      "max_height": null,
      "max_width": null,
      "min_height": null,
      "min_width": null,
      "object_fit": null,
      "object_position": null,
      "order": null,
      "overflow": null,
      "overflow_x": null,
      "overflow_y": null,
      "padding": null,
      "right": null,
      "top": null,
      "visibility": null,
      "width": null
     }
    },
    "bc38b9867450490ca56a0267874d2abe": {
     "model_module": "@jupyter-widgets/controls",
     "model_name": "DescriptionStyleModel",
     "state": {
      "_model_module": "@jupyter-widgets/controls",
      "_model_module_version": "1.5.0",
      "_model_name": "DescriptionStyleModel",
      "_view_count": null,
      "_view_module": "@jupyter-widgets/base",
      "_view_module_version": "1.2.0",
      "_view_name": "StyleView",
      "description_width": ""
     }
    },
    "bf78c25d1bdb410d9de761a4a49a9b37": {
     "model_module": "@jupyter-widgets/controls",
     "model_name": "FloatProgressModel",
     "state": {
      "_dom_classes": [],
      "_model_module": "@jupyter-widgets/controls",
      "_model_module_version": "1.5.0",
      "_model_name": "FloatProgressModel",
      "_view_count": null,
      "_view_module": "@jupyter-widgets/controls",
      "_view_module_version": "1.5.0",
      "_view_name": "ProgressView",
      "bar_style": "success",
      "description": "",
      "description_tooltip": null,
      "layout": "IPY_MODEL_6e11f1203cf443f6b3484f1c082cd1dc",
      "max": 1648877,
      "min": 0,
      "orientation": "horizontal",
      "style": "IPY_MODEL_785eccb8154a4eed8e99faa86cd4342e",
      "value": 1648877
     }
    },
    "c274ee4ab065475eba5be057a25d2a5f": {
     "model_module": "@jupyter-widgets/base",
     "model_name": "LayoutModel",
     "state": {
      "_model_module": "@jupyter-widgets/base",
      "_model_module_version": "1.2.0",
      "_model_name": "LayoutModel",
      "_view_count": null,
      "_view_module": "@jupyter-widgets/base",
      "_view_module_version": "1.2.0",
      "_view_name": "LayoutView",
      "align_content": null,
      "align_items": null,
      "align_self": null,
      "border": null,
      "bottom": null,
      "display": null,
      "flex": null,
      "flex_flow": null,
      "grid_area": null,
      "grid_auto_columns": null,
      "grid_auto_flow": null,
      "grid_auto_rows": null,
      "grid_column": null,
      "grid_gap": null,
      "grid_row": null,
      "grid_template_areas": null,
      "grid_template_columns": null,
      "grid_template_rows": null,
      "height": null,
      "justify_content": null,
      "justify_items": null,
      "left": null,
      "margin": null,
      "max_height": null,
      "max_width": null,
      "min_height": null,
      "min_width": null,
      "object_fit": null,
      "object_position": null,
      "order": null,
      "overflow": null,
      "overflow_x": null,
      "overflow_y": null,
      "padding": null,
      "right": null,
      "top": null,
      "visibility": null,
      "width": null
     }
    },
    "d057a0fc8aa04d00854e921a7a88131b": {
     "model_module": "@jupyter-widgets/controls",
     "model_name": "FloatProgressModel",
     "state": {
      "_dom_classes": [],
      "_model_module": "@jupyter-widgets/controls",
      "_model_module_version": "1.5.0",
      "_model_name": "FloatProgressModel",
      "_view_count": null,
      "_view_module": "@jupyter-widgets/controls",
      "_view_module_version": "1.5.0",
      "_view_name": "ProgressView",
      "bar_style": "success",
      "description": "",
      "description_tooltip": null,
      "layout": "IPY_MODEL_8e84d64c8d114e3abfe201865aaf67fc",
      "max": 9912422,
      "min": 0,
      "orientation": "horizontal",
      "style": "IPY_MODEL_6187334f31e34052b24f2bb7fb35c2eb",
      "value": 9912422
     }
    },
    "d9bb19ea81424398bb4cda7b85c05b6f": {
     "model_module": "@jupyter-widgets/base",
     "model_name": "LayoutModel",
     "state": {
      "_model_module": "@jupyter-widgets/base",
      "_model_module_version": "1.2.0",
      "_model_name": "LayoutModel",
      "_view_count": null,
      "_view_module": "@jupyter-widgets/base",
      "_view_module_version": "1.2.0",
      "_view_name": "LayoutView",
      "align_content": null,
      "align_items": null,
      "align_self": null,
      "border": null,
      "bottom": null,
      "display": null,
      "flex": null,
      "flex_flow": null,
      "grid_area": null,
      "grid_auto_columns": null,
      "grid_auto_flow": null,
      "grid_auto_rows": null,
      "grid_column": null,
      "grid_gap": null,
      "grid_row": null,
      "grid_template_areas": null,
      "grid_template_columns": null,
      "grid_template_rows": null,
      "height": null,
      "justify_content": null,
      "justify_items": null,
      "left": null,
      "margin": null,
      "max_height": null,
      "max_width": null,
      "min_height": null,
      "min_width": null,
      "object_fit": null,
      "object_position": null,
      "order": null,
      "overflow": null,
      "overflow_x": null,
      "overflow_y": null,
      "padding": null,
      "right": null,
      "top": null,
      "visibility": null,
      "width": null
     }
    },
    "dfb7e927a91e46fc93b7355912df924c": {
     "model_module": "@jupyter-widgets/controls",
     "model_name": "FloatProgressModel",
     "state": {
      "_dom_classes": [],
      "_model_module": "@jupyter-widgets/controls",
      "_model_module_version": "1.5.0",
      "_model_name": "FloatProgressModel",
      "_view_count": null,
      "_view_module": "@jupyter-widgets/controls",
      "_view_module_version": "1.5.0",
      "_view_name": "ProgressView",
      "bar_style": "success",
      "description": "",
      "description_tooltip": null,
      "layout": "IPY_MODEL_68e60d8a92fc45379ae84535398a3a05",
      "max": 4542,
      "min": 0,
      "orientation": "horizontal",
      "style": "IPY_MODEL_354f4eecb0184edd9056e1d2d89f07b6",
      "value": 4542
     }
    },
    "e2fa6d32c4fa4b24bb6894c30d01a85f": {
     "model_module": "@jupyter-widgets/controls",
     "model_name": "HBoxModel",
     "state": {
      "_dom_classes": [],
      "_model_module": "@jupyter-widgets/controls",
      "_model_module_version": "1.5.0",
      "_model_name": "HBoxModel",
      "_view_count": null,
      "_view_module": "@jupyter-widgets/controls",
      "_view_module_version": "1.5.0",
      "_view_name": "HBoxView",
      "box_style": "",
      "children": [
       "IPY_MODEL_d057a0fc8aa04d00854e921a7a88131b",
       "IPY_MODEL_a1582cb4a99245f49d7d23f57949f7b5"
      ],
      "layout": "IPY_MODEL_ec05475518964731b2140277ebd071f8"
     }
    },
    "ea6abff314d94c1bb9d123b35d253c50": {
     "model_module": "@jupyter-widgets/controls",
     "model_name": "ProgressStyleModel",
     "state": {
      "_model_module": "@jupyter-widgets/controls",
      "_model_module_version": "1.5.0",
      "_model_name": "ProgressStyleModel",
      "_view_count": null,
      "_view_module": "@jupyter-widgets/base",
      "_view_module_version": "1.2.0",
      "_view_name": "StyleView",
      "bar_color": null,
      "description_width": "initial"
     }
    },
    "ec05475518964731b2140277ebd071f8": {
     "model_module": "@jupyter-widgets/base",
     "model_name": "LayoutModel",
     "state": {
      "_model_module": "@jupyter-widgets/base",
      "_model_module_version": "1.2.0",
      "_model_name": "LayoutModel",
      "_view_count": null,
      "_view_module": "@jupyter-widgets/base",
      "_view_module_version": "1.2.0",
      "_view_name": "LayoutView",
      "align_content": null,
      "align_items": null,
      "align_self": null,
      "border": null,
      "bottom": null,
      "display": null,
      "flex": null,
      "flex_flow": null,
      "grid_area": null,
      "grid_auto_columns": null,
      "grid_auto_flow": null,
      "grid_auto_rows": null,
      "grid_column": null,
      "grid_gap": null,
      "grid_row": null,
      "grid_template_areas": null,
      "grid_template_columns": null,
      "grid_template_rows": null,
      "height": null,
      "justify_content": null,
      "justify_items": null,
      "left": null,
      "margin": null,
      "max_height": null,
      "max_width": null,
      "min_height": null,
      "min_width": null,
      "object_fit": null,
      "object_position": null,
      "order": null,
      "overflow": null,
      "overflow_x": null,
      "overflow_y": null,
      "padding": null,
      "right": null,
      "top": null,
      "visibility": null,
      "width": null
     }
    }
   }
  }
 },
 "nbformat": 4,
 "nbformat_minor": 1
}
