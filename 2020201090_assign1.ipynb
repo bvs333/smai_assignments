{
 "cells": [
  {
   "cell_type": "markdown",
   "metadata": {
    "id": "V5RPXC993g5f"
   },
   "source": [
    "**INSTRUCTIONS**"
   ]
  },
  {
   "cell_type": "markdown",
   "metadata": {
    "id": "wc6StAvu3oRv"
   },
   "source": [
    "\n",
    "\n",
    "1.  The assignment contains four questions. A few bonus questions are mentioned. \n",
    "2.   This assignment is due on **6th Feb, 23:59 **(**No Further extensions**).\n",
    "3.   Assignment must be implemented in Python 3 only.\n",
    "4.   You are allowed to use libraries for data preprocessing (numpy, pandas etc) and for evaluation metrics, data visualization (matplotlib etc.).\n",
    "5.   You will be evaluated not just on the overall performance of the model and also on the experimentation with hyper parameters, data prepossessing techniques etc.\n",
    "6.   The report file must be a well documented jupyter notebook, explaining the experiments you have performed, evaluation metrics and corresponding code. The code must run and be able to reproduce the accuracies, figures/graphs etc.\n",
    "7.   For all the questions, you must create a train-validation data split and test the hyperparameter tuning on the validation set. Your jupyter notebook must reflect the same.\n",
    "8.   Any attempts at **plagiarism will be penalized heavily**.\n",
    "9.   Make sure you run and save your notebooks before submission.\n",
    "10.  For question 3 of the Decision Trees section, output your model's depth first traversal into ```outputimp.txt``` and submit it along with the ipynb file.\n",
    "10. Naming convention for the ipynb file is ```<roll_number>_assign1.ipynb```\n",
    "11. Compress your submission files into a zip file with the naming convention: ```<roll_number>_assign1.zip``` and submit in the portal."
   ]
  },
  {
   "cell_type": "markdown",
   "metadata": {
    "id": "nncP5eQd0IXL"
   },
   "source": [
    "#**1) REGRESSION**\n",
    "\n",
    "Please find the Diamond Price Prediction Data set https://drive.google.com/drive/folders/1qE1tm3Ke3uotTyv6SUqruI09t-AkcwRK?usp=sharing. \"description.txt\" contains the feature description of data, \"diamonds.csv\" has the data."
   ]
  },
  {
   "cell_type": "code",
   "execution_count": 10,
   "metadata": {
    "id": "EhFbx6v-4SP8"
   },
   "outputs": [
    {
     "data": {
      "text/html": [
       "<div>\n",
       "<style scoped>\n",
       "    .dataframe tbody tr th:only-of-type {\n",
       "        vertical-align: middle;\n",
       "    }\n",
       "\n",
       "    .dataframe tbody tr th {\n",
       "        vertical-align: top;\n",
       "    }\n",
       "\n",
       "    .dataframe thead th {\n",
       "        text-align: right;\n",
       "    }\n",
       "</style>\n",
       "<table border=\"1\" class=\"dataframe\">\n",
       "  <thead>\n",
       "    <tr style=\"text-align: right;\">\n",
       "      <th></th>\n",
       "      <th>carat</th>\n",
       "      <th>cut</th>\n",
       "      <th>color</th>\n",
       "      <th>clarity</th>\n",
       "      <th>depth</th>\n",
       "      <th>table</th>\n",
       "      <th>price</th>\n",
       "      <th>x</th>\n",
       "      <th>y</th>\n",
       "      <th>z</th>\n",
       "    </tr>\n",
       "  </thead>\n",
       "  <tbody>\n",
       "    <tr>\n",
       "      <th>count</th>\n",
       "      <td>53940</td>\n",
       "      <td>53940</td>\n",
       "      <td>53940</td>\n",
       "      <td>53940</td>\n",
       "      <td>53940</td>\n",
       "      <td>53940</td>\n",
       "      <td>53940</td>\n",
       "      <td>53940</td>\n",
       "      <td>53940</td>\n",
       "      <td>53940</td>\n",
       "    </tr>\n",
       "    <tr>\n",
       "      <th>unique</th>\n",
       "      <td>273</td>\n",
       "      <td>5</td>\n",
       "      <td>7</td>\n",
       "      <td>8</td>\n",
       "      <td>184</td>\n",
       "      <td>127</td>\n",
       "      <td>11602</td>\n",
       "      <td>554</td>\n",
       "      <td>552</td>\n",
       "      <td>375</td>\n",
       "    </tr>\n",
       "    <tr>\n",
       "      <th>top</th>\n",
       "      <td>0.3</td>\n",
       "      <td>Ideal</td>\n",
       "      <td>G</td>\n",
       "      <td>SI1</td>\n",
       "      <td>62</td>\n",
       "      <td>56</td>\n",
       "      <td>605</td>\n",
       "      <td>4.37</td>\n",
       "      <td>4.34</td>\n",
       "      <td>2.7</td>\n",
       "    </tr>\n",
       "    <tr>\n",
       "      <th>freq</th>\n",
       "      <td>2604</td>\n",
       "      <td>21551</td>\n",
       "      <td>11292</td>\n",
       "      <td>13065</td>\n",
       "      <td>2239</td>\n",
       "      <td>9881</td>\n",
       "      <td>132</td>\n",
       "      <td>448</td>\n",
       "      <td>437</td>\n",
       "      <td>767</td>\n",
       "    </tr>\n",
       "  </tbody>\n",
       "</table>\n",
       "</div>"
      ],
      "text/plain": [
       "        carat    cut  color clarity  depth  table  price      x      y      z\n",
       "count   53940  53940  53940   53940  53940  53940  53940  53940  53940  53940\n",
       "unique    273      5      7       8    184    127  11602    554    552    375\n",
       "top       0.3  Ideal      G     SI1     62     56    605   4.37   4.34    2.7\n",
       "freq     2604  21551  11292   13065   2239   9881    132    448    437    767"
      ]
     },
     "execution_count": 10,
     "metadata": {},
     "output_type": "execute_result"
    }
   ],
   "source": [
    "# To read data from diamonds.csv\n",
    "import pandas as pd\n",
    "pd.options.mode.chained_assignment = None\n",
    "from sklearn.model_selection import train_test_split\n",
    "from sklearn.preprocessing import MinMaxScaler\n",
    "import numpy as np\n",
    "\n",
    "headers = [\"carat\",\t\"cut\",\"color\",\"clarity\",\"depth\",\"table\",\"price\",\"x\",\"y\",\"z\"]\n",
    "diamond_data = pd.read_csv('diamonds.csv', na_values='?',    \n",
    "         header=None,  names = headers) \n",
    "diamond_data = diamond_data.reset_index(drop=True)\n",
    "diamond_data = diamond_data.iloc[1:]\n",
    "diamond_data.describe()\n",
    "#print(data) "
   ]
  },
  {
   "cell_type": "markdown",
   "metadata": {
    "id": "p64BQ-W3zpkM"
   },
   "source": [
    "\n",
    "\n",
    "```\n",
    "# This is formatted as code\n",
    "```\n",
    "\n",
    "**KNN Regression [Diamond Price Prediction Dataset]**"
   ]
  },
  {
   "cell_type": "markdown",
   "metadata": {
    "id": "pi5z3DDg04cc"
   },
   "source": [
    "1. a) Build a knn regression algorithm [using only python from scratch] to predict the price of diamonds."
   ]
  },
  {
   "cell_type": "code",
   "execution_count": 19,
   "metadata": {
    "id": "8kcAcD2T3Hsh"
   },
   "outputs": [
    {
     "data": {
      "text/plain": [
       "'\\n#preprocessing of data\\ndiamond_data.cut.replace([\"Ideal\",\"Fair\",\"Good\",\"Very Good\",\"Premium\"],[1,2,3,4,5],inplace = True)\\ndiamond_data.color.replace([\"D\",\"E\",\"F\",\"G\",\"H\",\"I\",\"J\"],[7,6,5,4,3,2,1],inplace = True)\\ndiamond_data.clarity.replace([\"I1\",\"SI2\",\"SI1\",\"VS2\",\"VS1\",\"VVS2\",\"VVS1\",\"IF\"],[1,2,3,4,5,6,7,8],inplace = True)\\n\\n\\ndiamond_features,diamond_pred = diamond_data.iloc[:,[0,1,2,3,4,5,7,8,9]],diamond_data.iloc[:,6]\\ndiamond_features_train,diamond_features_test,diamond_pred_train,diamond_pred_test = train_test_split(diamond_features,diamond_pred,test_size = 0.02)\\n\\n\\ndiamond_norm = MinMaxScaler().fit(diamond_features_train)\\ndiamond_features_train_norm = diamond_norm.transform(diamond_features_train)\\ndiamond_features_test_norm = diamond_norm.transform(diamond_features_test)\\n\\nmy_knn = knn()\\nmy_knn.fit(diamond_features_train_norm,diamond_pred_train,diamond_features_test_norm,diamond_pred_test,\"euclidean\",5,0)\\n'"
      ]
     },
     "execution_count": 19,
     "metadata": {},
     "output_type": "execute_result"
    }
   ],
   "source": [
    "# code for knn regression\n",
    "class knn :\n",
    "    \n",
    "    def __init__(self,dummy=0):\n",
    "        self.dummy = dummy\n",
    "    \n",
    "    \n",
    "    def fit(self,train_features,train_predictions,test_features,test_predictions,metrics,k=5,classifier=1) :\n",
    "        \n",
    "        self.train_features = train_features\n",
    "        self.train_predictions = train_predictions.to_numpy()\n",
    "        self.test_features = test_features\n",
    "        self.test_predictions = test_predictions\n",
    "        self.metrics = metrics\n",
    "        self.k = k\n",
    "        self.classifier = classifier\n",
    "        if self.metrics == \"manhattan\" :\n",
    "            \n",
    "            algo_predictions = self._manhattan_predictions()\n",
    "            \n",
    "            return algo_predictions\n",
    "        \n",
    "        if self.metrics == \"euclidean\":\n",
    "            \n",
    "            algo_predictions = self._euclidean_predictions()\n",
    "            return algo_predictions\n",
    "        \n",
    "        if self.metrics == \"hamming\" :\n",
    "            \n",
    "            algo_predictions = self._hamming_predictions()\n",
    "            return algo_predictions\n",
    "    \n",
    "    def _hamming_predictions(self) :\n",
    "        \n",
    "        pred_value_array = []\n",
    "        for i in range(len(self.test_features)):\n",
    "            \n",
    "            dummy_array = np.array(self.test_features[i])\n",
    "            dummy_array = np.resize(dummy_array,(len(self.train_features),len(self.train_features[0])))\n",
    "            \n",
    "            dummy_array = dummy_array - self.train_features\n",
    "            \n",
    "            counts_array = np.count_nonzero(dummy_array,axis=1,keepdims = True)\n",
    "            idx = np.argpartition(counts_array,self.k,axis = 0)\n",
    "            \n",
    "            if self.classifier == 0 :\n",
    "                \n",
    "                sum_local = 0\n",
    "                for i in range(self.k) :\n",
    "                    sum_local = sum_local + int(self.train_predictions[idx[i]])\n",
    "                \n",
    "                sum_local = sum_local/self.k\n",
    "                pred_value_array.append(sum_local)\n",
    "            \n",
    "        return np.array(pred_value_array)\n",
    "            \n",
    "            \n",
    "    \n",
    "    def _euclidean_predictions(self) :\n",
    "        \n",
    "        square_of_features = np.square(self.train_features)\n",
    "        square_sum_of_features = np.sum(square_of_features,axis = 1,keepdims = True)\n",
    "        square_of_test = np.square(self.test_features)\n",
    "        square_sum_of_test = np.sum(square_of_test,axis = 1,keepdims = True)\n",
    "        \n",
    "        transpose_of_train = self.train_features\n",
    "        transpose_of_train = np.transpose(transpose_of_train)\n",
    "        \n",
    "        pred_value_array = []\n",
    "        \n",
    "        \n",
    "        for i in range(len(square_sum_of_test)):\n",
    "            \n",
    "            dummy_array = np.array(square_sum_of_test[i])\n",
    "            dummy_array = np.resize(dummy_array,(len(square_sum_of_features),1))\n",
    "            dummy_array = dummy_array + square_sum_of_features\n",
    "            \n",
    "            dummy_array_2 = self.test_features[i]\n",
    "            dummy_array_2 = np.array(dummy_array_2)\n",
    "            \n",
    "            #print(dummy_array_2.shape)\n",
    "            #print(transpose_of_train.shape)\n",
    "            dummy_array_2 = np.dot(dummy_array_2,transpose_of_train)\n",
    "            #print(dummy_array_2.shape)\n",
    "            \n",
    "            dummy_array_2 = dummy_array_2 * 2\n",
    "            dummy_array_2 = np.reshape(dummy_array_2,(len(dummy_array_2),1))\n",
    "            #print(dummy_array_2.shape)\n",
    "            #print(dummy_array.shape)\n",
    "            \n",
    "            dummy_array = dummy_array - dummy_array_2\n",
    "            \n",
    "            #print(dummy_array.shape)\n",
    "            dummy_array = np.abs(dummy_array)\n",
    "            #print(dummy_array.shape)\n",
    "            \n",
    "            idx = np.argpartition(dummy_array,self.k,axis = 0)\n",
    "            \n",
    "            if self.classifier == 0 :\n",
    "                sum_local = 0\n",
    "                for i in range(self.k):\n",
    "                    sum_local = sum_local + int(self.train_predictions[idx[i]])\n",
    "                \n",
    "                sum_local = sum_local / self.k\n",
    "                pred_value_array.append(sum_local)\n",
    "            \n",
    "        return np.array(pred_value_array)\n",
    "            \n",
    "            \n",
    "            \n",
    "            \n",
    "        \n",
    "    def _manhattan_predictions(self) :\n",
    "        \n",
    "        features_sum = np.sum(self.train_features,axis = 1,keepdims = True)\n",
    "        pred_sum = np.sum(self.test_features,axis=1,keepdims = True)\n",
    "        \n",
    "        pred_value_array = []\n",
    "        for i in range(len(pred_sum)) :\n",
    "            \n",
    "            dummy_array = np.array(pred_sum[i])\n",
    "            dummy_array = np.resize(dummy_array,(len(features_sum),1))\n",
    "            \n",
    "            dummy_array = dummy_array - features_sum\n",
    "            dummy_array = np.abs(dummy_array)\n",
    "            \n",
    "            #print(dummy_array.shape)\n",
    "            idx = np.argpartition(dummy_array,self.k,axis=0)\n",
    "            \n",
    "            \n",
    "            if self.classifier == 0 :\n",
    "                \n",
    "                sum_local = 0\n",
    "                for j in range(self.k):\n",
    "                    \n",
    "                    sum_local = sum_local + int(self.train_predictions[idx[j]])\n",
    "                    \n",
    "                \n",
    "                sum_local = sum_local/self.k\n",
    "                \n",
    "                pred_value_array.append(sum_local)\n",
    "            \n",
    "        \n",
    "        return np.array(pred_value_array)\n",
    "                    \n",
    "        \n",
    "        \n",
    "        \n",
    "        \n",
    "\"\"\"\n",
    "#preprocessing of data\n",
    "diamond_data.cut.replace([\"Ideal\",\"Fair\",\"Good\",\"Very Good\",\"Premium\"],[1,2,3,4,5],inplace = True)\n",
    "diamond_data.color.replace([\"D\",\"E\",\"F\",\"G\",\"H\",\"I\",\"J\"],[7,6,5,4,3,2,1],inplace = True)\n",
    "diamond_data.clarity.replace([\"I1\",\"SI2\",\"SI1\",\"VS2\",\"VS1\",\"VVS2\",\"VVS1\",\"IF\"],[1,2,3,4,5,6,7,8],inplace = True)\n",
    "\n",
    "\n",
    "diamond_features,diamond_pred = diamond_data.iloc[:,[0,1,2,3,4,5,7,8,9]],diamond_data.iloc[:,6]\n",
    "diamond_features_train,diamond_features_test,diamond_pred_train,diamond_pred_test = train_test_split(diamond_features,diamond_pred,test_size = 0.02)\n",
    "\n",
    "\n",
    "diamond_norm = MinMaxScaler().fit(diamond_features_train)\n",
    "diamond_features_train_norm = diamond_norm.transform(diamond_features_train)\n",
    "diamond_features_test_norm = diamond_norm.transform(diamond_features_test)\n",
    "\n",
    "my_knn = knn()\n",
    "my_knn.fit(diamond_features_train_norm,diamond_pred_train,diamond_features_test_norm,diamond_pred_test,\"euclidean\",5,0)\n",
    "\"\"\"\n"
   ]
  },
  {
   "cell_type": "markdown",
   "metadata": {
    "id": "rdhlOuB_0xGr"
   },
   "source": [
    "1. b) Do we need to normalise data? [If so Does it make any difference?].\n"
   ]
  },
  {
   "cell_type": "code",
   "execution_count": null,
   "metadata": {
    "id": "0i3Q6iXF3IMj"
   },
   "outputs": [],
   "source": [
    "# give proper explanation\n",
    "If suppose there are 3 features for a dataset a,b and c and c generally occurs in multiples of 10 and b in multiples of 1.\n",
    "Then the distance between a point(0,1,10) and (0,2,10) is same as (0,1,10) and (0,1,20) . But if we calculate the distance then \n",
    "(0,1,10) and (0,1,20) will not be same . If we normalize the data then these points will be equidistant."
   ]
  },
  {
   "cell_type": "markdown",
   "metadata": {
    "id": "E5bPcmCj0xCn"
   },
   "source": [
    "2. Experiment with different distance measures[Euclidean distance, Manhattan distance, Hamming Distance] to handle categorical attributes."
   ]
  },
  {
   "cell_type": "code",
   "execution_count": 20,
   "metadata": {
    "id": "JVFgXFJM3I0m"
   },
   "outputs": [],
   "source": [
    "# show all the experiments\n",
    "\n",
    "#preprocessing of data\n",
    "\n",
    "\n",
    "diamond_data.cut.replace([\"Ideal\",\"Fair\",\"Good\",\"Very Good\",\"Premium\"],[1,2,3,4,5],inplace = True)\n",
    "diamond_data.color.replace([\"D\",\"E\",\"F\",\"G\",\"H\",\"I\",\"J\"],[7,6,5,4,3,2,1],inplace = True)\n",
    "diamond_data.clarity.replace([\"I1\",\"SI2\",\"SI1\",\"VS2\",\"VS1\",\"VVS2\",\"VVS1\",\"IF\"],[1,2,3,4,5,6,7,8],inplace = True)\n",
    "\n",
    "\n",
    "diamond_features,diamond_pred = diamond_data.iloc[:,[0,1,2,3,4,5,7,8,9]],diamond_data.iloc[:,6]\n",
    "diamond_features_train,diamond_features_test,diamond_pred_train,diamond_pred_test = train_test_split(diamond_features,diamond_pred,test_size = 0.02)\n",
    "\n",
    "\n",
    "diamond_norm = MinMaxScaler().fit(diamond_features_train)\n",
    "diamond_features_train_norm = diamond_norm.transform(diamond_features_train)\n",
    "diamond_features_test_norm = diamond_norm.transform(diamond_features_test)\n",
    "\n",
    "\n",
    "my_knn = knn()\n",
    "pred_manhattan = my_knn.fit(diamond_features_train_norm,diamond_pred_train,diamond_features_test_norm,diamond_pred_test,\"manhattan\",5,0)\n",
    "# #diamond_pred_test = diamond_pred_test.astype(int)\n",
    "\n",
    "my_knn_2 = knn()\n",
    "pred_euclidean = my_knn_2.fit(diamond_features_train_norm,diamond_pred_train,diamond_features_test_norm,diamond_pred_test,\"euclidean\",5,0)\n",
    "\n",
    "my_knn_3 = knn()\n",
    "pred_hamming = my_knn_3.fit(diamond_features_train_norm,diamond_pred_train,diamond_features_test_norm,diamond_pred_test,\"hamming\",5,0)\n",
    "\n",
    "\n",
    "#print(\"hi\")\n",
    "\n",
    "from sklearn.metrics import mean_squared_error\n",
    "from sklearn.metrics import mean_absolute_error\n",
    "from sklearn.metrics import r2_score\n",
    "\n",
    "mhtn_mse = mean_squared_error(diamond_pred_test,pred_manhattan,squared = False)\n",
    "mhtn_mae = mean_absolute_error(diamond_pred_test,pred_manhattan)\n",
    "mhtn_r2 = r2_score(diamond_pred_test,pred_manhattan)\n",
    "\n",
    "eucl_mse = mean_squared_error(diamond_pred_test,pred_euclidean,squared = False)\n",
    "eucl_mae = mean_absolute_error(diamond_pred_test,pred_euclidean)\n",
    "eucl_r2 = r2_score(diamond_pred_test,pred_euclidean)\n",
    "\n",
    "hamming_mse = mean_squared_error(diamond_pred_test,pred_hamming,squared = False)\n",
    "hamming_mae = mean_absolute_error(diamond_pred_test,pred_hamming)\n",
    "hamming_r2 = r2_score(diamond_pred_test,pred_hamming)\n",
    "\n",
    "\n",
    "#print(mhtn_mse,\" \",mhtn_mae,\" \",mhtn_r2)\n",
    "#print(eucl_mse,\" \",eucl_mae,\" \",eucl_r2)\n",
    "#print(hamming_mse,\" \",hamming_mae,\" \",hamming_r2)\n",
    "\n"
   ]
  },
  {
   "cell_type": "markdown",
   "metadata": {
    "id": "O64G_tqG0w_l"
   },
   "source": [
    "3. Report Mean Squared Error(MSE), Mean-Absolute-Error(MAE), R-squared (R2) score in a tabular form."
   ]
  },
  {
   "cell_type": "code",
   "execution_count": 21,
   "metadata": {
    "id": "1WGPbWa-3JY7"
   },
   "outputs": [
    {
     "name": "stdout",
     "output_type": "stream",
     "text": [
      "| Distance Metrics   |   Mean-Squared-Error |   Mean-Absolute-Error |   R-squared(R2) |\n",
      "|--------------------+----------------------+-----------------------+-----------------|\n",
      "| Manhattan          |             4036.11  |              2994.86  |      -0.0455652 |\n",
      "| Euclidean          |              613.781 |               335.906 |       0.97582   |\n",
      "| Hamming            |             2444.72  |              1169.98  |       0.616396  |\n"
     ]
    }
   ],
   "source": [
    "# report a table\n",
    "from tabulate import tabulate\n",
    "print(tabulate([['Manhattan',mhtn_mse,mhtn_mae,mhtn_r2],['Euclidean',eucl_mse,eucl_mae,eucl_r2],['Hamming',hamming_mse,hamming_mae,hamming_r2]], headers=['Distance Metrics','Mean-Squared-Error','Mean-Absolute-Error','R-squared(R2)', 'Age'], tablefmt='orgtbl'))"
   ]
  },
  {
   "cell_type": "markdown",
   "metadata": {
    "id": "MA2kN7dL0wjE"
   },
   "source": [
    "4.  a) Choose different K values (k=2,3,5,7,11,16) and experiment. Plot a graph showing R2 score vs k."
   ]
  },
  {
   "cell_type": "code",
   "execution_count": 22,
   "metadata": {
    "id": "Z3VSKWrU3KBT"
   },
   "outputs": [],
   "source": [
    "# plot\n",
    "\n",
    "k_values_list = [2,3,5,7,11,16]\n",
    "r2_list = []\n",
    "\n",
    "for k_value in k_values_list :\n",
    "    \n",
    "    my_knn = knn()\n",
    "    pred_euclidean = my_knn.fit(diamond_features_train_norm,diamond_pred_train,diamond_features_test_norm,diamond_pred_test,\"euclidean\",k_value,0)\n",
    "    r2_list.append(r2_score(diamond_pred_test,pred_euclidean))\n",
    "\n"
   ]
  },
  {
   "cell_type": "code",
   "execution_count": 23,
   "metadata": {},
   "outputs": [
    {
     "data": {
      "image/png": "[encoded data removed]",
      "text/plain": [
       "<Figure size 720x576 with 1 Axes>"
      ]
     },
     "metadata": {
      "needs_background": "light"
     },
     "output_type": "display_data"
    }
   ],
   "source": [
    "import matplotlib.pyplot as plt\n",
    "\n",
    "plt.plot(k_values_list,r2_list)\n",
    "plt.xlabel(\"K-Values for Knn\")\n",
    "plt.ylabel(\"R-Squared(R2) Error\")\n",
    "plt.title(\"Error For Different Values of K in KNN\")\n",
    "plt.show()"
   ]
  },
  {
   "cell_type": "markdown",
   "metadata": {
    "id": "xgkHg7QL1mzy"
   },
   "source": [
    "4. b) Are the R-squared scores the same? Why / Why not? How do we identify the best K? Suggest a computational procedure, with a logical explanation."
   ]
  },
  {
   "cell_type": "code",
   "execution_count": null,
   "metadata": {
    "id": "XmFoYY0q3Kyk"
   },
   "outputs": [],
   "source": [
    "# Explanation\n",
    "The R-square values are almost same . They range in between 0.96-0.98 . We can identify the best K which has highest\n",
    "R-square value . From the above graph we can say it is 5."
   ]
  },
  {
   "cell_type": "markdown",
   "metadata": {
    "id": "Psho4dHI1wXb"
   },
   "source": [
    "5. a) Also, report the performance of scikit-learn’s kNN regression algorithm.  "
   ]
  },
  {
   "cell_type": "code",
   "execution_count": 7,
   "metadata": {
    "id": "XmBOqvrm3Lkf"
   },
   "outputs": [
    {
     "name": "stdout",
     "output_type": "stream",
     "text": [
      "708.0589937825146   360.7828513162773   0.9684562005249442\n"
     ]
    }
   ],
   "source": [
    "# scikit-learn KNN Regressor\n",
    "from sklearn.neighbors import KNeighborsRegressor\n",
    "\n",
    "diamond_data_sk = diamond_data.copy()\n",
    "\n",
    "diamond_data_sk.cut.replace([\"Ideal\",\"Fair\",\"Good\",\"Very Good\",\"Premium\"],[1,2,3,4,5],inplace = True)\n",
    "diamond_data_sk.color.replace([\"D\",\"E\",\"F\",\"G\",\"H\",\"I\",\"J\"],[7,6,5,4,3,2,1],inplace = True)\n",
    "diamond_data_sk.clarity.replace([\"I1\",\"SI2\",\"SI1\",\"VS2\",\"VS1\",\"VVS2\",\"VVS1\",\"IF\"],[1,2,3,4,5,6,7,8],inplace = True)\n",
    "\n",
    "keys = [\"carat\",\"depth\",\"price\",\"table\",\"x\",\"y\",\"z\"]\n",
    "for x in keys:\n",
    "    diamond_data_sk[x] = [float(item) for item in diamond_data_sk[x]]\n",
    "    \n",
    "\n",
    "diamond_data_sk_features = diamond_data_sk.drop('price',axis=1)\n",
    "diamond_data_sk_ans = diamond_data_sk['price']\n",
    "\n",
    "diamond_sk_norm = MinMaxScaler().fit(diamond_data_sk_features)\n",
    "diamond_data_sk_features = diamond_norm.transform(diamond_data_sk_features)\n",
    "#diamond_features_test_norm = diamond_norm.transform(diamond_features_test)\n",
    "\n",
    "diamond_sk_train_features,diamond_sk_test_features,diamond_sk_train_ans,diamond_sk_test_pred = train_test_split(diamond_data_sk_features,diamond_data_sk_ans,test_size=0.2)\n",
    "# diamond_sk_train_features.to_numpy()\n",
    "# diamond_sk_train_ans.to_numpy()\n",
    "# diamond_sk_test_features.to_numpy()\n",
    "# diamond_sk_test_pred.to_numpy()\n",
    "\n",
    "diamond_sklearn_reg = KNeighborsRegressor(n_neighbors=5)\n",
    "\n",
    "diamond_sklearn_reg.fit(diamond_sk_train_features,diamond_sk_train_ans)\n",
    "sk_pred = diamond_sklearn_reg.predict(diamond_sk_test_features)\n",
    "mse_error = mean_squared_error(diamond_sk_test_pred,sk_pred,squared = False)\n",
    "mae_error = mean_absolute_error(diamond_sk_test_pred,sk_pred)\n",
    "r2_error = r2_score(diamond_sk_test_pred,sk_pred)\n",
    "\n",
    "print(mse_error,\" \",mae_error,\" \",r2_error)\n"
   ]
  },
  {
   "cell_type": "markdown",
   "metadata": {
    "id": "R7ZzdSUu2Iez"
   },
   "source": [
    "5. b) Compare it with the algorithm you built. [ you can use complexities, R2 score etc..]"
   ]
  },
  {
   "cell_type": "code",
   "execution_count": null,
   "metadata": {
    "id": "hmi9rZDF3MNB"
   },
   "outputs": [],
   "source": [
    "# Comparison\n",
    "When I have used \"euclidean distance\" as distance metric , I have got 0.97 as the R2 score for my knn .\n",
    "The KNeighbors Regressor of sklearn library got the R2 score of 0.96 ."
   ]
  },
  {
   "cell_type": "markdown",
   "metadata": {
    "id": "Xa-vbZfY2OFO"
   },
   "source": [
    "6. From the above experiments, what do you think are advantages and disadvantages of the knn regression algorithm?\n"
   ]
  },
  {
   "cell_type": "code",
   "execution_count": null,
   "metadata": {
    "id": "hDCRj4H93Mu8"
   },
   "outputs": [],
   "source": [
    "# report this  along with the experiments\n",
    "\n",
    "Advantages of KNN :- \n",
    "    \n",
    "1] Training time is zero\n",
    "2] Can easily add and remove data\n",
    "3] Very easy to implement\n",
    "\n",
    "Disadvantages of KNN :-\n",
    "    \n",
    "1] Scaling of the data is required for effective calculation of distance.\n",
    "2] Finding the K-nearest neighbours will be very slow as we have to calculate distance with every data point in the\n",
    "dataset.\n",
    "3] Finding the K-nearest neighbours will also be slow if we have many features.\n",
    "\n"
   ]
  },
  {
   "cell_type": "markdown",
   "metadata": {
    "id": "NlPGwmq2elOR"
   },
   "source": [
    "# **2)** **Linear Regression**\n",
    "\n",
    "Dataset - same as above (Diamond Price Detection)\n"
   ]
  },
  {
   "cell_type": "markdown",
   "metadata": {
    "id": "DB9Co3225uTa"
   },
   "source": [
    "2a) Implement a Linear Regression model (from the scratch) taking suitable independent variables from the dataset. \n",
    "\n",
    "Report and Calculate the error obtained.\n"
   ]
  },
  {
   "cell_type": "code",
   "execution_count": 67,
   "metadata": {
    "id": "wsckTq4zzxnx"
   },
   "outputs": [],
   "source": [
    "class my_linear_regression():\n",
    "    \n",
    "    def __init__(self,dummy=0) :\n",
    "        self.dummy = dummy\n",
    "    \n",
    "    def fit(self,training_features,predictions,learning_rate = 0.1,iterations = 50) :\n",
    "        \n",
    "        self.training_features = training_features\n",
    "        self.predictions = predictions\n",
    "        self.learning_rate = learning_rate\n",
    "        self.iterations = iterations\n",
    "        self._train()\n",
    "    \n",
    "    def _train(self) :\n",
    "        \n",
    "        x_train = self.training_features\n",
    "        x_train = np.transpose(x_train)\n",
    "        y_train = self.predictions\n",
    "        y_train = y_train.to_numpy()\n",
    "        #dummy_array_2 = np.reshape(dummy_array_2,(len(dummy_array_2),1))\n",
    "        y_train = np.reshape(y_train,(y_train.shape[0],1))\n",
    "        y_train = np.transpose(y_train)\n",
    "        #print(type(y_train))\n",
    "        #print(x_train.shape)\n",
    "        #print(y_train.shape)\n",
    "        \n",
    "        n = x_train.shape[0]\n",
    "        self.b = 0\n",
    "        self.w = np.random.randn(1,n)\n",
    "        cost_function = []\n",
    "        for i in range(self.iterations) :\n",
    "            #print(w.shape)\n",
    "            #print(x_train.shape)\n",
    "            z = np.dot(self.w,x_train)\n",
    "            z = z + self.b\n",
    "            #print(z.shape)\n",
    "            cost_array = z - y_train\n",
    "            cost_array = np.square(z-y_train)\n",
    "            overall_cost = np.sum(cost_array)\n",
    "            overall_cost = overall_cost / (2*y_train.shape[1])\n",
    "            #print(\"cost function in iteration \",(i+1),\" is\",overall_cost)\n",
    "            cost_function.append(overall_cost)\n",
    "            cost_array = z - y_train\n",
    "            cost_array = cost_array / (y_train.shape[1])\n",
    "            #print(cost_array.shape)\n",
    "            #print(self.training_features.shape)\n",
    "            slope_w = np.dot(cost_array,self.training_features)\n",
    "            correction_b = np.sum(slope_w)\n",
    "            slope_w = slope_w * self.learning_rate\n",
    "            self.w = self.w - slope_w\n",
    "            correction_b = self.learning_rate*correction_b\n",
    "            self.b = self.b - correction_b\n",
    "        \n",
    "        plt.plot(cost_function)\n",
    "        plt.grid()\n",
    "        plt.show()\n",
    "    \n",
    "    def predict(self,test_features):\n",
    "        \n",
    "        test_features = np.transpose(test_features)\n",
    "        test_predictions = np.dot(self.w,test_features)\n",
    "        test_predictions = test_predictions + self.b\n",
    "        test_predictions = np.transpose(test_predictions)\n",
    "        \n",
    "        return test_predictions"
   ]
  },
  {
   "cell_type": "code",
   "execution_count": 84,
   "metadata": {},
   "outputs": [
    {
     "data": {
      "image/png": "[encoded data removed]",
      "text/plain": [
       "<Figure size 432x288 with 1 Axes>"
      ]
     },
     "metadata": {
      "needs_background": "light"
     },
     "output_type": "display_data"
    },
    {
     "name": "stdout",
     "output_type": "stream",
     "text": [
      "1739.7867281770984   1189.891330660806   0.8095560664106326\n"
     ]
    }
   ],
   "source": [
    "my_regression = my_linear_regression()\n",
    "my_regression.fit(diamond_sk_train_features,diamond_sk_train_ans,0.4,550)\n",
    "algo_pred = my_regression.predict(diamond_sk_test_features)\n",
    "\n",
    "\n",
    "mse_error = mean_squared_error(diamond_sk_test_pred,algo_pred,squared = False)\n",
    "mae_error = mean_absolute_error(diamond_sk_test_pred,algo_pred)\n",
    "r2_error = r2_score(diamond_sk_test_pred,algo_pred)\n",
    "\n",
    "print(mse_error,\" \",mae_error,\" \",r2_error)"
   ]
  },
  {
   "cell_type": "markdown",
   "metadata": {
    "id": "6PUfKXGU6DQ2"
   },
   "source": [
    "2b) What are the best suitable features you used to predict the price of the dataset and Why?\n",
    "\n",
    "Idea: Use Correlation to get the suitable features and Report the values accordingly."
   ]
  },
  {
   "cell_type": "code",
   "execution_count": 85,
   "metadata": {
    "id": "nUVKOe6d6g2u"
   },
   "outputs": [
    {
     "data": {
      "image/png": "[encoded data removed]",
      "text/plain": [
       "<Figure size 432x288 with 1 Axes>"
      ]
     },
     "metadata": {
      "needs_background": "light"
     },
     "output_type": "display_data"
    },
    {
     "name": "stdout",
     "output_type": "stream",
     "text": [
      "1888.5400317396147   1288.1001457436791   0.7699982684640108\n"
     ]
    }
   ],
   "source": [
    "#code for Correlation between features and the Diamond Price.\n",
    "#.corr()\n",
    "\n",
    "column_head = list(diamond_data_sk.columns)\n",
    "column_head.remove('price')\n",
    "#diamond_data_sk_features.corr()\n",
    "corr_df = pd.DataFrame(diamond_data_sk_features,columns=column_head)\n",
    "corr_df.corr()\n",
    "corr_features_train,corr_features_test,corr_train_val,corr_test_val = train_test_split(corr_df,diamond_data_sk_ans,test_size=0.2)\n",
    "# print(corr_features_train.shape)\n",
    "# print(corr_train_val.shape)\n",
    "# print(corr_features_test.shape)\n",
    "# print(corr_test_val.shape)\n",
    "\n",
    "\n",
    "corr_model =  my_linear_regression()\n",
    "corr_model.fit(corr_features_train,corr_train_val,0.4,400)\n",
    "algo_pred_1 = corr_model.predict(corr_features_test)\n",
    "\n",
    "\n",
    "mse_error = mean_squared_error(corr_test_val,algo_pred_1,squared = False)\n",
    "mae_error = mean_absolute_error(corr_test_val,algo_pred_1)\n",
    "r2_error = r2_score(corr_test_val,algo_pred_1)\n",
    "\n",
    "print(mse_error,\" \",mae_error,\" \",r2_error)\n",
    "\n",
    "#carat value is correlated with x,y,z values of the dataset . So we can remove them and can use for prediction"
   ]
  },
  {
   "cell_type": "markdown",
   "metadata": {
    "id": "3QB-vCqz6u5z"
   },
   "source": [
    "Explanation for 2b) - "
   ]
  },
  {
   "cell_type": "markdown",
   "metadata": {
    "id": "NNDl68N26yY3"
   },
   "source": [
    "2c) Use the module Linear Regression from sklearn to predict the price of diamonds(considering the same attributes as before) and compare the result obtained with the above. \n"
   ]
  },
  {
   "cell_type": "code",
   "execution_count": 11,
   "metadata": {
    "id": "50xYhwND64tM"
   },
   "outputs": [
    {
     "data": {
      "text/plain": [
       "0.9059024569660248"
      ]
     },
     "execution_count": 11,
     "metadata": {},
     "output_type": "execute_result"
    }
   ],
   "source": [
    "# import sklearn model\n",
    "\n",
    "from sklearn.linear_model import LinearRegression\n",
    "corr_regressor = LinearRegression()\n",
    "#corr_features = corr_df.to_numpy()\n",
    "corr_regressor.fit(corr_features_train,corr_train_val)\n",
    "corr_regressor.score(corr_features_test,corr_test_val)"
   ]
  },
  {
   "cell_type": "markdown",
   "metadata": {
    "id": "121Z4wwx7CLk"
   },
   "source": [
    "2d) Now, using the whole dataset, predict the price of the Diamonds using the module of Linear Regression from sklearn. Report the changes you have observed compared to before? Adding extra features did it make the prediction better or worse.Comment? \n"
   ]
  },
  {
   "cell_type": "code",
   "execution_count": 12,
   "metadata": {
    "id": "Eo1pB2QB7Jqz"
   },
   "outputs": [
    {
     "data": {
      "text/plain": [
       "0.9013646279369397"
      ]
     },
     "execution_count": 12,
     "metadata": {},
     "output_type": "execute_result"
    }
   ],
   "source": [
    "normal_regressor = LinearRegression()\n",
    "normal_regressor.fit(diamond_sk_train_features,diamond_sk_train_ans)\n",
    "normal_regressor.score(diamond_sk_test_features,diamond_sk_test_pred)"
   ]
  },
  {
   "cell_type": "markdown",
   "metadata": {
    "id": "cAqKLuCh7qP5"
   },
   "source": [
    "2e) Now, compare the algorithms KNN regression and Linear Regression. What are the differences you have observed? Which is better and why. Your statements should be backed up with statistics. \n"
   ]
  },
  {
   "cell_type": "markdown",
   "metadata": {
    "id": "4Qb2nIZ171vI"
   },
   "source": [
    "Explanation - The R-square score for Linear Regression which I have created is 0.80 and for the K-NN value it is 0.97 . I believe that Linear Regression is than K-NN because I think there is overfitting of data in K-NN because of the high R-square value ."
   ]
  },
  {
   "cell_type": "markdown",
   "metadata": {
    "id": "vdAATTFJ8Lvn"
   },
   "source": [
    "2f) Plot the predicted values from KNN regression, Linear Regression and Actual Diamond Price.\n"
   ]
  },
  {
   "cell_type": "code",
   "execution_count": 83,
   "metadata": {
    "id": "Wts-tBCC8NiA"
   },
   "outputs": [],
   "source": [
    "#plot \n",
    "my_knn_4 = knn()\n",
    "pred_euclidean = my_knn_4.fit(diamond_features_train_norm,diamond_pred_train,diamond_features_test_norm,diamond_pred_test,\"euclidean\",16,0)\n",
    "\n"
   ]
  },
  {
   "cell_type": "code",
   "execution_count": 86,
   "metadata": {},
   "outputs": [
    {
     "data": {
      "image/png": "[encoded data removed]",
      "text/plain": [
       "<Figure size 432x288 with 1 Axes>"
      ]
     },
     "metadata": {
      "needs_background": "light"
     },
     "output_type": "display_data"
    }
   ],
   "source": [
    "plt.plot(pred_euclidean,label = \"KNN euclidean distance and 16 as neighbors\")\n",
    "plt.plot(algo_pred,label = \"Linear Regression \")\n",
    "plt.plot(diamond_sk_test_pred, label = \"Actual Prices\")\n",
    "plt.legend()\n",
    "plt.show()"
   ]
  },
  {
   "cell_type": "markdown",
   "metadata": {
    "id": "-PkRYsKTzzLM"
   },
   "source": [
    "#**KNN Classifier**"
   ]
  },
  {
   "cell_type": "markdown",
   "metadata": {
    "id": "Ve2icBQ8Zuqq"
   },
   "source": [
    "In this problem you are required to train, test and validate a K-Nearest Neighbor Classifier on the famous CIFAR-10 dataset. The next few cells will guide you through the process. Follow along..."
   ]
  },
  {
   "cell_type": "code",
   "execution_count": 2,
   "metadata": {
    "colab": {
     "base_uri": "https://localhost:8080/"
    },
    "id": "1BZZyZZ3bq-3",
    "outputId": "655938a7-a592-4ef1-d81d-88bdae0612d2"
   },
   "outputs": [],
   "source": [
    "# Run some setup code for this notebook.\n",
    "\n",
    "import random\n",
    "import numpy as np\n",
    "import matplotlib.pyplot as plt\n",
    "import os\n",
    "\n",
    "\n",
    "from __future__ import print_function\n",
    "\n",
    "from builtins import range\n",
    "from six.moves import cPickle as pickle\n",
    "from imageio import imread\n",
    "import platform\n",
    "\n",
    "# This is a bit of magic to make matplotlib figures appear inline in the notebook\n",
    "# rather than in a new window.\n",
    "%matplotlib inline\n",
    "plt.rcParams['figure.figsize'] = (10.0, 8.0) # set default size of plots\n",
    "plt.rcParams['image.interpolation'] = 'nearest'\n",
    "plt.rcParams['image.cmap'] = 'gray'\n",
    "\n",
    "# Some more magic so that the notebook will reload external python modules;\n",
    "# see http://stackoverflow.com/questions/1907993/autoreload-of-modules-in-ipython\n",
    "%load_ext autoreload\n",
    "%autoreload 2"
   ]
  },
  {
   "cell_type": "code",
   "execution_count": 3,
   "metadata": {
    "colab": {
     "base_uri": "https://localhost:8080/"
    },
    "id": "v9TLyifNd5eE",
    "outputId": "494f4c0b-e42f-4b31-8dac-b4ca23476088"
   },
   "outputs": [
    {
     "name": "stdout",
     "output_type": "stream",
     "text": [
      "--2021-02-09 16:06:55--  http://www.cs.toronto.edu/~kriz/cifar-10-python.tar.gz\n",
      "Resolving www.cs.toronto.edu (www.cs.toronto.edu)... 128.100.3.30\n",
      "Connecting to www.cs.toronto.edu (www.cs.toronto.edu)|128.100.3.30|:80... connected.\n",
      "HTTP request sent, awaiting response... 200 OK\n",
      "Length: 170498071 (163M) [application/x-gzip]\n",
      "Saving to: ‘cifar-10-python.tar.gz’\n",
      "\n",
      "cifar-10-python.tar 100%[===================>] 162.60M  1.76MB/s    in 83s     \n",
      "\n",
      "2021-02-09 16:08:18 (1.96 MB/s) - ‘cifar-10-python.tar.gz’ saved [170498071/170498071]\n",
      "\n",
      "cifar-10-batches-py/\n",
      "cifar-10-batches-py/data_batch_4\n",
      "cifar-10-batches-py/readme.html\n",
      "cifar-10-batches-py/test_batch\n",
      "cifar-10-batches-py/data_batch_3\n",
      "cifar-10-batches-py/batches.meta\n",
      "cifar-10-batches-py/data_batch_2\n",
      "cifar-10-batches-py/data_batch_5\n",
      "cifar-10-batches-py/data_batch_1\n"
     ]
    }
   ],
   "source": [
    "# Download the dataset\n",
    "!wget http://www.cs.toronto.edu/~kriz/cifar-10-python.tar.gz -O cifar-10-python.tar.gz\n",
    "!tar -xzvf cifar-10-python.tar.gz\n",
    "!rm cifar-10-python.tar.gz"
   ]
  },
  {
   "cell_type": "code",
   "execution_count": 4,
   "metadata": {
    "colab": {
     "base_uri": "https://localhost:8080/"
    },
    "id": "LUWUH9G8dsAi",
    "outputId": "cf91cc6e-f85b-4dd4-f2ef-1b2af45e023f"
   },
   "outputs": [
    {
     "name": "stdout",
     "output_type": "stream",
     "text": [
      "Training data shape:  (50000, 32, 32, 3)\n",
      "Training labels shape:  (50000,)\n",
      "Test data shape:  (10000, 32, 32, 3)\n",
      "Test labels shape:  (10000,)\n"
     ]
    }
   ],
   "source": [
    "# This cell loads the training and testing dataset. Please note the variables at\n",
    "# the end of the cell as you would require them to access the train/test data \n",
    "# and labels throughout the assignment\n",
    "def load_pickle(f):\n",
    "    version = platform.python_version_tuple()\n",
    "    if version[0] == '2':\n",
    "        return  pickle.load(f)\n",
    "    elif version[0] == '3':\n",
    "        return  pickle.load(f, encoding='latin1')\n",
    "    raise ValueError(\"invalid python version: {}\".format(version))\n",
    "  \n",
    "def load_CIFAR_batch(filename):\n",
    "    \"\"\" load single batch of cifar \"\"\"\n",
    "    with open(filename, 'rb') as f:\n",
    "        datadict = load_pickle(f)\n",
    "        X = datadict['data']\n",
    "        Y = datadict['labels']\n",
    "        X = X.reshape(10000, 3, 32, 32).transpose(0,2,3,1).astype(\"float\")\n",
    "        Y = np.array(Y)\n",
    "        return X, Y\n",
    "\n",
    "def load_CIFAR10(ROOT):\n",
    "    \"\"\" load all of cifar \"\"\"\n",
    "    xs = []\n",
    "    ys = []\n",
    "    for b in range(1,6):\n",
    "        f = os.path.join(ROOT, 'data_batch_%d' % (b, ))\n",
    "        X, Y = load_CIFAR_batch(f)\n",
    "        xs.append(X)\n",
    "        ys.append(Y)\n",
    "    Xtr = np.concatenate(xs)\n",
    "    Ytr = np.concatenate(ys)\n",
    "    del X, Y\n",
    "    Xte, Yte = load_CIFAR_batch(os.path.join(ROOT, 'test_batch'))\n",
    "    return Xtr, Ytr, Xte, Yte\n",
    "\n",
    "\n",
    "cifar10_dir = 'cifar-10-batches-py'\n",
    "\n",
    "# Cleaning up variables to prevent loading data multiple times\n",
    "try:\n",
    "   del X_train, y_train\n",
    "   del X_test, y_test\n",
    "   print('Clear previously loaded data.')\n",
    "except:\n",
    "   pass\n",
    "\n",
    "X_train, y_train, X_test, y_test = load_CIFAR10(cifar10_dir)\n",
    "\n",
    "# As a sanity check, we print out the size of the training and test data.\n",
    "print('Training data shape: ', X_train.shape)\n",
    "print('Training labels shape: ', y_train.shape)\n",
    "print('Test data shape: ', X_test.shape)\n",
    "print('Test labels shape: ', y_test.shape)"
   ]
  },
  {
   "cell_type": "markdown",
   "metadata": {
    "id": "ImbVaneln_Vo"
   },
   "source": [
    "Next we visualize the CIFAR-10 dataset. Although these functions are being written for you, we highly recommend you go through the code and make yourself familiar as these are things you will be required to do very often when working on AI/ML projects"
   ]
  },
  {
   "cell_type": "code",
   "execution_count": 5,
   "metadata": {
    "colab": {
     "base_uri": "https://localhost:8080/",
     "height": 476
    },
    "id": "JBiR9dSyn1mV",
    "outputId": "718a41fd-c239-416b-9b2d-0f1cc14fa84d"
   },
   "outputs": [
    {
     "data": {
      "image/png": "[encoded data removed]",
      "text/plain": [
       "<Figure size 720x576 with 70 Axes>"
      ]
     },
     "metadata": {
      "needs_background": "light"
     },
     "output_type": "display_data"
    }
   ],
   "source": [
    "# Visualize some examples from the dataset.\n",
    "# We show a few examples of training images from each class.\n",
    "classes = ['plane', 'car', 'bird', 'cat', 'deer', 'dog', 'frog', 'horse', 'ship', 'truck']\n",
    "num_classes = len(classes)\n",
    "samples_per_class = 7\n",
    "for y, cls in enumerate(classes):\n",
    "    idxs = np.flatnonzero(y_train == y)\n",
    "    idxs = np.random.choice(idxs, samples_per_class, replace=False)\n",
    "    for i, idx in enumerate(idxs):\n",
    "        plt_idx = i * num_classes + y + 1\n",
    "        plt.subplot(samples_per_class, num_classes, plt_idx)\n",
    "        plt.imshow(X_train[idx].astype('uint8'))\n",
    "        plt.axis('off')\n",
    "        if i == 0:\n",
    "            plt.title(cls)\n",
    "plt.show()"
   ]
  },
  {
   "cell_type": "markdown",
   "metadata": {
    "id": "3J80qrXPoaIx"
   },
   "source": [
    "In the next cell we flatten each image into a single dimensional vector so that it is easy to process. You should be able to reason about the dimensions comfortable."
   ]
  },
  {
   "cell_type": "code",
   "execution_count": 6,
   "metadata": {
    "colab": {
     "base_uri": "https://localhost:8080/"
    },
    "id": "-FoCgA3Xn9K6",
    "outputId": "c77de095-88d5-4ad3-ae63-17814637ceae"
   },
   "outputs": [
    {
     "name": "stdout",
     "output_type": "stream",
     "text": [
      "(5000, 3072) (500, 3072)\n"
     ]
    }
   ],
   "source": [
    "# Subsample the data for more efficient code execution in this exercise\n",
    "num_training = 5000\n",
    "mask = list(range(num_training))\n",
    "X_train = X_train[mask]\n",
    "y_train = y_train[mask]\n",
    "\n",
    "num_test = 500\n",
    "mask = list(range(num_test))\n",
    "X_test = X_test[mask]\n",
    "y_test = y_test[mask]\n",
    "\n",
    "# Reshape the image data into rows\n",
    "X_train = np.reshape(X_train, (X_train.shape[0], -1))\n",
    "X_test = np.reshape(X_test, (X_test.shape[0], -1))\n",
    "print(X_train.shape, X_test.shape)"
   ]
  },
  {
   "cell_type": "markdown",
   "metadata": {
    "id": "Atyl_HGcgmb5"
   },
   "source": [
    "In the next cell you are going to implement the main KNearestNeighbor class and keep adding functions to it as and when required in the subsequent steps."
   ]
  },
  {
   "cell_type": "code",
   "execution_count": 7,
   "metadata": {
    "id": "kGM_wB3Wmenb"
   },
   "outputs": [],
   "source": [
    "# You will keep coming back to this cell to add more functions as and when\n",
    "# required. Right now it is very simple!\n",
    "class KNearestNeighbor(object):\n",
    "    \"\"\" a kNN classifier with L2 distance \"\"\"\n",
    "\n",
    "    def __init__(self):\n",
    "        pass\n",
    "    \n",
    "    def train(self,train_features,train_classes):\n",
    "        \n",
    "        self.train_features = train_features\n",
    "        self.train_classes = train_classes\n",
    "\n",
    "    def compute_distances_two_loops(self,test_features):\n",
    "        square_of_features = np.square(self.train_features)\n",
    "        square_sum_of_features = np.sum(square_of_features,axis=1,keepdims = True)\n",
    "        square_of_test = np.square(test_features)\n",
    "        square_sum_of_test = np.sum(square_of_test,axis=1,keepdims = True)\n",
    "        transpose_of_train = self.train_features\n",
    "        transpose_of_train = np.transpose(transpose_of_train)\n",
    "        return_array = []\n",
    "        \n",
    "        for i in range(len(square_sum_of_test)):\n",
    "            dummy_array = np.array(square_sum_of_test[i])\n",
    "            dummy_array = np.resize(dummy_array,(len(square_sum_of_features),1))\n",
    "            dummy_array = dummy_array + square_sum_of_features\n",
    "            dummy_array_2 = test_features[i]\n",
    "            dummy_array_2 = np.array(dummy_array_2)\n",
    "            dummy_array_2 = np.dot(dummy_array_2,transpose_of_train)\n",
    "            dummy_array_2 = dummy_array_2 * 2\n",
    "            dummy_array_2 = np.reshape(dummy_array_2,(len(dummy_array_2),1))\n",
    "            dummy_array = dummy_array - dummy_array_2\n",
    "            dummy_array = np.abs(dummy_array)\n",
    "            dummy_array = np.sqrt(dummy_array)\n",
    "            dummy_array = np.transpose(dummy_array)\n",
    "            return_array.append(dummy_array)\n",
    "        \n",
    "        return pd.DataFrame(np.concatenate(return_array))\n",
    "    \n",
    "    \"\"\"\n",
    "    def predict_labels(self,dist,k=5):\n",
    "        \n",
    "        print(\"hi\")\n",
    "        return None\n",
    "        #our_pred_array = []\n",
    "        \n",
    "        for i in range(dist.shape[0]) :\n",
    "            arr = dist[i]\n",
    "            arr = np.array(arr)\n",
    "            print(arr.shape)\n",
    "            break\n",
    "            \n",
    "            idx = np.argpartition(arr,k,axis = 1)\n",
    "            \n",
    "            local_pred = []\n",
    "            for j in range(k) :\n",
    "                local_pred.append(self.train_classes[idx[j]])\n",
    "            \n",
    "            local_pred = np.array(local_pred)\n",
    "            counts = np.bincount(local_pred)\n",
    "            our_pred_array.append(np.argmax(counts))\n",
    "        #return np.array(our_pred_array)\n",
    "    \"\"\"\n",
    "        \n",
    "\n",
    "    def predict_labels(self,dist,k=5) :\n",
    "    \n",
    "        our_pred_array = []\n",
    "        \n",
    "        for i in range(dist.shape[0]):\n",
    "            arr = dist[i]\n",
    "            arr = np.array(arr)\n",
    "            idx = np.argpartition(arr,k,axis=0)\n",
    "            local_pred = []\n",
    "            for j in range(k):\n",
    "                local_pred.append(self.train_classes[idx[j]])\n",
    "            \n",
    "            local_pred = np.array(local_pred)\n",
    "            counts = np.bincount(local_pred)\n",
    "            our_pred_array.append(np.argmax(counts))\n",
    "            \n",
    "        return np.array(our_pred_array)\n",
    "        "
   ]
  },
  {
   "cell_type": "markdown",
   "metadata": {
    "id": "K0Rk36rKmwwK"
   },
   "source": [
    "Go back to KNearestNeighbor class and add a method to train the classifier. Your function will be called as below. In KNN classifier, this step is a simple memorization of the training data."
   ]
  },
  {
   "cell_type": "code",
   "execution_count": 8,
   "metadata": {
    "id": "MQy2OIH8nrPd"
   },
   "outputs": [],
   "source": [
    "# Make sure to add train() in the classifier class before executing this cell\n",
    "classifier = KNearestNeighbor()\n",
    "classifier.train(X_train, y_train)"
   ]
  },
  {
   "cell_type": "markdown",
   "metadata": {
    "id": "R3MZBeobnzN2"
   },
   "source": [
    "Go back to KNearestNeighbor class and add a method to compute distances between each pair of test image and train image. You can use two loops to do this. Remember we are using standard L-2 distance metric. Precisely your method should return a distance matrix($D$) where $D(i,j)$ = **L-2** distance between the $i^{th}$ test image and the $j^{th}$ train image. Your function will be called as below"
   ]
  },
  {
   "cell_type": "code",
   "execution_count": 11,
   "metadata": {
    "id": "r3ACfN_CqbPH"
   },
   "outputs": [
    {
     "name": "stdout",
     "output_type": "stream",
     "text": [
      "(500, 5000)\n"
     ]
    }
   ],
   "source": [
    "# Make sure to add compute_distances_two_loops() in the classifier class \n",
    "# before executing this cell\n",
    "dists = classifier.compute_distances_two_loops(X_test)\n",
    "print(dists.shape)"
   ]
  },
  {
   "cell_type": "markdown",
   "metadata": {
    "id": "-PbMeV5Qq2NZ"
   },
   "source": [
    "Next implement the function to predict labels. Again go back to the KNearestNeighbor class cell. Your function will be called as below"
   ]
  },
  {
   "cell_type": "code",
   "execution_count": 12,
   "metadata": {
    "id": "5F8wO5_GrSK6"
   },
   "outputs": [
    {
     "name": "stdout",
     "output_type": "stream",
     "text": [
      "Got 42 / 500 correct => accuracy: 0.084000\n"
     ]
    }
   ],
   "source": [
    "# Make sure to add predict_labels() in the classifier class \n",
    "# before executing this cell\n",
    "y_test_pred = classifier.predict_labels(dists, k=1)\n",
    "\n",
    "# Compute and print the fraction of correctly predicted examples\n",
    "num_correct = np.sum(y_test_pred == y_test)\n",
    "accuracy = float(num_correct) / num_test\n",
    "print('Got %d / %d correct => accuracy: %f' % (num_correct, num_test, accuracy))"
   ]
  },
  {
   "cell_type": "code",
   "execution_count": 13,
   "metadata": {
    "id": "3EfaDb59rcdq"
   },
   "outputs": [
    {
     "name": "stdout",
     "output_type": "stream",
     "text": [
      "Got 53 / 500 correct => accuracy: 0.106000 when used k as 3\n",
      "Got 49 / 500 correct => accuracy: 0.098000 when used k as 5\n",
      "Got 51 / 500 correct => accuracy: 0.102000 when used k as 7\n"
     ]
    }
   ],
   "source": [
    "# Use this cell to compute accuracies for k = 3, 5, 7\n",
    "y_test_pred_3 = classifier.predict_labels(dists,k=3)\n",
    "y_test_pred_5 = classifier.predict_labels(dists,k=5)\n",
    "y_test_pred_7 = classifier.predict_labels(dists,k=7)\n",
    "\n",
    "num_correct = np.sum(y_test_pred_3 == y_test)\n",
    "accuracy = float(num_correct) / num_test\n",
    "print('Got %d / %d correct => accuracy: %f when used k as 3' % (num_correct, num_test, accuracy))\n",
    "\n",
    "num_correct = np.sum(y_test_pred_5 == y_test)\n",
    "accuracy = float(num_correct) / num_test\n",
    "print('Got %d / %d correct => accuracy: %f when used k as 5' % (num_correct, num_test, accuracy))\n",
    "\n",
    "num_correct = np.sum(y_test_pred_7 == y_test)\n",
    "accuracy = float(num_correct) / num_test\n",
    "print('Got %d / %d correct => accuracy: %f when used k as 7' % (num_correct, num_test, accuracy))"
   ]
  },
  {
   "cell_type": "markdown",
   "metadata": {
    "id": "tcR0kTEWsDDj"
   },
   "source": [
    "Now we have a basic classifier ready but it is extremely inefficient. In Machine Learning writing vectorised code is one of the most important skills. \n",
    "\n",
    "Now you have to again go back to the KNearestNeighbor class cell and add functions to compute the distance matrix using:\n",
    "1.   single loop\n",
    "2.   no loops\n",
    "\n",
    "From here onwards we won't do as much hand holding as done before. You are expected to write all the code from scratch\n",
    "\n"
   ]
  },
  {
   "cell_type": "code",
   "execution_count": 17,
   "metadata": {
    "id": "E-RvqyKWtZpp"
   },
   "outputs": [
    {
     "name": "stdout",
     "output_type": "stream",
     "text": [
      "Time Taken to compute when k=3 is  0.03696107864379883\n",
      "Time Taken to compute when k=5 is  0.03027939796447754\n",
      "Time Taken to compute when k=7 is  0.023533344268798828\n"
     ]
    }
   ],
   "source": [
    "# Use this cell to call the functions\n",
    "\n",
    "\n",
    "\n"
   ]
  },
  {
   "cell_type": "markdown",
   "metadata": {
    "id": "1J8F3PB3tgPf"
   },
   "source": [
    "Next, you are required to tabulate the time taken to compute the distance matrix using each of the three above methods implemented for k = 1, 3, 5, 7."
   ]
  },
  {
   "cell_type": "code",
   "execution_count": 24,
   "metadata": {
    "id": "N2_Fyhk6t36f"
   },
   "outputs": [
    {
     "name": "stdout",
     "output_type": "stream",
     "text": [
      "Time Taken to compute when k=3 is  0.03759932518005371 and test data size is  500\n",
      "Time Taken to compute when k=5 is  0.03382444381713867  and test data size is  500\n",
      "Time Taken to compute when k=7 is  0.023112773895263672  and test data size is  500\n"
     ]
    }
   ],
   "source": [
    "# Use this cell to present your timing results for computing distance matrix\n",
    "\n",
    "import time \n",
    "\n",
    "start_time = time.time()\n",
    "y_test_pred_3 = classifier.predict_labels(dists,k=3)\n",
    "end_time = time.time()\n",
    "\n",
    "print(\"Time Taken to compute when k=3 is \",end_time-start_time,\"and test data size is \",y_test.shape[0])\n",
    "\n",
    "start_time = time.time()\n",
    "y_test_pred_5 = classifier.predict_labels(dists,k=5)\n",
    "end_time = time.time()\n",
    "\n",
    "print(\"Time Taken to compute when k=5 is \",end_time-start_time,\" and test data size is \",y_test.shape[0])\n",
    "\n",
    "start_time = time.time()\n",
    "y_test_pred_7 = classifier.predict_labels(dists,k=7)\n",
    "end_time = time.time()\n",
    "\n",
    "print(\"Time Taken to compute when k=7 is \",end_time-start_time,\" and test data size is \",y_test.shape[0])"
   ]
  },
  {
   "cell_type": "markdown",
   "metadata": {
    "id": "Tw0j1o8JuBZu"
   },
   "source": [
    "As you can see that in KNN algorithm it is important to tune the hyperparameter K. We will do this using Cross Validation Leave One Out approach. The idea is to split the train set into few folds(here we recommend you to set the fold number to 5). Then, for each value of K, we leave one of these folds out to evaluate performance but use the others to train. Repeat this by leaving each fold out once. You will get 5 accuracies in this case, one for leaving out each fold. Depending on the average accuracy decide on the optimal value of K. Report the same. We also expect you to present plots showing the average accuracy and standard deviation for each value of K."
   ]
  },
  {
   "cell_type": "code",
   "execution_count": null,
   "metadata": {
    "id": "JwKY3D05vw4h"
   },
   "outputs": [],
   "source": [
    "# Use this cell to implement Cross Validation"
   ]
  },
  {
   "cell_type": "markdown",
   "metadata": {
    "id": "JvpBcX8av5P1"
   },
   "source": [
    "In this last part of the notebook you are expected to do the following and present appropriate reports/results:\n",
    "\n",
    "1. Try subtracting the mean from each pixel in each image. This mean is computed across all pixels in all images. Report accuracies on the test set for k = 1,3,5,7. Is there any change in the accuracy? Why?\n",
    "2. Try subtracting the mean from each pixel in each image. This mean is computed across all pixels at that position from all images. Report accuracies on the test set for k = 1,3,5,7. Is there any change in the accuracy? Why?\n",
    "3. What is the time complexity of training using KNN classifier? What is the time complexity while testing? Is KNN a linear classifier or can it learn any boundary?\n",
    "4. Bonus: Explore what image features you can use to better the performance of KNN classifier.\n",
    "\n",
    "\n"
   ]
  },
  {
   "cell_type": "markdown",
   "metadata": {
    "id": "6poNZp96z1gN"
   },
   "source": [
    "# **Decision Trees**\n",
    "\n",
    "The Wisconsin Breast Cancer Dataset(WBCD) can be found here(https://archive.ics.uci.edu/ml/machine-learning-databases/breast-cancer-wisconsin/breast-cancer-wisconsin.data)\n",
    "\n",
    "This dataset describes the characteristics of the cell nuclei of various patients with and without breast cancer. The task is to classify a decision tree to predict if a patient has a benign or a malignant tumour based on these features.\n",
    "\n",
    "Attribute Information:\n",
    "```\n",
    "#  Attribute                     Domain\n",
    "   -- -----------------------------------------\n",
    "   1. Sample code number            id number\n",
    "   2. Clump Thickness               1 - 10\n",
    "   3. Uniformity of Cell Size       1 - 10\n",
    "   4. Uniformity of Cell Shape      1 - 10\n",
    "   5. Marginal Adhesion             1 - 10\n",
    "   6. Single Epithelial Cell Size   1 - 10\n",
    "   7. Bare Nuclei                   1 - 10\n",
    "   8. Bland Chromatin               1 - 10\n",
    "   9. Normal Nucleoli               1 - 10\n",
    "  10. Mitoses                       1 - 10\n",
    "  11. Class:                        (2 for benign, 4 for malignant)\n",
    "```\n"
   ]
  },
  {
   "cell_type": "code",
   "execution_count": 4,
   "metadata": {
    "id": "q14LTptiDDZ4"
   },
   "outputs": [
    {
     "data": {
      "text/html": [
       "<div>\n",
       "<style scoped>\n",
       "    .dataframe tbody tr th:only-of-type {\n",
       "        vertical-align: middle;\n",
       "    }\n",
       "\n",
       "    .dataframe tbody tr th {\n",
       "        vertical-align: top;\n",
       "    }\n",
       "\n",
       "    .dataframe thead th {\n",
       "        text-align: right;\n",
       "    }\n",
       "</style>\n",
       "<table border=\"1\" class=\"dataframe\">\n",
       "  <thead>\n",
       "    <tr style=\"text-align: right;\">\n",
       "      <th></th>\n",
       "      <th>CT</th>\n",
       "      <th>UCSize</th>\n",
       "      <th>UCShape</th>\n",
       "      <th>MA</th>\n",
       "      <th>SECSize</th>\n",
       "      <th>BN</th>\n",
       "      <th>BC</th>\n",
       "      <th>NN</th>\n",
       "      <th>Mitoses</th>\n",
       "      <th>Diagnosis</th>\n",
       "    </tr>\n",
       "  </thead>\n",
       "  <tbody>\n",
       "    <tr>\n",
       "      <th>0</th>\n",
       "      <td>5</td>\n",
       "      <td>1</td>\n",
       "      <td>1</td>\n",
       "      <td>1</td>\n",
       "      <td>2</td>\n",
       "      <td>1.0</td>\n",
       "      <td>3</td>\n",
       "      <td>1</td>\n",
       "      <td>1</td>\n",
       "      <td>2</td>\n",
       "    </tr>\n",
       "    <tr>\n",
       "      <th>1</th>\n",
       "      <td>5</td>\n",
       "      <td>4</td>\n",
       "      <td>4</td>\n",
       "      <td>5</td>\n",
       "      <td>7</td>\n",
       "      <td>10.0</td>\n",
       "      <td>3</td>\n",
       "      <td>2</td>\n",
       "      <td>1</td>\n",
       "      <td>2</td>\n",
       "    </tr>\n",
       "    <tr>\n",
       "      <th>2</th>\n",
       "      <td>3</td>\n",
       "      <td>1</td>\n",
       "      <td>1</td>\n",
       "      <td>1</td>\n",
       "      <td>2</td>\n",
       "      <td>2.0</td>\n",
       "      <td>3</td>\n",
       "      <td>1</td>\n",
       "      <td>1</td>\n",
       "      <td>2</td>\n",
       "    </tr>\n",
       "    <tr>\n",
       "      <th>3</th>\n",
       "      <td>6</td>\n",
       "      <td>8</td>\n",
       "      <td>8</td>\n",
       "      <td>1</td>\n",
       "      <td>3</td>\n",
       "      <td>4.0</td>\n",
       "      <td>3</td>\n",
       "      <td>7</td>\n",
       "      <td>1</td>\n",
       "      <td>2</td>\n",
       "    </tr>\n",
       "    <tr>\n",
       "      <th>4</th>\n",
       "      <td>4</td>\n",
       "      <td>1</td>\n",
       "      <td>1</td>\n",
       "      <td>3</td>\n",
       "      <td>2</td>\n",
       "      <td>1.0</td>\n",
       "      <td>3</td>\n",
       "      <td>1</td>\n",
       "      <td>1</td>\n",
       "      <td>2</td>\n",
       "    </tr>\n",
       "  </tbody>\n",
       "</table>\n",
       "</div>"
      ],
      "text/plain": [
       "   CT  UCSize  UCShape  MA  SECSize    BN  BC  NN  Mitoses  Diagnosis\n",
       "0   5       1        1   1        2   1.0   3   1        1          2\n",
       "1   5       4        4   5        7  10.0   3   2        1          2\n",
       "2   3       1        1   1        2   2.0   3   1        1          2\n",
       "3   6       8        8   1        3   4.0   3   7        1          2\n",
       "4   4       1        1   3        2   1.0   3   1        1          2"
      ]
     },
     "execution_count": 4,
     "metadata": {},
     "output_type": "execute_result"
    }
   ],
   "source": [
    "import pandas as pd\n",
    "import sklearn\n",
    "from sklearn.model_selection import train_test_split\n",
    "\n",
    "headers = [\"ID\",\"CT\",\"UCSize\",\"UCShape\",\"MA\",\"SECSize\",\"BN\",\"BC\",\"NN\",\"Mitoses\",\"Diagnosis\"]\n",
    "data = pd.read_csv('breast-cancer-wisconsin.data', na_values='?',    \n",
    "         header=None, index_col=['ID'], names = headers) \n",
    "data = data.reset_index(drop=True)\n",
    "data = data.fillna(0)\n",
    "data.describe()\n",
    "data.head()"
   ]
  },
  {
   "cell_type": "markdown",
   "metadata": {
    "id": "eo1BRpN8-jFd"
   },
   "source": [
    "1. a) Implement a decision tree(from scratch using only python data structures) as a class."
   ]
  },
  {
   "cell_type": "code",
   "execution_count": 87,
   "metadata": {
    "id": "SZ2-nGGPz3WK"
   },
   "outputs": [
    {
     "ename": "IndentationError",
     "evalue": "unexpected indent (<ipython-input-87-df152ed8a193>, line 48)",
     "output_type": "error",
     "traceback": [
      "\u001b[0;36m  File \u001b[0;32m\"<ipython-input-87-df152ed8a193>\"\u001b[0;36m, line \u001b[0;32m48\u001b[0m\n\u001b[0;31m    \"\"\"\u001b[0m\n\u001b[0m    ^\u001b[0m\n\u001b[0;31mIndentationError\u001b[0m\u001b[0;31m:\u001b[0m unexpected indent\n"
     ]
    }
   ],
   "source": [
    "\"\"\"\n",
    "import pandas as pd\n",
    "import numpy as np\n",
    "\n",
    "class Node :\n",
    "    \n",
    "    def __init__(self,max_pred_class) :\n",
    "        \n",
    "        self.left_node = None\n",
    "        self.right_node = None\n",
    "        self.max_pred_class = max_pred_class\n",
    "        self.threshold = 0\n",
    "        self.feature_index = 0\n",
    "        \n",
    "\n",
    "class DecisionTree :\n",
    "    \n",
    "    def __init__(self,metrics) :\n",
    "        \n",
    "        #self.df = df\n",
    "        self.metrics = metrics\n",
    "    \n",
    "    def _split_features(self,features,prediction):\n",
    "        \n",
    "        if len(prediction) < 2 :\n",
    "            return None,None\n",
    "        \n",
    "        total_sample_size = len(prediction)\n",
    "        \n",
    "        count_list = []\n",
    "        for i in self.labels :\n",
    "            count_list.append(int(np.sum(prediction == i)))\n",
    "        \n",
    "        if self.metrics == \"gini_index\" :\n",
    "            #print(\"hi\")\n",
    "            \n",
    "            overall_gini_index = 1\n",
    "            for num in count_list :\n",
    "                \n",
    "                sq = (num/total_sample_size)**2\n",
    "                overall_gini_index = overall_gini_index - sq\n",
    "            \n",
    "            #print(overall_gini_index)\n",
    "            \n",
    "            return_index = None\n",
    "            return_threshold = None\n",
    "            \"\"\"\n",
    "            \"\"\"\n",
    "            for i in range (self.features.shape[1]) :\n",
    "                thres,classes = zip(*sorted(zip(features[:, i], prediction)))\n",
    "                print(thres)\n",
    "                print(classes)\n",
    "                print(\"------\")\n",
    "            \"\"\"\n",
    "            \"\"\"\n",
    "        \n",
    "            \n",
    "        elif self.metrics == \"entropy\" :\n",
    "            print(\"entropy\")\n",
    "        \n",
    "        return None,None\n",
    "    \n",
    "    def _build_decision_tree(self,features,prediction,node_depth = 1) :\n",
    "        \n",
    "        sample_per_label = []\n",
    "        for i in self.labels :\n",
    "            #print(np.sum(self.prediction == i),\" \",i)\n",
    "            sample_per_label.append(np.sum(prediction == i))\n",
    "        \n",
    "        max_class = np.argmax(sample_per_label) #returns index number , match it with self.labels\n",
    "        max_class = list(self.labels)[max_class]\n",
    "        #print(max_class)\n",
    "        node = Node(max_class)\n",
    "        \n",
    "        if node_depth <= self.max_depth :\n",
    "            \n",
    "            index_split , threshold_value = self._split_features(features,prediction)\n",
    "        \n",
    "        \n",
    "        \n",
    "            \n",
    "    \n",
    "    def fit(self,features,prediction,max_depth = 100) :\n",
    "        \n",
    "        #prediction col name must be \"label\"\n",
    "        prediction.columns = [\"label\"]\n",
    "        #print(len(set(prediction.label.unique())))\n",
    "        #print(features.shape[1])\n",
    "        self.features = features\n",
    "        self.prediction = prediction\n",
    "        self.classes = len(set(prediction.label.unique()))\n",
    "        self.labels = list(set(prediction.label.unique()))\n",
    "        self.features_shape = features.shape[1]\n",
    "        self.max_depth = max_depth\n",
    "        self.tree = self._build_decision_tree(features,prediction)\n",
    "        \n",
    "        \n",
    "\n",
    "    \n",
    "\n",
    "\n",
    "x,y = data.iloc[:,:-1],data.iloc[:,[-1]]\n",
    "x_train,x_test,y_train,y_test = train_test_split(x,y,test_size = 0.25)\n",
    "\n",
    "decision_tree = DecisionTree(\"gini_index\")\n",
    "decision_tree.fit(x_train,y_train)\n",
    "\"\"\""
   ]
  },
  {
   "cell_type": "code",
   "execution_count": 64,
   "metadata": {},
   "outputs": [],
   "source": [
    "import numpy as np\n",
    "class decision_tree_node :\n",
    "    \n",
    "    def __init__(self,left_branch=None,right_branch = None,best_split = [],leaf = 0,ans = None):\n",
    "        \n",
    "        self.leaf = leaf\n",
    "        \n",
    "        if self.leaf == 0 :\n",
    "            self.left_branch = left_branch\n",
    "            self.right_branch = right_branch\n",
    "            self.best_split = best_split\n",
    "        \n",
    "        else :\n",
    "            self.best_split = best_split\n",
    "            self.ans = ans\n",
    "class decision_tree :\n",
    "    \n",
    "    def __init__(self,dummy = 0) :\n",
    "        self.dummy = dummy\n",
    "        self.root_node = None\n",
    "    \n",
    "    def fit(self,train_data,metrics = \"gini\",max_depth = 5) :\n",
    "        self.train_data = train_data\n",
    "        self.metrics = metrics\n",
    "        self.max_depth = max_depth\n",
    "        self.columns = list(self.train_data.columns)\n",
    "        \n",
    "        #print(self.train_data['labels'].value_counts())\n",
    "        \n",
    "        #if self.metrics == \"gini\" :\n",
    "        self.root_node = self._build_tree(self.train_data,0)\n",
    "           \n",
    "    \n",
    "    def _build_tree(self,train_data,depth) :\n",
    "        \n",
    "        if depth >= self.max_depth :\n",
    "            \n",
    "            #print(\"Max depth ans \",train_data['labels'].value_counts().idxmax())\n",
    "            return decision_tree_node(leaf = 1,ans = int(train_data['labels'].value_counts().idxmax()))\n",
    "        \n",
    "        if self._is_single_class(train_data) == True :\n",
    "            \n",
    "            #print(\"Single class \",train_data['labels'].value_counts().idxmax())\n",
    "            return decision_tree_node(leaf = 1, ans = int(train_data['labels'].value_counts().idxmax()))\n",
    "        \n",
    "        #best_gini,best_split = self._find_best_split_gini(train_data)\n",
    "        best_gain,best_split = self._find_best_split(train_data)\n",
    "        \n",
    "        if best_gain == 0:\n",
    "            \n",
    "            #print(\"best gini \",best_split[1])\n",
    "            return decision_tree_node(leaf = 1,ans = int(best_split[1]))\n",
    "        \n",
    "        left_rows,right_rows = self._split_data(train_data,best_split[0],best_split[1])\n",
    "        \n",
    "        left_node = self._build_tree(left_rows,depth+1)\n",
    "        right_node = self._build_tree(right_rows,depth+1)\n",
    "        \n",
    "        return decision_tree_node(left_branch = left_node,right_branch = right_node,best_split = best_split)\n",
    "        \n",
    "        \n",
    "    def _is_single_class(self,training_data) :\n",
    "        \n",
    "        if len(training_data['labels'].unique()) == 1 :\n",
    "            return True\n",
    "        \n",
    "        return False\n",
    "    \n",
    "    def _find_best_split(self,training_data) :\n",
    "        \n",
    "        \"\"\"\n",
    "        data_set_impurity = 1\n",
    "        \n",
    "        label_counts = training_data['labels'].value_counts()\n",
    "        label_counts = dict(label_counts)\n",
    "        for lbl in label_counts :\n",
    "            #print(lbl,\" \",label_counts[lbl])\n",
    "            prob = label_counts[lbl]/len(training_data)\n",
    "            prob = prob ** 2\n",
    "            data_set_impurity = data_set_impurity - prob\n",
    "        \n",
    "        \"\"\"\n",
    "        \n",
    "        #data_set_impurity = self._find_impurity(training_data)\n",
    "        best_gain = 1\n",
    "        best_split = []\n",
    "        number_of_features = training_data.shape[1]-1\n",
    "        #print(number_of_features)\n",
    "        count = -1\n",
    "        for col in training_data.columns :\n",
    "            count = count + 1\n",
    "            if count == number_of_features :\n",
    "                break\n",
    "            unique_values = training_data[col].unique()\n",
    "            for val in unique_values :\n",
    "                \n",
    "                less_data , greater_data = self._split_data(training_data,count,val)\n",
    "                \n",
    "                if len(less_data) == 0 or len(greater_data) == 0 :\n",
    "                    continue\n",
    "                \n",
    "                #gain_by_split = self._info_gain(less_data,greater_data,data_set_impurity)\n",
    "                gain_by_split = self._find_impurity(training_data)\n",
    "                \n",
    "                if gain_by_split < best_gain :\n",
    "                    best_gain = gain_by_split\n",
    "                    best_split = [count,val]\n",
    "                \n",
    "        \n",
    "        return best_gain,best_split\n",
    "        #print(best_gain)\n",
    "        #print(best_split)\n",
    " \n",
    "    def _info_gain(self,less_data,greater_data,data_set_impurity) :\n",
    "        \n",
    "        \"\"\"\n",
    "        \n",
    "        less_prob = less_data.shape[0]/(less_data.shape[0]+greater_data.shape[0])\n",
    "        \n",
    "        data_set_impurity = data_set_impurity - (less_prob * self._find_impurity(less_data))\n",
    "        less_prob = 1 - less_prob\n",
    "        data_set_impurity = data_set_impurity - (less_prob * self._find_impurity(greater_data))\n",
    "        \n",
    "        return data_set_impurity\n",
    "        \"\"\"\n",
    "        pass\n",
    "        \n",
    "    def _find_impurity(self,training_data):\n",
    "        \n",
    "        \"\"\"\"\n",
    "        data_set_impurity = 1\n",
    "        \n",
    "        label_counts = training_data['labels'].value_counts()\n",
    "        label_counts = dict(label_counts)\n",
    "        for lbl in label_counts :\n",
    "            #print(lbl,\" \",label_counts[lbl])\n",
    "            prob = label_counts[lbl]/len(training_data)\n",
    "            prob = prob ** 2\n",
    "            data_set_impurity = data_set_impurity - prob\n",
    "        \n",
    "        return data_set_impurity\n",
    "        \"\"\"\n",
    "        \n",
    "        values,count = np.unique(training_data['labels'],return_counts = True)\n",
    "        p = count/count.sum()\n",
    "        \n",
    "        if self.metrics == \"gini\" :\n",
    "            #values,count = np.unique(training_data['labels'],return_counts = True)\n",
    "            #p = count/count.sum()\n",
    "            return (1-np.sum(p**2))\n",
    "        \n",
    "        if self.metrics == \"missclassification\" :\n",
    "            return (1 - np.max(p))\n",
    "        \n",
    "        #values,count = np.unique(training_)\n",
    "        \n",
    "        if self.metrics == \"entropy\" :\n",
    "            \n",
    "            return sum(p* - np.log2(p))\n",
    "        \n",
    "    def _split_data(self,training_data,col_num,val):\n",
    "        \n",
    "        #print(col_num)\n",
    "        #print(val)\n",
    "        \n",
    "        less_data = []\n",
    "        greater_data = []\n",
    "        for i in range(training_data.shape[0]) :\n",
    "            #print(training_data.iloc[i])\n",
    "            list1 = list(training_data.iloc[i])\n",
    "            #print(list1)\n",
    "            if list1[col_num] >= val :\n",
    "                \n",
    "                greater_data.append(training_data.iloc[i])\n",
    "            \n",
    "            else :\n",
    "                \n",
    "                less_data.append(training_data.iloc[i])\n",
    "\n",
    "        \n",
    "        return pd.DataFrame(less_data,columns = training_data.columns),pd.DataFrame(greater_data,columns = training_data.columns)\n",
    "    \n",
    "    \n",
    "    def print_tree(self,file_pointer):\n",
    "        \n",
    "        if self.root_node == None :\n",
    "            \n",
    "            print(\"NO tree\")\n",
    "        \n",
    "        else :\n",
    "            \n",
    "            self._print_tree_2(self.root_node,file_pointer)\n",
    "    \n",
    "    def _print_tree_2(self,root_node,file_pointer,spacing = \"\"):\n",
    "        \n",
    "        if root_node.leaf == 1 :\n",
    "            \n",
    "            #print_str = \" \".join(root_node.best_split)\n",
    "            \n",
    "            \n",
    "            if len(root_node.best_split) == 2 :\n",
    "                print_str = spacing + str(root_node.best_split[0])+ \" \"+str(root_node.best_split[1])\n",
    "                #print(print_str)\n",
    "                file_pointer.write(print_str+\"\\n\")\n",
    "            \n",
    "            else :\n",
    "                print_str = spacing + str(root_node.ans)\n",
    "                #print(print_str)\n",
    "                file_pointer.write(print_str+\"\\n\")\n",
    "        else :\n",
    "            \n",
    "            \n",
    "            #print_str = spacing+\"  \" + str(root_node.best_split[0])+\" \"+str(root_node.best_split[1])\n",
    "            print_str = spacing + \"Is \"+str(self.columns[root_node.best_split[0]])+\" >= \" +str(root_node.best_split[1])\n",
    "            #print(print_str)\n",
    "            #print(spacing+\"False Branch\")\n",
    "            file_pointer.write(print_str+\"\\n\")\n",
    "            file_pointer.write(spacing+\"False Branch\"+\"\\n\")\n",
    "            self._print_tree_2(root_node.left_branch,file_pointer,spacing = spacing + \"\\t\")\n",
    "            #print(spacing+\"True Branch\")\n",
    "            file_pointer.write(spacing+\"True Branch\"+\"\\n\")\n",
    "            self._print_tree_2(root_node.right_branch,file_pointer,spacing = spacing+\"\\t\")\n",
    "            \n",
    "        \n",
    "    def predict(self,test_data) :\n",
    "        \n",
    "        pred = []\n",
    "        \n",
    "        for i in range(test_data.shape[0]):\n",
    "            pred.append(self._predict_class(list(test_data.iloc[i]),self.root_node))\n",
    "            #break\n",
    "        \n",
    "        return np.array(pred)\n",
    "    \n",
    "    def _predict_class(self,test_data,root_node):\n",
    "        \n",
    "        if root_node.leaf == 1 :\n",
    "            \n",
    "            return root_node.ans\n",
    "        \n",
    "        col_num = int(root_node.best_split[0])\n",
    "        col_val = int(root_node.best_split[1])\n",
    "        \n",
    "        if test_data[col_num] >= col_val :\n",
    "            \n",
    "            return self._predict_class(test_data,root_node.right_branch)\n",
    "        \n",
    "        return self._predict_class(test_data,root_node.left_branch)\n",
    "        \n",
    "        \n"
   ]
  },
  {
   "cell_type": "markdown",
   "metadata": {
    "id": "N8tisI0rABrd"
   },
   "source": [
    "1. b) Train a decision tree object of the above class on the WBC dataset using misclassification rate, entropy and Gini as the splitting metrics."
   ]
  },
  {
   "cell_type": "code",
   "execution_count": 61,
   "metadata": {
    "id": "PM_O8jULEVn2"
   },
   "outputs": [
    {
     "name": "stderr",
     "output_type": "stream",
     "text": [
      "<ipython-input-61-9979938ea1d9>:3: SettingWithCopyWarning: \n",
      "A value is trying to be set on a copy of a slice from a DataFrame.\n",
      "Try using .loc[row_indexer,col_indexer] = value instead\n",
      "\n",
      "See the caveats in the documentation: https://pandas.pydata.org/pandas-docs/stable/user_guide/indexing.html#returning-a-view-versus-a-copy\n",
      "  x_train['labels'] = y_train\n"
     ]
    }
   ],
   "source": [
    "x,y = data.iloc[:,:-1],data.iloc[:,[-1]]\n",
    "x_train,x_test,y_train,y_test = train_test_split(x,y,test_size = 0.25)\n",
    "x_train['labels'] = y_train\n",
    "\n",
    "# decision_tree_gini = decision_tree()\n",
    "# decision_tree_gini.fit(x_train,\"gini\")\n",
    "# pred_dt_gini = decision_tree_gini.predict(x_test)\n",
    "\n",
    "# decision_tree_miss = decision_tree()\n",
    "# decision_tree_miss.fit(x_train,\"missclassification\",max_depth = 6)\n",
    "# pred_dt_miss = decision_tree_miss.predict(x_test)\n",
    "\n",
    "# decision_tree_entropy = decision_tree()\n",
    "# decision_tree_entropy.fit(x_train,\"entropy\",max_depth=4)\n",
    "# pred_dt_entropy = decision_tree_entropy.predict(x_test)\n"
   ]
  },
  {
   "cell_type": "code",
   "execution_count": 65,
   "metadata": {},
   "outputs": [],
   "source": [
    "decision_tree_gini = decision_tree()\n",
    "decision_tree_gini.fit(x_train,\"gini\")\n",
    "pred_dt_gini = decision_tree_gini.predict(x_test)\n",
    "\n",
    "decision_tree_miss = decision_tree()\n",
    "decision_tree_miss.fit(x_train,\"missclassification\",max_depth = 6)\n",
    "pred_dt_miss = decision_tree_miss.predict(x_test)\n",
    "\n",
    "decision_tree_entropy = decision_tree()\n",
    "decision_tree_entropy.fit(x_train,\"entropy\",max_depth=4)\n",
    "pred_dt_entropy = decision_tree_entropy.predict(x_test)"
   ]
  },
  {
   "cell_type": "markdown",
   "metadata": {
    "id": "KS_5y9sPFrYv"
   },
   "source": [
    "1. c) Report the accuracies in each of the above splitting metrics and give the best result. "
   ]
  },
  {
   "cell_type": "code",
   "execution_count": 74,
   "metadata": {
    "id": "1jDvTBgPHE19"
   },
   "outputs": [
    {
     "name": "stdout",
     "output_type": "stream",
     "text": [
      "Accuracy gini is  0.8685714285714285\n",
      "Accuracy missclassification is  0.9142857142857143\n",
      "Accuracy entropy is  0.8571428571428571\n",
      "[[120   2]\n",
      " [ 21  32]]\n",
      "[[119   3]\n",
      " [ 12  41]]\n",
      "[[118   4]\n",
      " [ 21  32]]\n"
     ]
    }
   ],
   "source": [
    "# from sklearn.metrics import mean_squared_error\n",
    "# from sklearn.metrics import mean_absolute_error\n",
    "# from sklearn.metrics import r2_score\n",
    "\n",
    "# mse_error_gini = mean_squared_error(pred_dt_gini,y_test,squared = False)\n",
    "# mae_error_gini = mean_absolute_error(pred_dt_gini,y_test)\n",
    "# r2_error_gini = r2_score(pred_dt_gini,y_test)\n",
    "\n",
    "# print(mae_error_gini,\" \",mae_error_gini,\" \",r2_error_gini)\n",
    "\n",
    "from sklearn.metrics import confusion_matrix\n",
    "from sklearn import metrics\n",
    "\n",
    "\n",
    "print(\"Accuracy gini is \",metrics.accuracy_score(y_test,pred_dt_gini))\n",
    "print(\"Accuracy missclassification is \",metrics.accuracy_score(y_test,pred_dt_miss))\n",
    "print(\"Accuracy entropy is \",metrics.accuracy_score(y_test,pred_dt_entropy))\n",
    "print(confusion_matrix(y_test,pred_dt_gini))\n",
    "print(confusion_matrix(y_test,pred_dt_miss))\n",
    "print(confusion_matrix(y_test,pred_dt_entropy))\n"
   ]
  },
  {
   "cell_type": "markdown",
   "metadata": {
    "id": "CotPmJDKHD0c"
   },
   "source": [
    "1. d) Experiment with different approaches to decide when to terminate the tree(number of layers, purity measure, etc). Report and give explanations for all approaches. "
   ]
  },
  {
   "cell_type": "code",
   "execution_count": null,
   "metadata": {
    "id": "n_PJLrIUHZEm"
   },
   "outputs": [],
   "source": [
    "As the number of layers or the depth of the tree increases , I'm observing that the accuracy is increasing."
   ]
  },
  {
   "cell_type": "markdown",
   "metadata": {
    "id": "E3BO_sxvHZ3m"
   },
   "source": [
    "1. e) Does standardisation and normalisation help in this case? Report"
   ]
  },
  {
   "cell_type": "markdown",
   "metadata": {
    "id": "bsox4fb5H0vO"
   },
   "source": [
    "Answer: No . Standardisation and normalisation doesn't help in this case"
   ]
  },
  {
   "cell_type": "markdown",
   "metadata": {
    "id": "PcCvNmtvH84l"
   },
   "source": [
    "2. Compare your trained model with a model trained by the scikit-learn DecisionTreeClassifier module. Compare accuracies."
   ]
  },
  {
   "cell_type": "code",
   "execution_count": 73,
   "metadata": {
    "id": "OzSDqUoNHaOg"
   },
   "outputs": [
    {
     "name": "stdout",
     "output_type": "stream",
     "text": [
      "Accuracy is  0.9542857142857143\n"
     ]
    }
   ],
   "source": [
    "from sklearn.tree import DecisionTreeClassifier\n",
    "sk_dt = DecisionTreeClassifier()\n",
    "x_new_train = x_train.iloc[:,:-1]\n",
    "sk_dt = sk_dt.fit(x_new_train,y_train)\n",
    "sk_dt_pred = sk_dt.predict(x_test)\n",
    "\n",
    "print(\"Accuracy is \",metrics.accuracy_score(y_test,sk_dt_pred))\n"
   ]
  },
  {
   "cell_type": "markdown",
   "metadata": {
    "id": "TXOy8NUqIHlh"
   },
   "source": [
    "3. Output a depth first traversal of your decision tree in a file named ```outputimp.txt``` respectively in the following format and submit it along with the assignment.\n",
    "\n",
    "\n",
    "```\n",
    "<Node classification criteria in words.>\n",
    "<Branch label>\n",
    "  ... And so on, recursively.\n",
    "```\n",
    " \n",
    "For example,\n",
    "a depth first search traversal for the below decision tree would be:\n",
    "\n",
    "![Decision tree (4).png](data:image/png;base64,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)\n",
    "```\n",
    "Is A>5?\n",
    "True Branch\n",
    "  Is B>10?\n",
    "  True Branch\n",
    "    Versicolor\n",
    "  Is B>10?\n",
    "  False Branch\n",
    "    Setosa\n",
    "Is A>5?\n",
    "False Branch\n",
    "\tVirginica\n",
    "\n",
    "```\n",
    "\n",
    "\n"
   ]
  },
  {
   "cell_type": "code",
   "execution_count": 67,
   "metadata": {
    "id": "nvqtvFyFOZXF"
   },
   "outputs": [],
   "source": [
    "file1 = open(\"outputimp.txt\",\"w\")\n",
    "file1.write(\"Gini Index Tree\"+\"\\n\")\n",
    "decision_tree_gini.print_tree(file1)\n",
    "file1.write(\"\\n\"+\"Entropy Tree \"+\"\\n\")\n",
    "decision_tree_entropy.print_tree(file1)\n",
    "file1.write(\"\\n\"+\"Miss Classification Tree \"+\"\\n\")\n",
    "decision_tree_miss.print_tree(file1)\n",
    "file1.close()"
   ]
  },
  {
   "cell_type": "markdown",
   "metadata": {
    "id": "ZS1jGnaKOaG7"
   },
   "source": [
    "4. Experiment with removing features that are redundant, highly correlated with other features and report accuracies of the resulting model. Explain your approach."
   ]
  },
  {
   "cell_type": "code",
   "execution_count": 77,
   "metadata": {
    "id": "2vMLvn1UOZu7"
   },
   "outputs": [
    {
     "name": "stderr",
     "output_type": "stream",
     "text": [
      "<ipython-input-77-c73215719c1d>:5: SettingWithCopyWarning: \n",
      "A value is trying to be set on a copy of a slice from a DataFrame.\n",
      "Try using .loc[row_indexer,col_indexer] = value instead\n",
      "\n",
      "See the caveats in the documentation: https://pandas.pydata.org/pandas-docs/stable/user_guide/indexing.html#returning-a-view-versus-a-copy\n",
      "  x1_train['labels'] = y1_train\n"
     ]
    },
    {
     "name": "stdout",
     "output_type": "stream",
     "text": [
      "Accuracy gini is  0.56\n",
      "Accuracy missclassification is  0.92\n",
      "Accuracy entropy is  0.8628571428571429\n"
     ]
    }
   ],
   "source": [
    "x.corr()  # UCShape and UCSize are corelated \n",
    "\n",
    "x1,y1 = data.iloc[:,[0,1,3,4,5,6,7,8]],data.iloc[:,[-1]]\n",
    "x1_train,x1_test,y1_train,y1_test = train_test_split(x1,y1,test_size = 0.25)\n",
    "x1_train['labels'] = y1_train\n",
    "\n",
    "\n",
    "decision_tree_gini_1 = decision_tree()\n",
    "decision_tree_gini_1.fit(x1_train,\"gini\")\n",
    "pred_dt_gini_1 = decision_tree_gini_1.predict(x_test)\n",
    "\n",
    "decision_tree_miss_1 = decision_tree()\n",
    "decision_tree_miss_1.fit(x1_train,\"missclassification\",max_depth = 6)\n",
    "pred_dt_miss_1 = decision_tree_miss_1.predict(x1_test)\n",
    "\n",
    "decision_tree_entropy_1 = decision_tree()\n",
    "decision_tree_entropy_1.fit(x1_train,\"entropy\",max_depth=4)\n",
    "pred_dt_entropy_1 = decision_tree_entropy_1.predict(x1_test)\n",
    "\n",
    "\n",
    "print(\"Accuracy gini is \",metrics.accuracy_score(y1_test,pred_dt_gini_1))\n",
    "print(\"Accuracy missclassification is \",metrics.accuracy_score(y1_test,pred_dt_miss_1))\n",
    "print(\"Accuracy entropy is \",metrics.accuracy_score(y1_test,pred_dt_entropy_1))"
   ]
  },
  {
   "cell_type": "markdown",
   "metadata": {
    "id": "IrDwLUnaPdaQ"
   },
   "source": [
    "5. Report the advantages and disadvantages of decision trees based on the above question."
   ]
  },
  {
   "cell_type": "markdown",
   "metadata": {
    "id": "glMTM1WTPfwO"
   },
   "source": [
    "Answer: Advantages :- \n",
    "\n",
    "1] We don't have to worry about normalizing/scaling the data.\n",
    "2] Prediction of the new class is relatively faster when compared to KNN\n",
    "\n",
    "Disadvantages :- \n",
    "\n",
    "1] A small change in train_data can lead to a totally different decision tree.\n",
    "2] Training time for the decision tree is high."
   ]
  }
 ],
 "metadata": {
  "colab": {
   "collapsed_sections": [
    "6poNZp96z1gN"
   ],
   "name": "SMAI -Assignment1.ipynb",
   "provenance": []
  },
  "kernelspec": {
   "display_name": "Python 3",
   "language": "python",
   "name": "python3"
  },
  "language_info": {
   "codemirror_mode": {
    "name": "ipython",
    "version": 3
   },
   "file_extension": ".py",
   "mimetype": "text/x-python",
   "name": "python",
   "nbconvert_exporter": "python",
   "pygments_lexer": "ipython3",
   "version": "3.8.5"
  }
 },
 "nbformat": 4,
 "nbformat_minor": 1
}
